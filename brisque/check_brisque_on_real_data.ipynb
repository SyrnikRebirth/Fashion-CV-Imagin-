{
  "nbformat": 4,
  "nbformat_minor": 0,
  "metadata": {
    "colab": {
      "name": "Untitled4.ipynb",
      "provenance": [],
      "collapsed_sections": []
    },
    "kernelspec": {
      "name": "python3",
      "display_name": "Python 3"
    },
    "language_info": {
      "name": "python"
    },
    "widgets": {
      "application/vnd.jupyter.widget-state+json": {
        "1f31bf827f284d39bbfc02f08527b91b": {
          "model_module": "@jupyter-widgets/controls",
          "model_name": "HBoxModel",
          "state": {
            "_view_name": "HBoxView",
            "_dom_classes": [],
            "_model_name": "HBoxModel",
            "_view_module": "@jupyter-widgets/controls",
            "_model_module_version": "1.5.0",
            "_view_count": null,
            "_view_module_version": "1.5.0",
            "box_style": "",
            "layout": "IPY_MODEL_7cd1730f995b4e169dda218a8efc9e2c",
            "_model_module": "@jupyter-widgets/controls",
            "children": [
              "IPY_MODEL_9de2cd992a3540079a9fad62c36730ae",
              "IPY_MODEL_21ec39df3e1b46ababe4ff3404f11fa7"
            ]
          }
        },
        "7cd1730f995b4e169dda218a8efc9e2c": {
          "model_module": "@jupyter-widgets/base",
          "model_name": "LayoutModel",
          "state": {
            "_view_name": "LayoutView",
            "grid_template_rows": null,
            "right": null,
            "justify_content": null,
            "_view_module": "@jupyter-widgets/base",
            "overflow": null,
            "_model_module_version": "1.2.0",
            "_view_count": null,
            "flex_flow": null,
            "width": null,
            "min_width": null,
            "border": null,
            "align_items": null,
            "bottom": null,
            "_model_module": "@jupyter-widgets/base",
            "top": null,
            "grid_column": null,
            "overflow_y": null,
            "overflow_x": null,
            "grid_auto_flow": null,
            "grid_area": null,
            "grid_template_columns": null,
            "flex": null,
            "_model_name": "LayoutModel",
            "justify_items": null,
            "grid_row": null,
            "max_height": null,
            "align_content": null,
            "visibility": null,
            "align_self": null,
            "height": null,
            "min_height": null,
            "padding": null,
            "grid_auto_rows": null,
            "grid_gap": null,
            "max_width": null,
            "order": null,
            "_view_module_version": "1.2.0",
            "grid_template_areas": null,
            "object_position": null,
            "object_fit": null,
            "grid_auto_columns": null,
            "margin": null,
            "display": null,
            "left": null
          }
        },
        "9de2cd992a3540079a9fad62c36730ae": {
          "model_module": "@jupyter-widgets/controls",
          "model_name": "FloatProgressModel",
          "state": {
            "_view_name": "ProgressView",
            "style": "IPY_MODEL_2605c65a1ee7466a853c497cecc4cea4",
            "_dom_classes": [],
            "description": "100%",
            "_model_name": "FloatProgressModel",
            "bar_style": "success",
            "max": 114997,
            "_view_module": "@jupyter-widgets/controls",
            "_model_module_version": "1.5.0",
            "value": 114997,
            "_view_count": null,
            "_view_module_version": "1.5.0",
            "orientation": "horizontal",
            "min": 0,
            "description_tooltip": null,
            "_model_module": "@jupyter-widgets/controls",
            "layout": "IPY_MODEL_0b01f241bb2a4fa88d665a3a4f322257"
          }
        },
        "21ec39df3e1b46ababe4ff3404f11fa7": {
          "model_module": "@jupyter-widgets/controls",
          "model_name": "HTMLModel",
          "state": {
            "_view_name": "HTMLView",
            "style": "IPY_MODEL_e1daa1050fae47ed804cfb337a792874",
            "_dom_classes": [],
            "description": "",
            "_model_name": "HTMLModel",
            "placeholder": "​",
            "_view_module": "@jupyter-widgets/controls",
            "_model_module_version": "1.5.0",
            "value": " 112k/112k [1:02:21&lt;00:00, 30.7B/s]",
            "_view_count": null,
            "_view_module_version": "1.5.0",
            "description_tooltip": null,
            "_model_module": "@jupyter-widgets/controls",
            "layout": "IPY_MODEL_65a6debdbd684292a178ef89e85967b3"
          }
        },
        "2605c65a1ee7466a853c497cecc4cea4": {
          "model_module": "@jupyter-widgets/controls",
          "model_name": "ProgressStyleModel",
          "state": {
            "_view_name": "StyleView",
            "_model_name": "ProgressStyleModel",
            "description_width": "initial",
            "_view_module": "@jupyter-widgets/base",
            "_model_module_version": "1.5.0",
            "_view_count": null,
            "_view_module_version": "1.2.0",
            "bar_color": null,
            "_model_module": "@jupyter-widgets/controls"
          }
        },
        "0b01f241bb2a4fa88d665a3a4f322257": {
          "model_module": "@jupyter-widgets/base",
          "model_name": "LayoutModel",
          "state": {
            "_view_name": "LayoutView",
            "grid_template_rows": null,
            "right": null,
            "justify_content": null,
            "_view_module": "@jupyter-widgets/base",
            "overflow": null,
            "_model_module_version": "1.2.0",
            "_view_count": null,
            "flex_flow": null,
            "width": null,
            "min_width": null,
            "border": null,
            "align_items": null,
            "bottom": null,
            "_model_module": "@jupyter-widgets/base",
            "top": null,
            "grid_column": null,
            "overflow_y": null,
            "overflow_x": null,
            "grid_auto_flow": null,
            "grid_area": null,
            "grid_template_columns": null,
            "flex": null,
            "_model_name": "LayoutModel",
            "justify_items": null,
            "grid_row": null,
            "max_height": null,
            "align_content": null,
            "visibility": null,
            "align_self": null,
            "height": null,
            "min_height": null,
            "padding": null,
            "grid_auto_rows": null,
            "grid_gap": null,
            "max_width": null,
            "order": null,
            "_view_module_version": "1.2.0",
            "grid_template_areas": null,
            "object_position": null,
            "object_fit": null,
            "grid_auto_columns": null,
            "margin": null,
            "display": null,
            "left": null
          }
        },
        "e1daa1050fae47ed804cfb337a792874": {
          "model_module": "@jupyter-widgets/controls",
          "model_name": "DescriptionStyleModel",
          "state": {
            "_view_name": "StyleView",
            "_model_name": "DescriptionStyleModel",
            "description_width": "",
            "_view_module": "@jupyter-widgets/base",
            "_model_module_version": "1.5.0",
            "_view_count": null,
            "_view_module_version": "1.2.0",
            "_model_module": "@jupyter-widgets/controls"
          }
        },
        "65a6debdbd684292a178ef89e85967b3": {
          "model_module": "@jupyter-widgets/base",
          "model_name": "LayoutModel",
          "state": {
            "_view_name": "LayoutView",
            "grid_template_rows": null,
            "right": null,
            "justify_content": null,
            "_view_module": "@jupyter-widgets/base",
            "overflow": null,
            "_model_module_version": "1.2.0",
            "_view_count": null,
            "flex_flow": null,
            "width": null,
            "min_width": null,
            "border": null,
            "align_items": null,
            "bottom": null,
            "_model_module": "@jupyter-widgets/base",
            "top": null,
            "grid_column": null,
            "overflow_y": null,
            "overflow_x": null,
            "grid_auto_flow": null,
            "grid_area": null,
            "grid_template_columns": null,
            "flex": null,
            "_model_name": "LayoutModel",
            "justify_items": null,
            "grid_row": null,
            "max_height": null,
            "align_content": null,
            "visibility": null,
            "align_self": null,
            "height": null,
            "min_height": null,
            "padding": null,
            "grid_auto_rows": null,
            "grid_gap": null,
            "max_width": null,
            "order": null,
            "_view_module_version": "1.2.0",
            "grid_template_areas": null,
            "object_position": null,
            "object_fit": null,
            "grid_auto_columns": null,
            "margin": null,
            "display": null,
            "left": null
          }
        }
      }
    }
  },
  "cells": [
    {
      "cell_type": "code",
      "metadata": {
        "colab": {
          "base_uri": "https://localhost:8080/"
        },
        "id": "7V-Obo1BjOD3",
        "outputId": "e307a05d-2f71-49b5-e9d7-6d149d0b5d45"
      },
      "source": [
        "from google.colab import drive\n",
        "drive.mount('/content/drive')"
      ],
      "execution_count": null,
      "outputs": [
        {
          "output_type": "stream",
          "text": [
            "Drive already mounted at /content/drive; to attempt to forcibly remount, call drive.mount(\"/content/drive\", force_remount=True).\n"
          ],
          "name": "stdout"
        }
      ]
    },
    {
      "cell_type": "code",
      "metadata": {
        "id": "ByI0R6bm0Pp6"
      },
      "source": [
        ""
      ],
      "execution_count": null,
      "outputs": []
    },
    {
      "cell_type": "code",
      "metadata": {
        "id": "J_V2LD5S0QHh"
      },
      "source": [
        ""
      ],
      "execution_count": null,
      "outputs": []
    },
    {
      "cell_type": "code",
      "metadata": {
        "colab": {
          "base_uri": "https://localhost:8080/"
        },
        "id": "V-nmFZEn1stw",
        "outputId": "bd884adb-1b49-4b8a-b77c-7ebe1391677c"
      },
      "source": [
        "%ls"
      ],
      "execution_count": null,
      "outputs": [
        {
          "output_type": "stream",
          "text": [
            "\u001b[0m\u001b[01;34mdrive\u001b[0m/  \u001b[01;34msample_data\u001b[0m/\n"
          ],
          "name": "stdout"
        }
      ]
    },
    {
      "cell_type": "code",
      "metadata": {
        "colab": {
          "base_uri": "https://localhost:8080/"
        },
        "id": "znOes8hJ1s5X",
        "outputId": "581b4e34-a750-4300-9bbc-003cd579756d"
      },
      "source": [
        "% cd drive/MyDrive/"
      ],
      "execution_count": null,
      "outputs": [
        {
          "output_type": "stream",
          "text": [
            "/content/drive/MyDrive\n"
          ],
          "name": "stdout"
        }
      ]
    },
    {
      "cell_type": "code",
      "metadata": {
        "id": "omGXE0TQjOwl"
      },
      "source": [
        "import glob"
      ],
      "execution_count": null,
      "outputs": []
    },
    {
      "cell_type": "code",
      "metadata": {
        "id": "ms7pvsL-jiOo"
      },
      "source": [
        "list_of_all_imges = glob.glob('ColortypesDone[1-4]/*/*.jpg')"
      ],
      "execution_count": null,
      "outputs": []
    },
    {
      "cell_type": "code",
      "metadata": {
        "colab": {
          "base_uri": "https://localhost:8080/",
          "height": 35
        },
        "id": "lBzCPr8Jjkku",
        "outputId": "47b1b4c1-ca47-4cc1-c06e-9c6c28880995"
      },
      "source": [
        "list_of_all_imges[0]"
      ],
      "execution_count": null,
      "outputs": [
        {
          "output_type": "execute_result",
          "data": {
            "application/vnd.google.colaboratory.intrinsic+json": {
              "type": "string"
            },
            "text/plain": [
              "'ColortypesDone3/spring/00003684.jpg'"
            ]
          },
          "metadata": {
            "tags": []
          },
          "execution_count": 6
        }
      ]
    },
    {
      "cell_type": "code",
      "metadata": {
        "colab": {
          "base_uri": "https://localhost:8080/"
        },
        "id": "H2ejkA6Bp7nP",
        "outputId": "6dbca8de-0f8c-4ac8-a850-fb7efa031dec"
      },
      "source": [
        "! pip install piq"
      ],
      "execution_count": null,
      "outputs": [
        {
          "output_type": "stream",
          "text": [
            "Collecting piq\n",
            "\u001b[?25l  Downloading https://files.pythonhosted.org/packages/64/a2/c4ef48a8ed230ad1185de933ce466fb1204cba8cda6896a5c304a5e2db84/piq-0.5.4-py3-none-any.whl (102kB)\n",
            "\r\u001b[K     |███▏                            | 10kB 16.5MB/s eta 0:00:01\r\u001b[K     |██████▍                         | 20kB 21.5MB/s eta 0:00:01\r\u001b[K     |█████████▋                      | 30kB 14.0MB/s eta 0:00:01\r\u001b[K     |████████████▊                   | 40kB 11.0MB/s eta 0:00:01\r\u001b[K     |████████████████                | 51kB 8.1MB/s eta 0:00:01\r\u001b[K     |███████████████████▏            | 61kB 8.8MB/s eta 0:00:01\r\u001b[K     |██████████████████████▎         | 71kB 9.3MB/s eta 0:00:01\r\u001b[K     |█████████████████████████▌      | 81kB 9.1MB/s eta 0:00:01\r\u001b[K     |████████████████████████████▊   | 92kB 8.8MB/s eta 0:00:01\r\u001b[K     |███████████████████████████████▉| 102kB 8.8MB/s eta 0:00:01\r\u001b[K     |████████████████████████████████| 112kB 8.8MB/s \n",
            "\u001b[?25hRequirement already satisfied: torchvision>=0.4.0 in /usr/local/lib/python3.7/dist-packages (from piq) (0.9.1+cu101)\n",
            "Collecting gudhi>=3.2\n",
            "\u001b[?25l  Downloading https://files.pythonhosted.org/packages/cb/71/e70015e0f547debe64901775202aa0e53231907a60850bb8d86ce8a31453/gudhi-3.4.1-cp37-cp37m-manylinux2014_x86_64.whl (28.1MB)\n",
            "\u001b[K     |████████████████████████████████| 28.1MB 142kB/s \n",
            "\u001b[?25hRequirement already satisfied: scipy>=1.3.3 in /usr/local/lib/python3.7/dist-packages (from piq) (1.4.1)\n",
            "Requirement already satisfied: torch==1.8.1 in /usr/local/lib/python3.7/dist-packages (from torchvision>=0.4.0->piq) (1.8.1+cu101)\n",
            "Requirement already satisfied: numpy in /usr/local/lib/python3.7/dist-packages (from torchvision>=0.4.0->piq) (1.19.5)\n",
            "Requirement already satisfied: pillow>=4.1.1 in /usr/local/lib/python3.7/dist-packages (from torchvision>=0.4.0->piq) (7.1.2)\n",
            "Requirement already satisfied: typing-extensions in /usr/local/lib/python3.7/dist-packages (from torch==1.8.1->torchvision>=0.4.0->piq) (3.7.4.3)\n",
            "Installing collected packages: gudhi, piq\n",
            "Successfully installed gudhi-3.4.1 piq-0.5.4\n"
          ],
          "name": "stdout"
        }
      ]
    },
    {
      "cell_type": "code",
      "metadata": {
        "id": "9U19Nqqvowsq"
      },
      "source": [
        "import torch\n",
        "import piq\n",
        "from skimage.io import imread"
      ],
      "execution_count": null,
      "outputs": []
    },
    {
      "cell_type": "code",
      "metadata": {
        "id": "TlXEWxYbrKXq"
      },
      "source": [
        "list_of_all_images_quality_assesments = [] "
      ],
      "execution_count": null,
      "outputs": []
    },
    {
      "cell_type": "code",
      "metadata": {
        "colab": {
          "base_uri": "https://localhost:8080/",
          "height": 84,
          "referenced_widgets": [
            "1f31bf827f284d39bbfc02f08527b91b",
            "7cd1730f995b4e169dda218a8efc9e2c",
            "9de2cd992a3540079a9fad62c36730ae",
            "21ec39df3e1b46ababe4ff3404f11fa7",
            "2605c65a1ee7466a853c497cecc4cea4",
            "0b01f241bb2a4fa88d665a3a4f322257",
            "e1daa1050fae47ed804cfb337a792874",
            "65a6debdbd684292a178ef89e85967b3"
          ]
        },
        "id": "D4QpEoYxqIhc",
        "outputId": "e4e8efd7-3eee-404b-9f63-94113ba296a5"
      },
      "source": [
        "for image_name in list_of_all_imges:\n",
        "  image = torch.tensor(imread(image_name)).permute(2, 0, 1) / 255.\n",
        "\n",
        "  brisque_index: torch.Tensor = piq.brisque(image, data_range=1., reduction='mean')\n",
        "\n",
        "  list_of_all_images_quality_assesments.append([image_name, brisque_index.item()])\n"
      ],
      "execution_count": null,
      "outputs": [
        {
          "output_type": "stream",
          "text": [
            "Downloading: \"https://github.com/photosynthesis-team/piq/releases/download/v0.4.0/brisque_svm_weights.pt\" to /root/.cache/torch/hub/checkpoints/brisque_svm_weights.pt\n"
          ],
          "name": "stderr"
        },
        {
          "output_type": "display_data",
          "data": {
            "application/vnd.jupyter.widget-view+json": {
              "model_id": "1f31bf827f284d39bbfc02f08527b91b",
              "version_minor": 0,
              "version_major": 2
            },
            "text/plain": [
              "HBox(children=(FloatProgress(value=0.0, max=114997.0), HTML(value='')))"
            ]
          },
          "metadata": {
            "tags": []
          }
        },
        {
          "output_type": "stream",
          "text": [
            "\n"
          ],
          "name": "stdout"
        }
      ]
    },
    {
      "cell_type": "code",
      "metadata": {
        "id": "1gHmc4jBjoW_"
      },
      "source": [
        "list_of_all_images_quality_assesments = torch.load('list_of_all_images_quality_assesments.txt')"
      ],
      "execution_count": null,
      "outputs": []
    },
    {
      "cell_type": "code",
      "metadata": {
        "colab": {
          "base_uri": "https://localhost:8080/"
        },
        "id": "uVpKWOuk3jpO",
        "outputId": "eb799163-f196-488a-9561-f6362cbaa0e9"
      },
      "source": [
        "list_of_all_images_quality_assesments"
      ],
      "execution_count": null,
      "outputs": [
        {
          "output_type": "execute_result",
          "data": {
            "text/plain": [
              "[['ColortypesDone3/spring/00003684.jpg', 69.52313232421875],\n",
              " ['ColortypesDone3/spring/00007582.jpg', 36.79461669921875],\n",
              " ['ColortypesDone3/spring/00009974.jpg', 56.43817138671875],\n",
              " ['ColortypesDone3/spring/00003322.jpg', 83.06463623046875],\n",
              " ['ColortypesDone3/spring/00000359.jpg', 46.54119873046875],\n",
              " ['ColortypesDone3/spring/00012985.jpg', 44.94305419921875],\n",
              " ['ColortypesDone3/spring/00011297.jpg', 35.41180419921875],\n",
              " ['ColortypesDone3/spring/00012211.jpg', 48.59442138671875],\n",
              " ['ColortypesDone3/spring/00007345.jpg', 80.79412841796875],\n",
              " ['ColortypesDone3/spring/00005230.jpg', 50.10516357421875],\n",
              " ['ColortypesDone3/spring/00010365.jpg', 63.20721435546875],\n",
              " ['ColortypesDone3/spring/00003523.jpg', 60.10174560546875],\n",
              " ['ColortypesDone3/spring/00001651.jpg', 54.94549560546875],\n",
              " ['ColortypesDone3/spring/00004846.jpg', 55.02264404296875],\n",
              " ['ColortypesDone3/spring/00012981.jpg', 41.75848388671875],\n",
              " ['ColortypesDone3/spring/00004313.jpg', 43.87127685546875],\n",
              " ['ColortypesDone3/spring/00006699.jpg', 31.22625732421875],\n",
              " ['ColortypesDone3/spring/00008851.jpg', 55.92596435546875],\n",
              " ['ColortypesDone3/spring/00007960.jpg', 69.69989013671875],\n",
              " ['ColortypesDone3/spring/00011234.jpg', 44.25653076171875],\n",
              " ['ColortypesDone3/spring/00000311.jpg', 53.27410888671875],\n",
              " ['ColortypesDone3/spring/00006562.jpg', 30.91815185546875],\n",
              " ['ColortypesDone3/spring/00005916.jpg', 81.91815185546875],\n",
              " ['ColortypesDone3/spring/00011803.jpg', 81.91375732421875],\n",
              " ['ColortypesDone3/spring/00008599.jpg', 43.15155029296875],\n",
              " ['ColortypesDone3/spring/00009334.jpg', 54.83172607421875],\n",
              " ['ColortypesDone3/spring/00005524.jpg', 46.28436279296875],\n",
              " ['ColortypesDone3/spring/00008835.jpg', 41.42401123046875],\n",
              " ['ColortypesDone3/spring/00005900.jpg', 55.88201904296875],\n",
              " ['ColortypesDone3/spring/00013390.jpg', 24.31072998046875],\n",
              " ['ColortypesDone3/spring/00005521.jpg', 42.64324951171875],\n",
              " ['ColortypesDone3/spring/00012667.jpg', 42.96746826171875],\n",
              " ['ColortypesDone3/spring/00011186.jpg', 39.82342529296875],\n",
              " ['ColortypesDone3/spring/00005911.jpg', 81.91815185546875],\n",
              " ['ColortypesDone3/spring/00001023.jpg', 73.29608154296875],\n",
              " ['ColortypesDone3/spring/00010660.jpg', 41.40203857421875],\n",
              " ['ColortypesDone3/spring/00012442.jpg', 56.86688232421875],\n",
              " ['ColortypesDone3/spring/00006184.jpg', 111.76483154296875],\n",
              " ['ColortypesDone3/spring/00009895.jpg', 39.67449951171875],\n",
              " ['ColortypesDone3/spring/00011016.jpg', 34.51727294921875],\n",
              " ['ColortypesDone3/spring/00011564.jpg', 41.61785888671875],\n",
              " ['ColortypesDone3/spring/00010733.jpg', 48.65643310546875],\n",
              " ['ColortypesDone3/spring/00010874.jpg', 45.96063232421875],\n",
              " ['ColortypesDone3/spring/00005510.jpg', 43.84002685546875],\n",
              " ['ColortypesDone3/spring/00010441.jpg', 48.44158935546875],\n",
              " ['ColortypesDone3/spring/00007673.jpg', 30.59637451171875],\n",
              " ['ColortypesDone3/spring/00003560.jpg', 36.78973388671875],\n",
              " ['ColortypesDone3/spring/00007670.jpg', 30.59637451171875],\n",
              " ['ColortypesDone3/spring/00006340.jpg', 23.93328857421875],\n",
              " ['ColortypesDone3/spring/00007512.jpg', 34.99432373046875],\n",
              " ['ColortypesDone3/spring/00007881.jpg', 93.50653076171875],\n",
              " ['ColortypesDone3/spring/00009377.jpg', 42.98797607421875],\n",
              " ['ColortypesDone3/spring/00010592.jpg', 74.32977294921875],\n",
              " ['ColortypesDone3/spring/00009412.jpg', 74.13397216796875],\n",
              " ['ColortypesDone3/spring/00002355.jpg', 30.10174560546875],\n",
              " ['ColortypesDone3/spring/00010422.jpg', 48.05096435546875],\n",
              " ['ColortypesDone3/spring/00004523.jpg', 52.01385498046875],\n",
              " ['ColortypesDone3/spring/00001329.jpg', 36.77215576171875],\n",
              " ['ColortypesDone3/spring/00007161.jpg', 30.85565185546875],\n",
              " ['ColortypesDone3/spring/00007029.jpg', 44.65106201171875],\n",
              " ['ColortypesDone3/mixed/00011526.jpg', 44.51824951171875],\n",
              " ['ColortypesDone3/mixed/00006852.jpg', 65.67156982421875],\n",
              " ['ColortypesDone3/mixed/00006113.jpg', 37.50799560546875],\n",
              " ['ColortypesDone3/mixed/00010765.jpg', 63.48455810546875],\n",
              " ['ColortypesDone3/mixed/00011321.jpg', 54.36395263671875],\n",
              " ['ColortypesDone3/mixed/00008260.jpg', 64.70135498046875],\n",
              " ['ColortypesDone3/mixed/00007147.jpg', 58.04412841796875],\n",
              " ['ColortypesDone3/mixed/00012002.jpg', 38.81854248046875],\n",
              " ['ColortypesDone3/mixed/00012994.jpg', 57.67449951171875],\n",
              " ['ColortypesDone3/mixed/00012599.jpg', 60.06414794921875],\n",
              " ['ColortypesDone3/mixed/00010577.jpg', 29.08612060546875],\n",
              " ['ColortypesDone3/mixed/00008338.jpg', 39.59930419921875],\n",
              " ['ColortypesDone3/mixed/00011133.jpg', 41.99090576171875],\n",
              " ['ColortypesDone3/mixed/00009768.jpg', 36.45819091796875],\n",
              " ['ColortypesDone3/mixed/00007221.jpg', 41.81951904296875],\n",
              " ['ColortypesDone3/mixed/00006856.jpg', 51.61932373046875],\n",
              " ['ColortypesDone3/mixed/00007988.jpg', 74.36346435546875],\n",
              " ['ColortypesDone3/mixed/00009806.jpg', 79.04412841796875],\n",
              " ['ColortypesDone3/mixed/00012229.jpg', 40.47967529296875],\n",
              " ['ColortypesDone3/mixed/00008259.jpg', 66.49237060546875],\n",
              " ['ColortypesDone3/mixed/00013479.jpg', 64.61590576171875],\n",
              " ['ColortypesDone3/mixed/00011520.jpg', 45.76580810546875],\n",
              " ['ColortypesDone3/mixed/00013281.jpg', 83.41375732421875],\n",
              " ['ColortypesDone3/mixed/00007747.jpg', 94.18377685546875],\n",
              " ['ColortypesDone3/mixed/00013322.jpg', 38.84490966796875],\n",
              " ['ColortypesDone3/mixed/00010880.jpg', 61.26580810546875],\n",
              " ['ColortypesDone3/mixed/00010664.jpg', 39.20721435546875],\n",
              " ['ColortypesDone3/mixed/00011022.jpg', 71.82830810546875],\n",
              " ['ColortypesDone3/mixed/00013594.jpg', 31.04315185546875],\n",
              " ['ColortypesDone3/mixed/00007655.jpg', 61.20330810546875],\n",
              " ['ColortypesDone3/mixed/00013391.jpg', 45.83807373046875],\n",
              " ['ColortypesDone3/mixed/00006978.jpg', 41.15789794921875],\n",
              " ['ColortypesDone3/mixed/00013024.jpg', 42.48162841796875],\n",
              " ['ColortypesDone3/mixed/00007079.jpg', 55.97088623046875],\n",
              " ['ColortypesDone3/mixed/00006603.jpg', 70.14666748046875],\n",
              " ['ColortypesDone3/mixed/00006830.jpg', 32.73358154296875],\n",
              " ['ColortypesDone3/mixed/00006602.jpg', 39.32733154296875],\n",
              " ['ColortypesDone3/mixed/00007722.jpg', 59.43133544921875],\n",
              " ['ColortypesDone3/mixed/00011949.jpg', 78.12957763671875],\n",
              " ['ColortypesDone3/mixed/00007681.jpg', 45.15057373046875],\n",
              " ['ColortypesDone3/mixed/00010699.jpg', 43.32635498046875],\n",
              " ['ColortypesDone3/mixed/00013409.jpg', 74.13250732421875],\n",
              " ['ColortypesDone3/mixed/00012071.jpg', 36.50408935546875],\n",
              " ['ColortypesDone3/mixed/00010128.jpg', 50.21600341796875],\n",
              " ['ColortypesDone3/mixed/00013357.jpg', 35.20819091796875],\n",
              " ['ColortypesDone3/mixed/00006982.jpg', 52.91131591796875],\n",
              " ['ColortypesDone3/mixed/00007646.jpg', 60.38299560546875],\n",
              " ['ColortypesDone3/mixed/00006821.jpg', 32.73358154296875],\n",
              " ['ColortypesDone3/mixed/00012100.jpg', 85.20526123046875],\n",
              " ['ColortypesDone3/mixed/00006439.jpg', 55.35906982421875],\n",
              " ['ColortypesDone3/mixed/00013368.jpg', 73.30389404296875],\n",
              " ['ColortypesDone3/mixed/00008760.jpg', 53.68182373046875],\n",
              " ['ColortypesDone3/mixed/00007687.jpg', 52.11151123046875],\n",
              " ['ColortypesDone3/mixed/00006016.jpg', 56.18426513671875],\n",
              " ['ColortypesDone3/mixed/00007305.jpg', 72.88201904296875],\n",
              " ['ColortypesDone3/mixed/00010903.jpg', 46.33612060546875],\n",
              " ['ColortypesDone3/mixed/00013403.jpg', 35.03387451171875],\n",
              " ['ColortypesDone3/mixed/00007662.jpg', 61.20330810546875],\n",
              " ['ColortypesDone3/mixed/00006554.jpg', 49.57830810546875],\n",
              " ['ColortypesDone3/mixed/00010040.jpg', 43.70233154296875],\n",
              " ['ColortypesDone3/mixed/00006151.jpg', 45.50994873046875],\n",
              " ['ColortypesDone3/mixed/00007717.jpg', 71.44207763671875],\n",
              " ['ColortypesDone3/mixed/00010445.jpg', 43.25799560546875],\n",
              " ['ColortypesDone3/mixed/00006964.jpg', 49.99774169921875],\n",
              " ['ColortypesDone3/mixed/00007313.jpg', 72.88201904296875],\n",
              " ['ColortypesDone3/mixed/00009716.jpg', 37.67352294921875],\n",
              " ['ColortypesDone3/mixed/00009272.jpg', 114.83270263671875],\n",
              " ['ColortypesDone3/mixed/00009299.jpg', 39.32489013671875],\n",
              " ['ColortypesDone3/mixed/00008151.jpg', 48.29559326171875],\n",
              " ['ColortypesDone3/mixed/00009501.jpg', 46.83856201171875],\n",
              " ['ColortypesDone3/mixed/00010736.jpg', 78.24871826171875],\n",
              " ['ColortypesDone3/mixed/00011951.jpg', 80.76629638671875],\n",
              " ['ColortypesDone3/mixed/00007062.jpg', 41.98944091796875],\n",
              " ['ColortypesDone3/mixed/00008345.jpg', 39.59930419921875],\n",
              " ['ColortypesDone3/mixed/00007513.jpg', 43.95281982421875],\n",
              " ['ColortypesDone3/mixed/00010735.jpg', 86.98944091796875],\n",
              " ['ColortypesDone3/mixed/00013016.jpg', 40.30877685546875],\n",
              " ['ColortypesDone3/mixed/00009853.jpg', 34.18377685546875],\n",
              " ['ColortypesDone3/mixed/00010133.jpg', 50.21600341796875],\n",
              " ['ColortypesDone3/mixed/00008109.jpg', 58.61346435546875],\n",
              " ['ColortypesDone3/mixed/00008108.jpg', 46.49530029296875],\n",
              " ['ColortypesDone3/mixed/00006284.jpg', 35.96160888671875],\n",
              " ['ColortypesDone3/mixed/00009835.jpg', 60.49530029296875],\n",
              " ['ColortypesDone3/mixed/00012554.jpg', 28.26434326171875],\n",
              " ['ColortypesDone3/mixed/00006509.jpg', 53.12713623046875],\n",
              " ['ColortypesDone3/mixed/00006086.jpg', 30.05975341796875],\n",
              " ['ColortypesDone3/mixed/00008718.jpg', 40.18328857421875],\n",
              " ['ColortypesDone3/mixed/00007615.jpg', 27.34979248046875],\n",
              " ['ColortypesDone3/mixed/00013270.jpg', 55.29705810546875],\n",
              " ['ColortypesDone3/mixed/00009215.jpg', 56.58319091796875],\n",
              " ['ColortypesDone3/mixed/00009229.jpg', 48.25213623046875],\n",
              " ['ColortypesDone3/mixed/00009003.jpg', 41.82244873046875],\n",
              " ['ColortypesDone3/mixed/00012989.jpg', 74.28582763671875],\n",
              " ['ColortypesDone3/mixed/00010620.jpg', 57.34490966796875],\n",
              " ['ColortypesDone3/mixed/00012355.jpg', 46.32635498046875],\n",
              " ['ColortypesDone3/mixed/00006687.jpg', 50.68475341796875],\n",
              " ['ColortypesDone3/mixed/00008654.jpg', 65.71795654296875],\n",
              " ['ColortypesDone3/mixed/00008044.jpg', 47.32537841796875],\n",
              " ['ColortypesDone3/mixed/00009616.jpg', 46.32244873046875],\n",
              " ['ColortypesDone3/mixed/00009825.jpg', 38.61053466796875],\n",
              " ['ColortypesDone3/mixed/00012342.jpg', 45.25018310546875],\n",
              " ['ColortypesDone3/mixed/00012343.jpg', 46.13836669921875],\n",
              " ['ColortypesDone3/mixed/00010636.jpg', 56.61834716796875],\n",
              " ['ColortypesDone3/mixed/00000733.jpg', 53.93133544921875],\n",
              " ['ColortypesDone3/mixed/00001856.jpg', 56.43231201171875],\n",
              " ['ColortypesDone3/mixed/00002291.jpg', 62.65692138671875],\n",
              " ['ColortypesDone3/mixed/00001839.jpg', 72.60906982421875],\n",
              " ['ColortypesDone3/mixed/00001373.jpg', 39.22674560546875],\n",
              " ['ColortypesDone3/mixed/00000628.jpg', 36.79754638671875],\n",
              " ['ColortypesDone3/mixed/00002326.jpg', 58.18865966796875],\n",
              " ['ColortypesDone3/mixed/00002599.jpg', 68.26434326171875],\n",
              " ['ColortypesDone3/mixed/00002657.jpg', 54.08514404296875],\n",
              " ['ColortypesDone3/mixed/00002711.jpg', 90.24041748046875],\n",
              " ['ColortypesDone3/mixed/00003616.jpg', 41.43280029296875],\n",
              " ['ColortypesDone3/mixed/00003135.jpg', 55.40936279296875],\n",
              " ['ColortypesDone3/mixed/00003000.jpg', 151.77655029296875],\n",
              " ['ColortypesDone3/mixed/00003638.jpg', 56.42156982421875],\n",
              " ['ColortypesDone3/mixed/00003370.jpg', 62.55780029296875],\n",
              " ['ColortypesDone3/mixed/00003237.jpg', 100.59246826171875],\n",
              " ['ColortypesDone3/mixed/00003628.jpg', 45.41033935546875],\n",
              " ['ColortypesDone3/mixed/00003774.jpg', 74.34979248046875],\n",
              " ['ColortypesDone3/mixed/00004091.jpg', 45.45330810546875],\n",
              " ['ColortypesDone3/mixed/00004076.jpg', 37.96990966796875],\n",
              " ['ColortypesDone3/mixed/00004237.jpg', 33.42694091796875],\n",
              " ['ColortypesDone3/mixed/00004467.jpg', 39.98065185546875],\n",
              " ['ColortypesDone3/mixed/00005064.jpg', 77.47723388671875],\n",
              " ['ColortypesDone3/mixed/00004526.jpg', 43.91326904296875],\n",
              " ['ColortypesDone3/mixed/00005087.jpg', 76.69989013671875],\n",
              " ['ColortypesDone3/mixed/00005360.jpg', 43.64569091796875],\n",
              " ['ColortypesDone3/mixed/00005438.jpg', 54.93377685546875],\n",
              " ['ColortypesDone3/mixed/00005362.jpg', 41.28338623046875],\n",
              " ['ColortypesDone3/mixed/00005257.jpg', 64.04705810546875],\n",
              " ['ColortypesDone3/mixed/00005079.jpg', 89.97698974609375],\n",
              " ['ColortypesDone3/mixed/00005641.jpg', 72.43475341796875],\n",
              " ['ColortypesDone3/mixed/00005550.jpg', 90.84197998046875],\n",
              " ['ColortypesDone3/mixed/00005439.jpg', 55.41229248046875],\n",
              " ['ColortypesDone3/mixed/00005650.jpg', 72.43475341796875],\n",
              " ['ColortypesDone3/mixed/00005693.jpg', 71.62371826171875],\n",
              " ['ColortypesDone3/mixed/00005575.jpg', 64.81121826171875],\n",
              " ['ColortypesDone3/mixed/00005705.jpg', 66.46697998046875],\n",
              " ['ColortypesDone3/mixed/00005735.jpg', 62.41668701171875],\n",
              " ['ColortypesDone3/sumer/00005578.jpg', 52.52410888671875],\n",
              " ['ColortypesDone3/sumer/00009381.jpg', 49.02069091796875],\n",
              " ['ColortypesDone3/sumer/00009140.jpg', 48.57440185546875],\n",
              " ['ColortypesDone3/sumer/00011653.jpg', 59.80584716796875],\n",
              " ['ColortypesDone3/sumer/00003519.jpg', 46.45526123046875],\n",
              " ['ColortypesDone3/sumer/00004289.jpg', 45.71307373046875],\n",
              " ['ColortypesDone3/sumer/00006104.jpg', 42.18328857421875],\n",
              " ['ColortypesDone3/sumer/00009579.jpg', 46.36834716796875],\n",
              " ['ColortypesDone3/sumer/00002160.jpg', 38.02069091796875],\n",
              " ['ColortypesDone3/sumer/00000171.jpg', 110.12225341796875],\n",
              " ['ColortypesDone3/sumer/00012978.jpg', 37.86737060546875],\n",
              " ['ColortypesDone3/sumer/00002996.jpg', 45.43377685546875],\n",
              " ['ColortypesDone3/sumer/00010835.jpg', 55.80194091796875],\n",
              " ['ColortypesDone3/sumer/00004673.jpg', 49.30584716796875],\n",
              " ['ColortypesDone3/sumer/00003888.jpg', 74.39276123046875],\n",
              " ['ColortypesDone3/sumer/00010837.jpg', 33.50897216796875],\n",
              " ['ColortypesDone3/sumer/00009143.jpg', 42.35955810546875],\n",
              " ['ColortypesDone3/sumer/00012563.jpg', 42.37078857421875],\n",
              " ['ColortypesDone3/sumer/00005143.jpg', 29.91815185546875],\n",
              " ['ColortypesDone3/sumer/00003283.jpg', 73.81121826171875],\n",
              " ['ColortypesDone3/sumer/00009976.jpg', 79.46795654296875],\n",
              " ['ColortypesDone3/sumer/00013537.jpg', 36.10565185546875],\n",
              " ['ColortypesDone3/sumer/00010002.jpg', 62.51629638671875],\n",
              " ['ColortypesDone3/sumer/00009585.jpg', 50.15838623046875],\n",
              " ['ColortypesDone3/sumer/00013293.jpg', 39.24432373046875],\n",
              " ['ColortypesDone3/sumer/00003080.jpg', 48.99237060546875],\n",
              " ['ColortypesDone3/sumer/00005368.jpg', 43.17840576171875],\n",
              " ['ColortypesDone3/sumer/00008658.jpg', 44.08905029296875],\n",
              " ['ColortypesDone3/sumer/00001640.jpg', 44.01190185546875],\n",
              " ['ColortypesDone3/sumer/00006311.jpg', 62.21112060546875],\n",
              " ['ColortypesDone3/sumer/00002956.jpg', 44.78240966796875],\n",
              " ['ColortypesDone3/sumer/00000360.jpg', 50.67791748046875],\n",
              " ['ColortypesDone3/sumer/00009146.jpg', 44.07098388671875],\n",
              " ['ColortypesDone3/sumer/00007194.jpg', 43.33123779296875],\n",
              " ['ColortypesDone3/sumer/00007989.jpg', 102.20233154296875],\n",
              " ['ColortypesDone3/sumer/00009797.jpg', 59.36102294921875],\n",
              " ['ColortypesDone3/sumer/00013094.jpg', 72.64276123046875],\n",
              " ['ColortypesDone3/sumer/00002833.jpg', 65.64276123046875],\n",
              " ['ColortypesDone3/sumer/00006328.jpg', 75.79803466796875],\n",
              " ['ColortypesDone3/sumer/00009635.jpg', 39.70379638671875],\n",
              " ['ColortypesDone3/sumer/00013486.jpg', 36.59783935546875],\n",
              " ['ColortypesDone3/sumer/00012565.jpg', 49.35711669921875],\n",
              " ['ColortypesDone3/sumer/00009637.jpg', 36.79461669921875],\n",
              " ['ColortypesDone3/sumer/00011939.jpg', 37.96209716796875],\n",
              " ['ColortypesDone3/sumer/00001486.jpg', 43.78436279296875],\n",
              " ['ColortypesDone3/sumer/00010992.jpg', 80.37860107421875],\n",
              " ['ColortypesDone3/sumer/00006869.jpg', 73.56610107421875],\n",
              " ['ColortypesDone3/sumer/00005352.jpg', 53.68475341796875],\n",
              " ['ColortypesDone3/sumer/00009554.jpg', 49.73602294921875],\n",
              " ['ColortypesDone3/sumer/00009232.jpg', 36.66619873046875],\n",
              " ['ColortypesDone3/sumer/00011870.jpg', 35.88348388671875],\n",
              " ['ColortypesDone3/sumer/00011119.jpg', 69.93426513671875],\n",
              " ['ColortypesDone3/sumer/00004272.jpg', 39.87908935546875],\n",
              " ['ColortypesDone3/sumer/00005781.jpg', 54.28826904296875],\n",
              " ['ColortypesDone3/sumer/00004474.jpg', 36.74774169921875],\n",
              " ['ColortypesDone3/sumer/00012996.jpg', 40.56854248046875],\n",
              " ['ColortypesDone3/sumer/00010165.jpg', 62.99969482421875],\n",
              " ['ColortypesDone3/sumer/00010116.jpg', 49.38299560546875],\n",
              " ['ColortypesDone3/sumer/00007668.jpg', 74.86590576171875],\n",
              " ['ColortypesDone3/sumer/00009889.jpg', 73.07830810546875],\n",
              " ['ColortypesDone3/sumer/00010466.jpg', 44.45086669921875],\n",
              " ['ColortypesDone3/sumer/00009057.jpg', 66.58123779296875],\n",
              " ['ColortypesDone3/sumer/00002670.jpg', 40.82391357421875],\n",
              " ['ColortypesDone3/sumer/00012661.jpg', 19.17742919921875],\n",
              " ['ColortypesDone3/sumer/00003590.jpg', 80.84002685546875],\n",
              " ['ColortypesDone3/sumer/00011802.jpg', 43.86102294921875],\n",
              " ['ColortypesDone3/sumer/00005903.jpg', 64.27557373046875],\n",
              " ['ColortypesDone3/sumer/00011786.jpg', 48.47088623046875],\n",
              " ['ColortypesDone3/sumer/00007641.jpg', 40.09393310546875],\n",
              " ['ColortypesDone3/sumer/00011751.jpg', 40.39520263671875],\n",
              " ['ColortypesDone3/sumer/00009450.jpg', 50.00946044921875],\n",
              " ['ColortypesDone3/sumer/00006549.jpg', 45.60760498046875],\n",
              " ['ColortypesDone3/sumer/00008558.jpg', 58.65252685546875],\n",
              " ['ColortypesDone3/sumer/00007045.jpg', 53.00555419921875],\n",
              " ['ColortypesDone3/sumer/00009929.jpg', 117.85125732421875],\n",
              " ['ColortypesDone3/sumer/00003753.jpg', 75.65057373046875],\n",
              " ['ColortypesDone3/sumer/00000528.jpg', 42.24627685546875],\n",
              " ['ColortypesDone3/sumer/00012662.jpg', 69.63592529296875],\n",
              " ['ColortypesDone3/sumer/00009524.jpg', 78.71014404296875],\n",
              " ['ColortypesDone3/sumer/00011419.jpg', 58.38787841796875],\n",
              " ['ColortypesDone3/sumer/00013596.jpg', 57.78631591796875],\n",
              " ['ColortypesDone3/sumer/00013569.jpg', 43.65447998046875],\n",
              " ['ColortypesDone3/sumer/00011356.jpg', 40.05096435546875],\n",
              " ['ColortypesDone3/sumer/00007252.jpg', 49.50262451171875],\n",
              " ['ColortypesDone3/sumer/00012065.jpg', 33.95135498046875],\n",
              " ['ColortypesDone3/sumer/00013421.jpg', 59.72039794921875],\n",
              " ['ColortypesDone3/sumer/00009469.jpg', 46.91619873046875],\n",
              " ['ColortypesDone3/sumer/00005253.jpg', 31.49530029296875],\n",
              " ['ColortypesDone3/sumer/00013343.jpg', 36.17108154296875],\n",
              " ['ColortypesDone3/sumer/00013627.jpg', 83.09100341796875],\n",
              " ['ColortypesDone3/sumer/00009723.jpg', 47.50311279296875],\n",
              " ['ColortypesDone3/sumer/00009910.jpg', 43.11737060546875],\n",
              " ['ColortypesDone3/sumer/00012854.jpg', 71.16033935546875],\n",
              " ['ColortypesDone3/sumer/00003970.jpg', 54.25897216796875],\n",
              " ['ColortypesDone3/sumer/00009736.jpg', 55.14080810546875],\n",
              " ['ColortypesDone3/sumer/00005736.jpg', 44.01434326171875],\n",
              " ['ColortypesDone3/sumer/00012538.jpg', 45.68817138671875],\n",
              " ['ColortypesDone3/sumer/00008212.jpg', 38.94891357421875],\n",
              " ['ColortypesDone3/sumer/00009656.jpg', 67.78631591796875],\n",
              " ['ColortypesDone3/sumer/00003621.jpg', 44.44891357421875],\n",
              " ['ColortypesDone3/sumer/00011972.jpg', 48.65301513671875],\n",
              " ['ColortypesDone3/sumer/00005091.jpg', 50.49725341796875],\n",
              " ['ColortypesDone3/sumer/00009907.jpg', 40.30780029296875],\n",
              " ['ColortypesDone3/sumer/00009250.jpg', 69.68865966796875],\n",
              " ['ColortypesDone3/sumer/00011351.jpg', 38.09002685546875],\n",
              " ['ColortypesDone3/sumer/00009278.jpg', 48.81805419921875],\n",
              " ['ColortypesDone3/sumer/00007532.jpg', 48.62615966796875],\n",
              " ['ColortypesDone3/sumer/00011973.jpg', 63.44647216796875],\n",
              " ['ColortypesDone3/sumer/00010489.jpg', 53.69549560546875],\n",
              " ['ColortypesDone3/sumer/00003807.jpg', 36.48065185546875],\n",
              " ['ColortypesDone3/sumer/00007334.jpg', 101.15252685546875],\n",
              " ['ColortypesDone3/sumer/00003163.jpg', 40.44110107421875],\n",
              " ['ColortypesDone3/sumer/00010645.jpg', 46.11834716796875],\n",
              " ['ColortypesDone3/sumer/00009499.jpg', 51.82293701171875],\n",
              " ['ColortypesDone3/sumer/00013600.jpg', 51.59979248046875],\n",
              " ['ColortypesDone3/sumer/00006423.jpg', 70.49188232421875],\n",
              " ['ColortypesDone3/sumer/00012495.jpg', 30.85662841796875],\n",
              " ['ColortypesDone3/sumer/00010282.jpg', 62.15155029296875],\n",
              " ['ColortypesDone3/sumer/00013562.jpg', 44.02850341796875],\n",
              " ['ColortypesDone3/sumer/00005328.jpg', 44.41326904296875],\n",
              " ['ColortypesDone3/sumer/00012641.jpg', 67.14617919921875],\n",
              " ['ColortypesDone3/sumer/00008584.jpg', 43.97821044921875],\n",
              " ['ColortypesDone3/sumer/00007489.jpg', 32.78680419921875],\n",
              " ['ColortypesDone3/sumer/00008035.jpg', 76.27752685546875],\n",
              " ['ColortypesDone3/sumer/00008960.jpg', 59.67108154296875],\n",
              " ['ColortypesDone3/sumer/00012509.jpg', 49.34393310546875],\n",
              " ['ColortypesDone3/sumer/00004425.jpg', 40.17987060546875],\n",
              " ['ColortypesDone3/sumer/00012247.jpg', 41.92449951171875],\n",
              " ['ColortypesDone3/sumer/00001398.jpg', 47.79315185546875],\n",
              " ['ColortypesDone3/sumer/00003997.jpg', 77.33807373046875],\n",
              " ['ColortypesDone3/sumer/00009060.jpg', 45.74139404296875],\n",
              " ['ColortypesDone3/sumer/00009869.jpg', 45.27655029296875],\n",
              " ['ColortypesDone3/sumer/00002733.jpg', 39.08026123046875],\n",
              " ['ColortypesDone3/sumer/00005074.jpg', 52.89227294921875],\n",
              " ['ColortypesDone3/sumer/00006958.jpg', 37.60516357421875],\n",
              " ['ColortypesDone3/sumer/00004626.jpg', 54.48358154296875],\n",
              " ['ColortypesDone3/sumer/00009474.jpg', 37.23016357421875],\n",
              " ['ColortypesDone3/sumer/00008971.jpg', 45.88739013671875],\n",
              " ['ColortypesDone3/sumer/00005925.jpg', 61.89569091796875],\n",
              " ['ColortypesDone3/sumer/00009845.jpg', 41.17401123046875],\n",
              " ['ColortypesDone3/sumer/00013000.jpg', 31.44305419921875],\n",
              " ['ColortypesDone3/sumer/00012493.jpg', 44.11492919921875],\n",
              " ['ColortypesDone3/sumer/00011373.jpg', 32.81170654296875],\n",
              " ['ColortypesDone3/sumer/00003763.jpg', 37.27508544921875],\n",
              " ['ColortypesDone3/sumer/00013570.jpg', 47.02459716796875],\n",
              " ['ColortypesDone3/sumer/00008623.jpg', 41.43182373046875],\n",
              " ['ColortypesDone3/sumer/00004019.jpg', 53.76971435546875],\n",
              " ['ColortypesDone3/sumer/00009515.jpg', 78.71014404296875],\n",
              " ['ColortypesDone3/sumer/00005503.jpg', 30.73309326171875],\n",
              " ['ColortypesDone3/sumer/00005113.jpg', 23.86639404296875],\n",
              " ['ColortypesDone3/sumer/00009265.jpg', 43.22479248046875],\n",
              " ['ColortypesDone3/sumer/00013228.jpg', 41.16864013671875],\n",
              " ['ColortypesDone3/sumer/00009884.jpg', 78.58514404296875],\n",
              " ['ColortypesDone3/sumer/00008026.jpg', 65.01483154296875],\n",
              " ['ColortypesDone3/sumer/00001980.jpg', 40.67010498046875],\n",
              " ['ColortypesDone3/sumer/00003629.jpg', 44.44891357421875],\n",
              " ['ColortypesDone3/sumer/00009363.jpg', 35.53094482421875],\n",
              " ['ColortypesDone3/sumer/00003896.jpg', 53.19305419921875],\n",
              " ['ColortypesDone3/sumer/00008082.jpg', 34.68280029296875],\n",
              " ['ColortypesDone3/sumer/00012569.jpg', 59.97283935546875],\n",
              " ['ColortypesDone3/sumer/00012233.jpg', 75.19354248046875],\n",
              " ['ColortypesDone3/sumer/00001475.jpg', 50.10858154296875],\n",
              " ['ColortypesDone3/sumer/00011128.jpg', 69.55096435546875],\n",
              " ['ColortypesDone3/sumer/00006642.jpg', 39.03289794921875],\n",
              " ['ColortypesDone3/sumer/00003921.jpg', 51.83758544921875],\n",
              " ['ColortypesDone3/sumer/00012636.jpg', 47.92547607421875],\n",
              " ['ColortypesDone3/sumer/00010545.jpg', 95.42547607421875],\n",
              " ['ColortypesDone3/sumer/00010357.jpg', 37.98944091796875],\n",
              " ['ColortypesDone3/sumer/00010633.jpg', 49.14666748046875],\n",
              " ['ColortypesDone3/sumer/00009404.jpg', 33.91815185546875],\n",
              " ['ColortypesDone3/sumer/00008054.jpg', 40.87908935546875],\n",
              " ['ColortypesDone3/sumer/00008254.jpg', 47.80291748046875],\n",
              " ['ColortypesDone3/sumer/00011936.jpg', 62.12420654296875],\n",
              " ['ColortypesDone3/sumer/00010221.jpg', 46.60321044921875],\n",
              " ['ColortypesDone3/sumer/00008491.jpg', 58.76678466796875],\n",
              " ['ColortypesDone3/sumer/00005406.jpg', 36.19793701171875],\n",
              " ['ColortypesDone3/sumer/00012807.jpg', 40.16424560546875],\n",
              " ['ColortypesDone3/sumer/00004731.jpg', 60.42059326171875],\n",
              " ['ColortypesDone3/sumer/00011328.jpg', 54.16864013671875],\n",
              " ['ColortypesDone3/sumer/00007562.jpg', 47.21112060546875],\n",
              " ['ColortypesDone3/sumer/00008490.jpg', 41.24481201171875],\n",
              " ['ColortypesDone3/sumer/00005611.jpg', 99.66571044921875],\n",
              " ['ColortypesDone3/sumer/00013649.jpg', 29.37030029296875],\n",
              " ['ColortypesDone3/sumer/00011248.jpg', 81.53045654296875],\n",
              " ['ColortypesDone3/sumer/00012769.jpg', 60.12811279296875],\n",
              " ['ColortypesDone3/sumer/00005577.jpg', 44.50262451171875],\n",
              " ['ColortypesDone3/sumer/00011066.jpg', 58.16131591796875],\n",
              " ['ColortypesDone3/sumer/00011927.jpg', 53.81219482421875],\n",
              " ['ColortypesDone3/sumer/00003258.jpg', 76.59002685546875],\n",
              " ['ColortypesDone3/sumer/00005167.jpg', 35.57781982421875],\n",
              " ['ColortypesDone3/sumer/00001498.jpg', 37.42694091796875],\n",
              " ['ColortypesDone3/sumer/00009749.jpg', 39.61395263671875],\n",
              " ['ColortypesDone3/sumer/00009563.jpg', 42.62664794921875],\n",
              " ['ColortypesDone3/sumer/00002344.jpg', 46.53436279296875],\n",
              " ['ColortypesDone3/sumer/00008641.jpg', 66.45819091796875],\n",
              " ['ColortypesDone3/sumer/00010998.jpg', 43.78387451171875],\n",
              " ['ColortypesDone3/sumer/00006876.jpg', 36.09246826171875],\n",
              " ['ColortypesDone3/sumer/00004734.jpg', 37.86883544921875],\n",
              " ['ColortypesDone3/sumer/00013089.jpg', 45.72479248046875],\n",
              " ['ColortypesDone3/sumer/00010594.jpg', 33.99871826171875],\n",
              " ['ColortypesDone3/sumer/00009199.jpg', 40.14617919921875],\n",
              " ['ColortypesDone3/sumer/00008244.jpg', 43.76824951171875],\n",
              " ['ColortypesDone3/sumer/00010623.jpg', 61.15203857421875],\n",
              " ['ColortypesDone3/sumer/00004865.jpg', 49.51287841796875],\n",
              " ['ColortypesDone3/sumer/00000815.jpg', 32.19793701171875],\n",
              " ['ColortypesDone3/sumer/00008332.jpg', 80.13885498046875],\n",
              " ['ColortypesDone3/sumer/00010596.jpg', 32.71844482421875],\n",
              " ['ColortypesDone3/sumer/00002192.jpg', 59.83514404296875],\n",
              " ['ColortypesDone3/sumer/00008656.jpg', 32.34344482421875],\n",
              " ['ColortypesDone3/sumer/00003924.jpg', 34.19354248046875],\n",
              " ['ColortypesDone3/sumer/00009549.jpg', 80.13836669921875],\n",
              " ['ColortypesDone3/sumer/00010226.jpg', 36.83319091796875],\n",
              " ['ColortypesDone3/sumer/00007809.jpg', 58.31072998046875],\n",
              " ['ColortypesDone3/sumer/00000182.jpg', 55.39471435546875],\n",
              " ['ColortypesDone3/sumer/00013101.jpg', 39.14764404296875],\n",
              " ['ColortypesDone3/sumer/00011070.jpg', 46.54168701171875],\n",
              " ['ColortypesDone3/sumer/00003845.jpg', 33.74920654296875],\n",
              " ['ColortypesDone3/sumer/00012790.jpg', 38.06658935546875],\n",
              " ['ColortypesDone3/winter/00012992.jpg', 62.68280029296875],\n",
              " ['ColortypesDone3/winter/00006930.jpg', 87.09759521484375],\n",
              " ['ColortypesDone3/winter/00008909.jpg', 26.05291748046875],\n",
              " ['ColortypesDone3/winter/00008935.jpg', 63.48651123046875],\n",
              " ['ColortypesDone3/winter/00008504.jpg', 42.43035888671875],\n",
              " ['ColortypesDone3/winter/00005752.jpg', 124.17401123046875],\n",
              " ['ColortypesDone3/winter/00002015.jpg', 81.73992919921875],\n",
              " ['ColortypesDone3/winter/00004464.jpg', 38.22137451171875],\n",
              " ['ColortypesDone3/winter/00008470.jpg', 49.44549560546875],\n",
              " ['ColortypesDone3/winter/00009008.jpg', 53.06805419921875],\n",
              " ['ColortypesDone3/winter/00008302.jpg', 45.28338623046875],\n",
              " ['ColortypesDone3/winter/00012414.jpg', 46.11639404296875],\n",
              " ['ColortypesDone3/winter/00012399.jpg', 49.61932373046875],\n",
              " ['ColortypesDone3/winter/00007541.jpg', 47.36834716796875],\n",
              " ['ColortypesDone3/winter/00011451.jpg', 26.73846435546875],\n",
              " ['ColortypesDone3/winter/00008128.jpg', 46.89080810546875],\n",
              " ['ColortypesDone3/winter/00013291.jpg', 53.13934326171875],\n",
              " ['ColortypesDone3/winter/00003929.jpg', 38.96063232421875],\n",
              " ['ColortypesDone3/winter/00008673.jpg', 74.81903076171875],\n",
              " ['ColortypesDone3/winter/00011849.jpg', 51.24188232421875],\n",
              " ['ColortypesDone3/winter/00004263.jpg', 59.45770263671875],\n",
              " ['ColortypesDone3/winter/00003524.jpg', 46.84442138671875],\n",
              " ['ColortypesDone3/winter/00002969.jpg', 45.75994873046875],\n",
              " ['ColortypesDone3/winter/00002799.jpg', 31.69061279296875],\n",
              " ['ColortypesDone3/winter/00003646.jpg', 57.93182373046875],\n",
              " ['ColortypesDone3/winter/00011524.jpg', 100.25311279296875],\n",
              " ['ColortypesDone3/winter/00003650.jpg', 57.93182373046875],\n",
              " ['ColortypesDone3/winter/00000371.jpg', 48.30340576171875],\n",
              " ['ColortypesDone3/winter/00007146.jpg', 47.88201904296875],\n",
              " ['ColortypesDone3/winter/00011730.jpg', 32.69842529296875],\n",
              " ['ColortypesDone3/winter/00011136.jpg', 33.62762451171875],\n",
              " ['ColortypesDone3/winter/00005625.jpg', 49.19158935546875],\n",
              " ['ColortypesDone3/winter/00005157.jpg', 50.12225341796875],\n",
              " ['ColortypesDone3/winter/00013084.jpg', 40.17108154296875],\n",
              " ['ColortypesDone3/winter/00008671.jpg', 92.15985107421875],\n",
              " ['ColortypesDone3/winter/00008103.jpg', 41.31951904296875],\n",
              " ['ColortypesDone3/winter/00012173.jpg', 44.07440185546875],\n",
              " ['ColortypesDone3/winter/00008842.jpg', 51.46697998046875],\n",
              " ['ColortypesDone3/winter/00008857.jpg', 44.14764404296875],\n",
              " ['ColortypesDone3/winter/00010942.jpg', 42.40301513671875],\n",
              " ['ColortypesDone3/winter/00012827.jpg', 33.00213623046875],\n",
              " ['ColortypesDone3/winter/00004704.jpg', 47.04559326171875],\n",
              " ['ColortypesDone3/winter/00000204.jpg', 42.44989013671875],\n",
              " ['ColortypesDone3/winter/00008670.jpg', 45.05535888671875],\n",
              " ['ColortypesDone3/winter/00004738.jpg', 59.15838623046875],\n",
              " ['ColortypesDone3/winter/00008499.jpg', 66.47332763671875],\n",
              " ['ColortypesDone3/winter/00011876.jpg', 26.06610107421875],\n",
              " ['ColortypesDone3/winter/00013085.jpg', 56.66815185546875],\n",
              " ['ColortypesDone3/winter/00006463.jpg', 56.69012451171875],\n",
              " ['ColortypesDone3/winter/00009744.jpg', 75.60614013671875],\n",
              " ['ColortypesDone3/winter/00009803.jpg', 39.16668701171875],\n",
              " ['ColortypesDone3/winter/00009142.jpg', 58.62371826171875],\n",
              " ['ColortypesDone3/winter/00002771.jpg', 68.37469482421875],\n",
              " ['ColortypesDone3/winter/00010188.jpg', 42.56512451171875],\n",
              " ['ColortypesDone3/winter/00009426.jpg', 43.71795654296875],\n",
              " ['ColortypesDone3/winter/00013442.jpg', 64.81219482421875],\n",
              " ['ColortypesDone3/winter/00010639.jpg', 34.60614013671875],\n",
              " ['ColortypesDone3/winter/00006705.jpg', 42.46063232421875],\n",
              " ['ColortypesDone3/winter/00006711.jpg', 44.51727294921875],\n",
              " ['ColortypesDone3/winter/00003127.jpg', 47.87176513671875],\n",
              " ['ColortypesDone3/winter/00011537.jpg', 56.51678466796875],\n",
              " ['ColortypesDone3/winter/00004310.jpg', 53.54217529296875],\n",
              " ['ColortypesDone3/winter/00001268.jpg', 60.94940185546875],\n",
              " ['ColortypesDone3/winter/00013644.jpg', 41.52362060546875],\n",
              " ['ColortypesDone3/winter/00007180.jpg', 39.64569091796875],\n",
              " ['ColortypesDone3/winter/00011912.jpg', 51.51971435546875],\n",
              " ['ColortypesDone3/winter/00009813.jpg', 86.74822998046875],\n",
              " ['ColortypesDone3/winter/00005797.jpg', 81.00506591796875],\n",
              " ['ColortypesDone3/winter/00005783.jpg', 36.90350341796875],\n",
              " ['ColortypesDone3/winter/00007037.jpg', 68.81756591796875],\n",
              " ['ColortypesDone3/winter/00003286.jpg', 50.08026123046875],\n",
              " ['ColortypesDone3/winter/00008112.jpg', 34.54949951171875],\n",
              " ['ColortypesDone3/winter/00011443.jpg', 41.82293701171875],\n",
              " ['ColortypesDone3/winter/00010985.jpg', 38.05487060546875],\n",
              " ['ColortypesDone3/winter/00003708.jpg', 42.35614013671875],\n",
              " ['ColortypesDone3/winter/00005184.jpg', 36.22821044921875],\n",
              " ['ColortypesDone3/winter/00005812.jpg', 59.44451904296875],\n",
              " ['ColortypesDone3/winter/00005147.jpg', 45.68475341796875],\n",
              " ['ColortypesDone3/winter/00005621.jpg', 49.19158935546875],\n",
              " ['ColortypesDone3/winter/00001309.jpg', 50.83026123046875],\n",
              " ['ColortypesDone3/winter/00005972.jpg', 49.44549560546875],\n",
              " ['ColortypesDone3/winter/00007618.jpg', 46.45086669921875],\n",
              " ['ColortypesDone3/winter/00009153.jpg', 60.40008544921875],\n",
              " ['ColortypesDone3/winter/00002760.jpg', 59.53924560546875],\n",
              " ['ColortypesDone3/winter/00006937.jpg', 40.26776123046875],\n",
              " ['ColortypesDone3/winter/00013490.jpg', 40.23358154296875],\n",
              " ['ColortypesDone3/winter/00010199.jpg', 32.99871826171875],\n",
              " ['ColortypesDone3/winter/00005594.jpg', 30.73797607421875],\n",
              " ['ColortypesDone3/winter/00008932.jpg', 106.15155029296875],\n",
              " ['ColortypesDone3/winter/00008701.jpg', 36.77508544921875],\n",
              " ['ColortypesDone3/winter/00006710.jpg', 51.33709716796875],\n",
              " ['ColortypesDone3/winter/00002204.jpg', 36.71160888671875],\n",
              " ['ColortypesDone3/winter/00011534.jpg', 72.31268310546875],\n",
              " ['ColortypesDone3/winter/00008071.jpg', 56.74334716796875],\n",
              " ['ColortypesDone3/winter/00005233.jpg', 44.34246826171875],\n",
              " ['ColortypesDone3/winter/00012940.jpg', 39.47528076171875],\n",
              " ['ColortypesDone3/winter/00004307.jpg', 38.82635498046875],\n",
              " ['ColortypesDone3/winter/00006921.jpg', 50.71746826171875],\n",
              " ['ColortypesDone3/winter/00013109.jpg', 36.65545654296875],\n",
              " ['ColortypesDone3/winter/00011736.jpg', 56.52899169921875],\n",
              " ['ColortypesDone3/winter/00013647.jpg', 90.05877685546875],\n",
              " ['ColortypesDone3/winter/00007829.jpg', 63.40643310546875],\n",
              " ['ColortypesDone3/winter/00007815.jpg', 55.33319091796875],\n",
              " ['ColortypesDone3/winter/00005970.jpg', 37.69012451171875],\n",
              " ['ColortypesDone3/winter/00003497.jpg', 59.90789794921875],\n",
              " ['ColortypesDone3/winter/00012377.jpg', 54.56903076171875],\n",
              " ['ColortypesDone3/winter/00006470.jpg', 45.44744873046875],\n",
              " ['ColortypesDone3/winter/00011124.jpg', 64.22674560546875],\n",
              " ['ColortypesDone3/winter/00006458.jpg', 136.48651123046875],\n",
              " ['ColortypesDone3/winter/00008307.jpg', 40.61199951171875],\n",
              " ['ColortypesDone3/winter/00002400.jpg', 46.10223388671875],\n",
              " ['ColortypesDone3/winter/00010762.jpg', 39.95330810546875],\n",
              " ['ColortypesDone3/winter/00004065.jpg', 78.57830810546875],\n",
              " ['ColortypesDone3/winter/00001653.jpg', 63.14715576171875],\n",
              " ['ColortypesDone3/winter/00003905.jpg', 28.26922607421875],\n",
              " ['ColortypesDone3/winter/00008844.jpg', 53.59881591796875],\n",
              " ['ColortypesDone3/winter/00010789.jpg', 39.11492919921875],\n",
              " ['ColortypesDone3/winter/00012821.jpg', 47.67352294921875],\n",
              " ['ColortypesDone3/winter/00012835.jpg', 39.97137451171875],\n",
              " ['ColortypesDone3/winter/00011327.jpg', 67.79022216796875],\n",
              " ['ColortypesDone3/winter/00004064.jpg', 50.29803466796875],\n",
              " ['ColortypesDone3/winter/00005408.jpg', 44.61297607421875],\n",
              " ['ColortypesDone3/winter/00000799.jpg', 66.05975341796875],\n",
              " ['ColortypesDone3/winter/00002824.jpg', 39.46112060546875],\n",
              " ['ColortypesDone3/winter/00008460.jpg', 34.74334716796875],\n",
              " ['ColortypesDone3/winter/00004500.jpg', 40.40789794921875],\n",
              " ['ColortypesDone3/winter/00011910.jpg', 51.51971435546875],\n",
              " ['ColortypesDone3/winter/00008299.jpg', 37.84832763671875],\n",
              " ['ColortypesDone3/winter/00009187.jpg', 39.30242919921875],\n",
              " ['ColortypesDone3/winter/00008514.jpg', 42.43035888671875],\n",
              " ['ColortypesDone3/winter/00004460.jpg', 49.94598388671875],\n",
              " ['ColortypesDone3/winter/00006908.jpg', 36.91864013671875],\n",
              " ['ColortypesDone3/winter/00006920.jpg', 51.40106201171875],\n",
              " ['ColortypesDone3/winter/00002549.jpg', 39.53826904296875],\n",
              " ['ColortypesDone3/winter/00011253.jpg', 66.22869873046875],\n",
              " ['ColortypesDone3/winter/00006713.jpg', 76.66326904296875],\n",
              " ['ColortypesDone3/winter/00008003.jpg', 76.48797607421875],\n",
              " ['ColortypesDone3/winter/00008017.jpg', 79.17645263671875],\n",
              " ['ColortypesDone3/winter/00008759.jpg', 120.87567138671875],\n",
              " ['ColortypesDone3/winter/00008981.jpg', 46.07635498046875],\n",
              " ['ColortypesDone3/winter/00012067.jpg', 40.19891357421875],\n",
              " ['ColortypesDone3/winter/00012926.jpg', 54.47381591796875],\n",
              " ['ColortypesDone3/winter/00001782.jpg', 40.49530029296875],\n",
              " ['ColortypesDone3/winter/00005282.jpg', 73.35076904296875],\n",
              " ['ColortypesDone3/winter/00004188.jpg', 42.03778076171875],\n",
              " ['ColortypesDone3/winter/00009123.jpg', 58.90399169921875],\n",
              " ['ColortypesDone3/winter/00008598.jpg', 76.47479248046875],\n",
              " ['ColortypesDone3/winter/00013033.jpg', 68.90740966796875],\n",
              " ['ColortypesDone3/winter/00007913.jpg', 52.26336669921875],\n",
              " ['ColortypesDone3/winter/00007536.jpg', 47.23944091796875],\n",
              " ['ColortypesDone3/winter/00012113.jpg', 70.39862060546875],\n",
              " ['ColortypesDone3/winter/00012107.jpg', 46.27996826171875],\n",
              " ['ColortypesDone3/winter/00007292.jpg', 54.59881591796875],\n",
              " ['ColortypesDone3/winter/00003786.jpg', 27.18621826171875],\n",
              " ['ColortypesDone3/winter/00012106.jpg', 39.50457763671875],\n",
              " ['ColortypesDone3/winter/00011433.jpg', 57.16815185546875],\n",
              " ['ColortypesDone3/winter/00003037.jpg', 69.24530029296875],\n",
              " ['ColortypesDone3/winter/00005452.jpg', 61.56854248046875],\n",
              " ['ColortypesDone3/winter/00009724.jpg', 39.75408935546875],\n",
              " ['ColortypesDone3/winter/00006371.jpg', 31.97088623046875],\n",
              " ['ColortypesDone3/winter/00012476.jpg', 80.64373779296875],\n",
              " ['ColortypesDone3/winter/00009693.jpg', 40.44207763671875],\n",
              " ['ColortypesDone3/winter/00003341.jpg', 41.94793701171875],\n",
              " ['ColortypesDone3/winter/00009485.jpg', 51.86248779296875],\n",
              " ['ColortypesDone3/winter/00001797.jpg', 51.04754638671875],\n",
              " ['ColortypesDone3/winter/00007494.jpg', 44.94940185546875],\n",
              " ['ColortypesDone3/winter/00009446.jpg', 73.50653076171875],\n",
              " ['ColortypesDone3/winter/00013436.jpg', 49.04315185546875],\n",
              " ['ColortypesDone3/winter/00003157.jpg', 36.31170654296875],\n",
              " ['ColortypesDone3/winter/00011223.jpg', 30.55047607421875],\n",
              " ['ColortypesDone3/winter/00007331.jpg', 47.57098388671875],\n",
              " ['ColortypesDone3/winter/00011586.jpg', 48.81903076171875],\n",
              " ['ColortypesDone3/winter/00010698.jpg', 60.71990966796875],\n",
              " ['ColortypesDone3/winter/00007496.jpg', 56.28826904296875],\n",
              " ['ColortypesDone3/winter/00004362.jpg', 41.27850341796875],\n",
              " ['ColortypesDone3/winter/00011948.jpg', 54.01531982421875],\n",
              " ['ColortypesDone3/winter/00011790.jpg', 48.62225341796875],\n",
              " ['ColortypesDone3/winter/00005901.jpg', 53.77752685546875],\n",
              " ['ColortypesDone3/winter/00012306.jpg', 39.40057373046875],\n",
              " ['ColortypesDone3/winter/00007910.jpg', 52.26336669921875],\n",
              " ['ColortypesDone3/winter/00007904.jpg', 66.18817138671875],\n",
              " ['ColortypesDone3/winter/00008160.jpg', 42.27215576171875],\n",
              " ['ColortypesDone3/winter/00008148.jpg', 45.14520263671875],\n",
              " ['ColortypesDone3/winter/00004772.jpg', 39.78631591796875],\n",
              " ['ColortypesDone3/winter/00010908.jpg', 43.08612060546875],\n",
              " ['ColortypesDone3/winter/00012688.jpg', 35.02362060546875],\n",
              " ['ColortypesDone3/winter/00007291.jpg', 46.55487060546875],\n",
              " ['ColortypesDone3/winter/00001838.jpg', 47.65936279296875],\n",
              " ['ColortypesDone3/winter/00008149.jpg', 42.85125732421875],\n",
              " ['ColortypesDone3/winter/00000267.jpg', 53.27459716796875],\n",
              " ['ColortypesDone3/winter/00006616.jpg', 70.05975341796875],\n",
              " ['ColortypesDone3/winter/00012887.jpg', 65.48406982421875],\n",
              " ['ColortypesDone3/winter/00011342.jpg', 38.61541748046875],\n",
              " ['ColortypesDone3/winter/00007905.jpg', 47.76287841796875],\n",
              " ['ColortypesDone3/winter/00009096.jpg', 50.29412841796875],\n",
              " ['ColortypesDone3/winter/00007939.jpg', 53.97186279296875],\n",
              " ['ColortypesDone3/winter/00007736.jpg', 56.61053466796875],\n",
              " ['ColortypesDone3/winter/00007865.jpg', 41.18719482421875],\n",
              " ['ColortypesDone3/winter/00003381.jpg', 48.02947998046875],\n",
              " ['ColortypesDone3/winter/00001555.jpg', 73.34979248046875],\n",
              " ['ColortypesDone3/winter/00012273.jpg', 59.84832763671875],\n",
              " ['ColortypesDone3/winter/00011587.jpg', 42.99188232421875],\n",
              " ['ColortypesDone3/winter/00004161.jpg', 57.02508544921875],\n",
              " ['ColortypesDone3/winter/00009337.jpg', 66.64764404296875],\n",
              " ['ColortypesDone3/winter/00012075.jpg', 49.45770263671875],\n",
              " ['ColortypesDone3/winter/00012713.jpg', 43.72772216796875],\n",
              " ['ColortypesDone3/winter/00008993.jpg', 37.76580810546875],\n",
              " ['ColortypesDone3/winter/00007444.jpg', 41.56707763671875],\n",
              " ['ColortypesDone3/winter/00003839.jpg', 50.87615966796875],\n",
              " ['ColortypesDone3/winter/00012511.jpg', 50.41571044921875],\n",
              " ['ColortypesDone3/winter/00010474.jpg', 56.96649169921875],\n",
              " ['ColortypesDone3/winter/00008561.jpg', 69.38201904296875],\n",
              " ['ColortypesDone3/winter/00009045.jpg', 38.55487060546875],\n",
              " ['ColortypesDone3/winter/00010514.jpg', 47.76336669921875],\n",
              " ['ColortypesDone3/winter/00013035.jpg', 40.52020263671875],\n",
              " ['ColortypesDone3/winter/00006389.jpg', 78.05780029296875],\n",
              " ['ColortypesDone3/winter/00002306.jpg', 48.10076904296875],\n",
              " ['ColortypesDone3/winter/00005469.jpg', 54.04949951171875],\n",
              " ['ColortypesDone3/winter/00007524.jpg', 107.45233154296875],\n",
              " ['ColortypesDone3/winter/00012840.jpg', 33.64666748046875],\n",
              " ['ColortypesDone3/winter/00003781.jpg', 35.71453857421875],\n",
              " ['ColortypesDone3/winter/00013236.jpg', 38.07196044921875],\n",
              " ['ColortypesDone3/winter/00011421.jpg', 39.39373779296875],\n",
              " ['ColortypesDone3/winter/00002688.jpg', 47.36248779296875],\n",
              " ['ColortypesDone3/winter/00005871.jpg', 49.72088623046875],\n",
              " ['ColortypesDone3/winter/00007041.jpg', 52.25408935546875],\n",
              " ['ColortypesDone3/winter/00011179.jpg', 42.02801513671875],\n",
              " ['ColortypesDone3/winter/00002677.jpg', 85.79266357421875],\n",
              " ['ColortypesDone3/winter/00010267.jpg', 43.23162841796875],\n",
              " ['ColortypesDone3/winter/00000060.jpg', 52.43328857421875],\n",
              " ['ColortypesDone3/winter/00009865.jpg', 56.78338623046875],\n",
              " ['ColortypesDone3/winter/00007848.jpg', 42.52410888671875],\n",
              " ['ColortypesDone3/winter/00011780.jpg', 49.97723388671875],\n",
              " ['ColortypesDone3/winter/00009118.jpg', 68.08367919921875],\n",
              " ['ColortypesDone3/winter/00010449.jpg', 35.63983154296875],\n",
              " ['ColortypesDone3/winter/00011743.jpg', 40.60662841796875],\n",
              " ['ColortypesDone3/winter/00003409.jpg', 45.65301513671875],\n",
              " ['ColortypesDone3/winter/00010307.jpg', 89.08709716796875],\n",
              " ['ColortypesDone3/winter/00006954.jpg', 41.74578857421875],\n",
              " ['ColortypesDone3/winter/00008979.jpg', 49.17059326171875],\n",
              " ['ColortypesDone3/winter/00003810.jpg', 48.67010498046875],\n",
              " ['ColortypesDone3/winter/00004158.jpg', 72.83905029296875],\n",
              " ['ColortypesDone3/winter/00005508.jpg', 76.73358154296875],\n",
              " ['ColortypesDone3/winter/00003179.jpg', 40.04852294921875],\n",
              " ['ColortypesDone3/winter/00006771.jpg', 36.38201904296875],\n",
              " ['ColortypesDone3/winter/00009318.jpg', 124.90643310546875],\n",
              " ['ColortypesDone3/winter/00005536.jpg', 39.09344482421875],\n",
              " ['ColortypesDone3/winter/00010311.jpg', 38.77850341796875],\n",
              " ['ColortypesDone3/winter/00009734.jpg', 39.86737060546875],\n",
              " ['ColortypesDone3/winter/00004576.jpg', 51.28826904296875],\n",
              " ['ColortypesDone3/winter/00013036.jpg', 33.82342529296875],\n",
              " ['ColortypesDone3/winter/00001354.jpg', 37.84246826171875],\n",
              " ['ColortypesDone3/winter/00009522.jpg', 50.95184326171875],\n",
              " ['ColortypesDone3/winter/00002339.jpg', 53.61444091796875],\n",
              " ['ColortypesDone3/winter/00011345.jpg', 87.12518310546875],\n",
              " ['ColortypesDone3/winter/00013220.jpg', 52.27166748046875],\n",
              " ['ColortypesDone3/winter/00008166.jpg', 47.03533935546875],\n",
              " ['ColortypesDone3/winter/00010926.jpg', 37.65789794921875],\n",
              " ['ColortypesDone3/winter/00012857.jpg', 51.33612060546875],\n",
              " ['ColortypesDone3/winter/00012842.jpg', 42.60711669921875],\n",
              " ['ColortypesDone3/winter/00007283.jpg', 39.56512451171875],\n",
              " ['ColortypesDone3/winter/00008601.jpg', 37.02313232421875],\n",
              " ['ColortypesDone3/winter/00011422.jpg', 62.77947998046875],\n",
              " ['ColortypesDone3/winter/00007526.jpg', 69.10858154296875],\n",
              " ['ColortypesDone3/winter/00005682.jpg', 85.22283935546875],\n",
              " ['ColortypesDone3/winter/00011191.jpg', 60.44647216796875],\n",
              " ['ColortypesDone3/winter/00007730.jpg', 67.13348388671875],\n",
              " ['ColortypesDone3/winter/00003218.jpg', 42.79705810546875],\n",
              " ['ColortypesDone3/winter/00009866.jpg', 32.83905029296875],\n",
              " ['ColortypesDone3/winter/00002933.jpg', 49.65496826171875],\n",
              " ['ColortypesDone3/winter/00012249.jpg', 66.58709716796875],\n",
              " ['ColortypesDone3/winter/00011998.jpg', 39.10955810546875],\n",
              " ['ColortypesDone3/winter/00008205.jpg', 68.76385498046875],\n",
              " ['ColortypesDone3/winter/00011026.jpg', 58.86688232421875],\n",
              " ['ColortypesDone3/winter/00006572.jpg', 50.00408935546875],\n",
              " ['ColortypesDone3/winter/00012088.jpg', 59.33123779296875],\n",
              " ['ColortypesDone3/winter/00010884.jpg', 79.54364013671875],\n",
              " ['ColortypesDone3/winter/00011542.jpg', 48.37615966796875],\n",
              " ['ColortypesDone3/winter/00011556.jpg', 49.58026123046875],\n",
              " ['ColortypesDone3/winter/00011230.jpg', 41.22576904296875],\n",
              " ['ColortypesDone3/winter/00006770.jpg', 27.20233154296875],\n",
              " ['ColortypesDone3/winter/00002241.jpg', 38.16229248046875],\n",
              " ['ColortypesDone3/winter/00000456.jpg', 40.03485107421875],\n",
              " ['ColortypesDone3/winter/00009472.jpg', 38.41766357421875],\n",
              " ['ColortypesDone3/winter/00002296.jpg', 51.36590576171875],\n",
              " ['ColortypesDone3/winter/00010686.jpg', 53.33026123046875],\n",
              " ['ColortypesDone3/winter/00007107.jpg', 68.15740966796875],\n",
              " ['ColortypesDone3/winter/00011765.jpg', 69.72625732421875],\n",
              " ['ColortypesDone3/winter/00010453.jpg', 30.63250732421875],\n",
              " ['ColortypesDone3/winter/00006557.jpg', 32.29168701171875],\n",
              " ['ColortypesDone3/winter/00007891.jpg', 52.18621826171875],\n",
              " ['ColortypesDone3/winter/00012522.jpg', 42.20135498046875],\n",
              " ['ColortypesDone3/winter/00010490.jpg', 34.96502685546875],\n",
              " ['ColortypesDone3/winter/00006594.jpg', 45.64764404296875],\n",
              " ['ColortypesDone3/winter/00005894.jpg', 53.77752685546875],\n",
              " ['ColortypesDone3/winter/00009710.jpg', 48.10076904296875],\n",
              " ['ColortypesDone3/winter/00011361.jpg', 66.87615966796875],\n",
              " ['ColortypesDone3/winter/00012867.jpg', 45.80780029296875],\n",
              " ['ColortypesDone3/winter/00006806.jpg', 38.06707763671875],\n",
              " ['ColortypesDone3/winter/00000293.jpg', 38.34979248046875],\n",
              " ['ColortypesDone3/winter/00003957.jpg', 47.46600341796875],\n",
              " ['ColortypesDone3/winter/00009513.jpg', 50.95184326171875],\n",
              " ['ColortypesDone3/winter/00007258.jpg', 34.78143310546875],\n",
              " ['ColortypesDone3/winter/00004751.jpg', 43.45477294921875],\n",
              " ['ColortypesDone3/winter/00013205.jpg', 41.85076904296875],\n",
              " ['ColortypesDone3/winter/00013211.jpg', 48.44354248046875],\n",
              " ['ColortypesDone3/winter/00005856.jpg', 35.53485107421875],\n",
              " ['ColortypesDone3/winter/00007927.jpg', 52.06561279296875],\n",
              " ['ColortypesDone3/winter/00002650.jpg', 53.66082763671875],\n",
              " ['ColortypesDone3/winter/00010526.jpg', 57.36444091796875],\n",
              " ['ColortypesDone3/winter/00012457.jpg', 34.17547607421875],\n",
              " ['ColortypesDone3/winter/00011162.jpg', 37.38690185546875],\n",
              " ['ColortypesDone3/winter/00011943.jpg', 36.01092529296875],\n",
              " ['ColortypesDone3/winter/00006556.jpg', 59.46942138671875],\n",
              " ['ColortypesDone3/winter/00008221.jpg', 53.52166748046875],\n",
              " ['ColortypesDone3/winter/00012090.jpg', 51.23114013671875],\n",
              " ['ColortypesDone3/winter/00008753.jpg', 62.62322998046875],\n",
              " ['ColortypesDone3/winter/00003148.jpg', 38.39080810546875],\n",
              " ['ColortypesDone3/winter/00012092.jpg', 32.76678466796875],\n",
              " ['ColortypesDone3/winter/00013398.jpg', 60.32733154296875],\n",
              " ['ColortypesDone3/winter/00009129.jpg', 36.34149169921875],\n",
              " ['ColortypesDone3/winter/00013159.jpg', 44.00653076171875],\n",
              " ['ColortypesDone3/winter/00009049.jpg', 36.34002685546875],\n",
              " ['ColortypesDone3/winter/00011606.jpg', 79.58905029296875],\n",
              " ['ColortypesDone3/winter/00005897.jpg', 60.28143310546875],\n",
              " ['ColortypesDone3/winter/00009075.jpg', 89.59930419921875],\n",
              " ['ColortypesDone3/winter/00005868.jpg', 53.77752685546875],\n",
              " ['ColortypesDone3/winter/00013561.jpg', 46.07049560546875],\n",
              " ['ColortypesDone3/winter/00007514.jpg', 35.83953857421875],\n",
              " ['ColortypesDone3/winter/00003772.jpg', 55.13153076171875],\n",
              " ['ColortypesDone3/winter/00010915.jpg', 71.57879638671875],\n",
              " ['ColortypesDone3/winter/00012870.jpg', 51.96600341796875],\n",
              " ['ColortypesDone3/winter/00003940.jpg', 54.03094482421875],\n",
              " ['ColortypesDone3/winter/00006838.jpg', 43.80194091796875],\n",
              " ['ColortypesDone3/winter/00006804.jpg', 40.29656982421875],\n",
              " ['ColortypesDone3/winter/00012656.jpg', 50.15350341796875],\n",
              " ['ColortypesDone3/winter/00006623.jpg', 70.05975341796875],\n",
              " ['ColortypesDone3/winter/00002451.jpg', 44.18914794921875],\n",
              " ['ColortypesDone3/winter/00004746.jpg', 36.17498779296875],\n",
              " ['ColortypesDone3/winter/00013560.jpg', 44.72479248046875],\n",
              " ['ColortypesDone3/winter/00012497.jpg', 46.81561279296875],\n",
              " ['ColortypesDone3/winter/00004587.jpg', 57.22967529296875],\n",
              " ['ColortypesDone3/winter/00010243.jpg', 40.11004638671875],\n",
              " ['ColortypesDone3/winter/00013038.jpg', 99.02020263671875],\n",
              " ['ColortypesDone3/winter/00006596.jpg', 42.73016357421875],\n",
              " ['ColortypesDone3/winter/00012520.jpg', 43.33514404296875],\n",
              " ['ColortypesDone3/winter/00009100.jpg', 59.60467529296875],\n",
              " ['ColortypesDone3/winter/00013158.jpg', 40.07635498046875],\n",
              " ['ColortypesDone3/winter/00012905.jpg', 51.07147216796875],\n",
              " ['ColortypesDone3/winter/00010860.jpg', 39.65545654296875],\n",
              " ['ColortypesDone3/winter/00011571.jpg', 77.44744873046875],\n",
              " ['ColortypesDone3/winter/00011203.jpg', 40.78533935546875],\n",
              " ['ColortypesDone3/winter/00012068.jpg', 41.36004638671875],\n",
              " ['ColortypesDone3/winter/00010119.jpg', 59.70819091796875],\n",
              " ['ColortypesDone3/winter/00012929.jpg', 32.86932373046875],\n",
              " ['ColortypesDone3/winter/00009110.jpg', 39.87567138671875],\n",
              " ['ColortypesDone3/winter/00007897.jpg', 78.44744873046875],\n",
              " ['ColortypesDone3/winter/00013606.jpg', 63.17791748046875],\n",
              " ['ColortypesDone3/winter/00010482.jpg', 40.52557373046875],\n",
              " ['ColortypesDone3/winter/00010496.jpg', 173.77899169921875],\n",
              " ['ColortypesDone3/winter/00005104.jpg', 86.35369873046875],\n",
              " ['ColortypesDone3/winter/00008391.jpg', 104.17938232421875],\n",
              " ['ColortypesDone3/winter/00009931.jpg', 41.35955810546875],\n",
              " ['ColortypesDone3/winter/00012646.jpg', 42.27020263671875],\n",
              " ['ColortypesDone3/winter/00005460.jpg', 37.10125732421875],\n",
              " ['ColortypesDone3/winter/00011401.jpg', 55.18035888671875],\n",
              " ['ColortypesDone3/winter/00013216.jpg', 63.26922607421875],\n",
              " ['ColortypesDone3/winter/00003944.jpg', 64.50067138671875],\n",
              " ['ColortypesDone3/winter/00012860.jpg', 48.91180419921875],\n",
              " ['ColortypesDone3/winter/00012690.jpg', 74.60272216796875],\n",
              " ['ColortypesDone3/winter/00002497.jpg', 92.57098388671875],\n",
              " ['ColortypesDone3/winter/00012337.jpg', 85.60369873046875],\n",
              " ['ColortypesDone3/winter/00006424.jpg', 37.51434326171875],\n",
              " ['ColortypesDone3/winter/00001565.jpg', 73.34979248046875],\n",
              " ['ColortypesDone3/winter/00008227.jpg', 54.05828857421875],\n",
              " ['ColortypesDone3/winter/00009105.jpg', 55.29461669921875],\n",
              " ['ColortypesDone3/winter/00011004.jpg', 29.95379638671875],\n",
              " ['ColortypesDone3/winter/00003366.jpg', 40.71307373046875],\n",
              " ['ColortypesDone3/winter/00003428.jpg', 64.68377685546875],\n",
              " ['ColortypesDone3/winter/00011992.jpg', 44.48553466796875],\n",
              " ['ColortypesDone3/winter/00006949.jpg', 64.45037841796875],\n",
              " ['ColortypesDone3/winter/00011206.jpg', 95.75897216796875],\n",
              " ['ColortypesDone3/winter/00007328.jpg', 42.43670654296875],\n",
              " ['ColortypesDone3/winter/00006208.jpg', 91.76727294921875],\n",
              " ['ColortypesDone3/winter/00008557.jpg', 53.27752685546875],\n",
              " ['ColortypesDone3/winter/00005932.jpg', 42.50555419921875],\n",
              " ['ColortypesDone3/winter/00012282.jpg', 57.44256591796875],\n",
              " ['ColortypesDone3/winter/00005852.jpg', 53.77752685546875],\n",
              " ['ColortypesDone3/winter/00004594.jpg', 66.47235107421875],\n",
              " ['ColortypesDone3/winter/00007937.jpg', 81.86590576171875],\n",
              " ['ColortypesDone3/winter/00012137.jpg', 38.32928466796875],\n",
              " ['ColortypesDone3/winter/00004755.jpg', 48.41326904296875],\n",
              " ['ColortypesDone3/winter/00009503.jpg', 37.14129638671875],\n",
              " ['ColortypesDone3/winter/00010708.jpg', 49.80584716796875],\n",
              " ['ColortypesDone3/winter/00004972.jpg', 36.19549560546875],\n",
              " ['ColortypesDone3/winter/00010912.jpg', 40.67303466796875],\n",
              " ['ColortypesDone3/winter/00008191.jpg', 48.98065185546875],\n",
              " ['ColortypesDone3/winter/00013200.jpg', 47.24774169921875],\n",
              " ['ColortypesDone3/winter/00003991.jpg', 41.51580810546875],\n",
              " ['ColortypesDone3/winter/00007936.jpg', 31.19500732421875],\n",
              " ['ColortypesDone3/winter/00011826.jpg', 50.51190185546875],\n",
              " ['ColortypesDone3/winter/00002669.jpg', 42.90252685546875],\n",
              " ['ColortypesDone3/winter/00011629.jpg', 103.14373779296875],\n",
              " ['ColortypesDone3/winter/00005648.jpg', 44.63787841796875],\n",
              " ['ColortypesDone3/winter/00009648.jpg', 118.50848388671875],\n",
              " ['ColortypesDone3/winter/00003417.jpg', 64.88787841796875],\n",
              " ['ColortypesDone3/winter/00003371.jpg', 55.28192138671875],\n",
              " ['ColortypesDone3/winter/00009489.jpg', 61.48846435546875],\n",
              " ['ColortypesDone3/winter/00004813.jpg', 37.50115966796875],\n",
              " ['ColortypesDone3/winter/00004608.jpg', 101.82586669921875],\n",
              " ['ColortypesDone3/winter/00001764.jpg', 32.99969482421875],\n",
              " ['ColortypesDone3/winter/00013360.jpg', 41.82000732421875],\n",
              " ['ColortypesDone3/winter/00011276.jpg', 52.71112060546875],\n",
              " ['ColortypesDone3/winter/00005571.jpg', 102.47381591796875],\n",
              " ['ColortypesDone3/winter/00008055.jpg', 61.99920654296875],\n",
              " ['ColortypesDone3/winter/00012743.jpg', 71.12518310546875],\n",
              " ['ColortypesDone3/winter/00006939.jpg', 51.99725341796875],\n",
              " ['ColortypesDone3/winter/00008928.jpg', 25.99237060546875],\n",
              " ['ColortypesDone3/winter/00011712.jpg', 62.77264404296875],\n",
              " ['ColortypesDone3/winter/00008519.jpg', 40.91229248046875],\n",
              " ['ColortypesDone3/winter/00011909.jpg', 38.99041748046875],\n",
              " ['ColortypesDone3/winter/00004451.jpg', 69.36053466796875],\n",
              " ['ColortypesDone3/winter/00007819.jpg', 74.24481201171875],\n",
              " ['ColortypesDone3/winter/00005798.jpg', 36.86444091796875],\n",
              " ['ColortypesDone3/winter/00011935.jpg', 76.90985107421875],\n",
              " ['ColortypesDone3/winter/00007010.jpg', 44.30926513671875],\n",
              " ['ColortypesDone3/winter/00006440.jpg', 58.66473388671875],\n",
              " ['ColortypesDone3/winter/00003276.jpg', 42.68768310546875],\n",
              " ['ColortypesDone3/winter/00009767.jpg', 95.73406982421875],\n",
              " ['ColortypesDone3/winter/00002815.jpg', 69.92596435546875],\n",
              " ['ColortypesDone3/winter/00012384.jpg', 48.82244873046875],\n",
              " ['ColortypesDone3/winter/00006859.jpg', 56.21209716796875],\n",
              " ['ColortypesDone3/winter/00002394.jpg', 46.10223388671875],\n",
              " ['ColortypesDone3/winter/00008849.jpg', 56.12420654296875],\n",
              " ['ColortypesDone3/winter/00013266.jpg', 46.48065185546875],\n",
              " ['ColortypesDone3/winter/00006119.jpg', 75.83514404296875],\n",
              " ['ColortypesDone3/winter/00007561.jpg', 44.29022216796875],\n",
              " ['ColortypesDone3/winter/00006455.jpg', 44.48846435546875],\n",
              " ['ColortypesDone3/winter/00007005.jpg', 39.11541748046875],\n",
              " ['ColortypesDone3/winter/00007830.jpg', 32.68035888671875],\n",
              " ['ColortypesDone3/winter/00012232.jpg', 92.45135498046875],\n",
              " ['ColortypesDone3/winter/00007617.jpg', 29.01239013671875],\n",
              " ['ColortypesDone3/winter/00006904.jpg', 39.45623779296875],\n",
              " ['ColortypesDone3/winter/00000391.jpg', 47.35516357421875],\n",
              " ['ColortypesDone3/winter/00004652.jpg', 52.05438232421875],\n",
              " ['ColortypesDone3/winter/00007373.jpg', 60.42156982421875],\n",
              " ['ColortypesDone3/winter/00009438.jpg', 33.06268310546875],\n",
              " ['ColortypesDone3/winter/00005566.jpg', 35.46502685546875],\n",
              " ['ColortypesDone3/winter/00006721.jpg', 61.71795654296875],\n",
              " ['ColortypesDone3/winter/00010341.jpg', 44.97967529296875],\n",
              " ['ColortypesDone3/winter/00002751.jpg', 56.85955810546875],\n",
              " ['ColortypesDone3/winter/00008446.jpg', 60.73651123046875],\n",
              " ['ColortypesDone3/winter/00009758.jpg', 35.29852294921875],\n",
              " ['ColortypesDone3/winter/00008334.jpg', 88.46942138671875],\n",
              " ['ColortypesDone3/winter/00005176.jpg', 35.15887451171875],\n",
              " ['ColortypesDone3/winter/00009016.jpg', 41.88787841796875],\n",
              " ['ColortypesDone3/winter/00006494.jpg', 49.66131591796875],\n",
              " ['ColortypesDone3/winter/00013099.jpg', 43.28240966796875],\n",
              " ['ColortypesDone3/winter/00002369.jpg', 37.78436279296875],\n",
              " ['ColortypesDone3/winter/00005412.jpg', 39.60711669921875],\n",
              " ['ColortypesDone3/winter/00012146.jpg', 94.11737060546875],\n",
              " ['ColortypesDone3/winter/00012634.jpg', 44.35906982421875],\n",
              " ['ColortypesDone3/winter/00004916.jpg', 59.23602294921875],\n",
              " ['ColortypesDone3/winter/00010793.jpg', 45.87030029296875],\n",
              " ['ColortypesDone3/winter/00006640.jpg', 39.22039794921875],\n",
              " ['ColortypesDone3/winter/00004719.jpg', 61.51483154296875],\n",
              " ['ColortypesDone3/winter/00008123.jpg', 59.42010498046875],\n",
              " ['ColortypesDone3/winter/00007576.jpg', 72.82733154296875],\n",
              " ['ColortypesDone3/winter/00005639.jpg', 44.63787841796875],\n",
              " ['ColortypesDone3/winter/00007827.jpg', 60.05780029296875],\n",
              " ['ColortypesDone3/winter/00010208.jpg', 40.67352294921875],\n",
              " ['ColortypesDone3/winter/00009177.jpg', 75.88690185546875],\n",
              " ['ColortypesDone3/winter/00005765.jpg', 45.86737060546875],\n",
              " ['ColortypesDone3/winter/00004686.jpg', 51.74627685546875],\n",
              " ['ColortypesDone3/winter/00012782.jpg', 76.00799560546875],\n",
              " ['ColortypesDone3/winter/00010817.jpg', 61.50799560546875],\n",
              " ['ColortypesDone3/winter/00006913.jpg', 30.86590576171875],\n",
              " ['ColortypesDone3/winter/00010181.jpg', 39.41082763671875],\n",
              " ['ColortypesDone3/winter/00004862.jpg', 40.10174560546875],\n",
              " ['ColortypesDone3/winter/00010630.jpg', 34.32586669921875],\n",
              " ['ColortypesDone3/winter/00001729.jpg', 93.80584716796875],\n",
              " ['ColortypesDone3/winter/00006720.jpg', 55.02606201171875],\n",
              " ['ColortypesDone3/winter/00006056.jpg', 44.21600341796875],\n",
              " ['ColortypesDone3/winter/00005205.jpg', 107.02313232421875],\n",
              " ['ColortypesDone3/winter/00010807.jpg', 39.44403076171875],\n",
              " ['ColortypesDone3/winter/00003476.jpg', 50.89178466796875],\n",
              " ['ColortypesDone3/winter/00006283.jpg', 37.34100341796875],\n",
              " ['ColortypesDone3/winter/00010387.jpg', 78.73504638671875],\n",
              " ['ColortypesDone3/winter/00006297.jpg', 46.65399169921875],\n",
              " ['ColortypesDone3/winter/00007994.jpg', 35.89862060546875],\n",
              " ['ColortypesDone3/winter/00013063.jpg', 37.62420654296875],\n",
              " ['ColortypesDone3/winter/00007957.jpg', 25.73504638671875],\n",
              " ['ColortypesDone3/winter/00012625.jpg', 49.45281982421875],\n",
              " ['ColortypesDone3/winter/00006122.jpg', 49.33514404296875],\n",
              " ['ColortypesDone3/winter/00011310.jpg', 48.66131591796875],\n",
              " ['ColortypesDone3/winter/00011476.jpg', 32.51776123046875],\n",
              " ['ColortypesDone3/winter/00007200.jpg', 45.65399169921875],\n",
              " ['ColortypesDone3/winter/00007566.jpg', 39.04217529296875],\n",
              " ['ColortypesDone3/winter/00003715.jpg', 41.37957763671875],\n",
              " ['ColortypesDone3/winter/00012156.jpg', 41.22381591796875],\n",
              " ['ColortypesDone3/winter/00006651.jpg', 41.17645263671875],\n",
              " ['ColortypesDone3/winter/00010580.jpg', 32.82440185546875],\n",
              " ['ColortypesDone3/winter/00005614.jpg', 70.85223388671875],\n",
              " ['ColortypesDone3/winter/00004250.jpg', 81.64569091796875],\n",
              " ['ColortypesDone3/winter/00007759.jpg', 37.64569091796875],\n",
              " ['ColortypesDone3/winter/00007995.jpg', 54.26287841796875],\n",
              " ['ColortypesDone3/winter/00008536.jpg', 27.97772216796875],\n",
              " ['ColortypesDone3/winter/00006533.jpg', 46.02459716796875],\n",
              " ['ColortypesDone3/winter/00005012.jpg', 37.45819091796875],\n",
              " ['ColortypesDone3/winter/00010184.jpg', 36.51629638671875],\n",
              " ['ColortypesDone3/winter/00010190.jpg', 76.27752685546875],\n",
              " ['ColortypesDone3/winter/00009358.jpg', 81.40106201171875],\n",
              " ['ColortypesDone3/winter/00007413.jpg', 39.97918701171875],\n",
              " ['ColortypesDone3/winter/00013466.jpg', 75.23162841796875],\n",
              " ['ColortypesDone3/winter/00004668.jpg', 52.82684326171875],\n",
              " ['ColortypesDone3/winter/00013472.jpg', 75.23162841796875],\n",
              " ['ColortypesDone3/winter/00007349.jpg', 36.42840576171875],\n",
              " ['ColortypesDone3/winter/00009370.jpg', 63.01385498046875],\n",
              " ['ColortypesDone3/winter/00010147.jpg', 32.12518310546875],\n",
              " ['ColortypesDone3/winter/00005206.jpg', 37.27020263671875],\n",
              " ['ColortypesDone3/winter/00005574.jpg', 32.72967529296875],\n",
              " ['ColortypesDone3/winter/00012008.jpg', 50.31903076171875],\n",
              " ['ColortypesDone3/winter/00003688.jpg', 46.54364013671875],\n",
              " ['ColortypesDone3/winter/00010192.jpg', 45.08709716796875],\n",
              " ['ColortypesDone3/winter/00012587.jpg', 46.12811279296875],\n",
              " ['ColortypesDone3/winter/00002780.jpg', 45.46942138671875],\n",
              " ['ColortypesDone3/winter/00005979.jpg', 37.69012451171875],\n",
              " ['ColortypesDone3/winter/00007001.jpg', 51.17742919921875],\n",
              " ['ColortypesDone3/winter/00007015.jpg', 44.30926513671875],\n",
              " ['ColortypesDone3/winter/00000949.jpg', 54.51873779296875],\n",
              " ['ColortypesDone3/winter/00011688.jpg', 56.43914794921875],\n",
              " ['ColortypesDone3/winter/00006486.jpg', 97.33612060546875],\n",
              " ['ColortypesDone3/winter/00006121.jpg', 51.61151123046875],\n",
              " ['ColortypesDone3/winter/00002409.jpg', 55.78729248046875],\n",
              " ['ColortypesDone3/winter/00006684.jpg', 57.28240966796875],\n",
              " ['ColortypesDone3/winter/00012800.jpg', 71.86737060546875],\n",
              " ['ColortypesDone3/winter/00012182.jpg', 23.01287841796875],\n",
              " ['ColortypesDone3/winter/00012814.jpg', 46.97967529296875],\n",
              " ['ColortypesDone3/winter/00010795.jpg', 41.41326904296875],\n",
              " ['ColortypesDone3/winter/00007570.jpg', 49.91912841796875],\n",
              " ['ColortypesDone3/winter/00011312.jpg', 48.66131591796875],\n",
              " ['ColortypesDone3/winter/00013511.jpg', 39.01385498046875],\n",
              " ['ColortypesDone3/winter/00003702.jpg', 38.11492919921875],\n",
              " ['ColortypesDone3/winter/00009561.jpg', 62.99920654296875],\n",
              " ['ColortypesDone3/winter/00007766.jpg', 52.81854248046875],\n",
              " ['ColortypesDone3/winter/00006450.jpg', 39.70037841796875],\n",
              " ['ColortypesDone3/winter/00002150.jpg', 64.10858154296875],\n",
              " ['ColortypesDone3/winter/00006295.jpg', 46.01483154296875],\n",
              " ['ColortypesDone3/winter/00008509.jpg', 40.91229248046875],\n",
              " ['ColortypesDone3/winter/00006524.jpg', 69.83514404296875],\n",
              " ['ColortypesDone3/winter/00009398.jpg', 65.07537841796875],\n",
              " ['ColortypesDone3/winter/00001075.jpg', 55.25311279296875],\n",
              " ['ColortypesDone3/winter/00003475.jpg', 111.24822998046875],\n",
              " ['ColortypesDone3/afro/00000821.jpg', 56.21014404296875],\n",
              " ['ColortypesDone3/afro/00001616.jpg', 34.53289794921875],\n",
              " ['ColortypesDone3/afro/00002976.jpg', 68.83416748046875],\n",
              " ['ColortypesDone3/afro/00003577.jpg', 41.85662841796875],\n",
              " ['ColortypesDone3/afro/00002062.jpg', 49.57684326171875],\n",
              " ['ColortypesDone3/afro/00002982.jpg', 46.32781982421875],\n",
              " ['ColortypesDone3/afro/00003029.jpg', 48.91033935546875],\n",
              " ['ColortypesDone3/afro/00003796.jpg', 50.46209716796875],\n",
              " ['ColortypesDone3/afro/00002080.jpg', 63.02459716796875],\n",
              " ['ColortypesDone3/afro/00003741.jpg', 87.45721435546875],\n",
              " ['ColortypesDone3/afro/00004097.jpg', 41.57244873046875],\n",
              " ['ColortypesDone3/afro/00004103.jpg', 68.11785888671875],\n",
              " ['ColortypesDone3/afro/00004220.jpg', 39.50994873046875],\n",
              " ['ColortypesDone3/afro/00004329.jpg', 38.37420654296875],\n",
              " ['ColortypesDone3/afro/00004392.jpg', 9.36004638671875],\n",
              " ['ColortypesDone3/afro/00005070.jpg', 30.07635498046875],\n",
              " ['ColortypesDone3/afro/00005365.jpg', 43.51776123046875],\n",
              " ['ColortypesDone3/afro/00005762.jpg', 62.21649169921875],\n",
              " ['ColortypesDone3/afro/00005790.jpg', 31.89959716796875],\n",
              " ['ColortypesDone3/afro/00006158.jpg', 41.89617919921875],\n",
              " ['ColortypesDone3/afro/00006362.jpg', 48.90252685546875],\n",
              " ['ColortypesDone3/afro/00006901.jpg', 36.69012451171875],\n",
              " ['ColortypesDone3/afro/00006254.jpg', 36.87908935546875],\n",
              " ['ColortypesDone3/afro/00006732.jpg', 58.66278076171875],\n",
              " ['ColortypesDone3/afro/00006680.jpg', 50.90887451171875],\n",
              " ['ColortypesDone3/afro/00007121.jpg', 64.05633544921875],\n",
              " ['ColortypesDone3/afro/00007077.jpg', 46.49237060546875],\n",
              " ['ColortypesDone3/afro/00007482.jpg', 50.37811279296875],\n",
              " ...]"
            ]
          },
          "metadata": {
            "tags": []
          },
          "execution_count": 19
        }
      ]
    },
    {
      "cell_type": "code",
      "metadata": {
        "colab": {
          "base_uri": "https://localhost:8080/"
        },
        "id": "p3ha2K5lMc0J",
        "outputId": "5f736c87-4557-47c9-a81a-724b1330cf66"
      },
      "source": [
        "print(len(list_of_all_imges))\n",
        "print(len(list_of_all_images_quality_assesments))"
      ],
      "execution_count": null,
      "outputs": [
        {
          "output_type": "stream",
          "text": [
            "6503\n",
            "6503\n"
          ],
          "name": "stdout"
        }
      ]
    },
    {
      "cell_type": "code",
      "metadata": {
        "id": "QvedgfaePzLF"
      },
      "source": [
        "import numpy as np\n",
        "import matplotlib.pyplot as plt\n",
        "import pandas as pd"
      ],
      "execution_count": null,
      "outputs": []
    },
    {
      "cell_type": "code",
      "metadata": {
        "colab": {
          "base_uri": "https://localhost:8080/"
        },
        "id": "2IteN2lJ15Nd",
        "outputId": "8bb0da0b-cf64-46c3-a73d-b3c56e946ae5"
      },
      "source": [
        "'1'.isnumeric()"
      ],
      "execution_count": null,
      "outputs": [
        {
          "output_type": "execute_result",
          "data": {
            "text/plain": [
              "True"
            ]
          },
          "metadata": {
            "tags": []
          },
          "execution_count": 22
        }
      ]
    },
    {
      "cell_type": "code",
      "metadata": {
        "id": "l3OCQqO0xjeQ"
      },
      "source": [
        "def fun(x):\n",
        "  x[1] = format(float(x[1]), '.2f')\n",
        "  return x"
      ],
      "execution_count": null,
      "outputs": []
    },
    {
      "cell_type": "code",
      "metadata": {
        "id": "HWLaTGXQ0II0"
      },
      "source": [
        "list_of_all_images_quality_assesments = np.apply_along_axis(fun, 1, list_of_all_images_quality_assesments)"
      ],
      "execution_count": null,
      "outputs": []
    },
    {
      "cell_type": "code",
      "metadata": {
        "colab": {
          "base_uri": "https://localhost:8080/"
        },
        "id": "2jUmmGxS1jPb",
        "outputId": "0d06a3d9-54c3-4cf3-cffd-236965639110"
      },
      "source": [
        "list_of_all_images_quality_assesments"
      ],
      "execution_count": null,
      "outputs": [
        {
          "output_type": "execute_result",
          "data": {
            "text/plain": [
              "array([['ColortypesDone3/spring/00003684.jpg', '69.52'],\n",
              "       ['ColortypesDone3/spring/00007582.jpg', '36.79'],\n",
              "       ['ColortypesDone3/spring/00009974.jpg', '56.44'],\n",
              "       ...,\n",
              "       ['ColortypesDone1/summer/00000243.jpg', '38.93'],\n",
              "       ['ColortypesDone1/summer/00000287.jpg', '35.18'],\n",
              "       ['ColortypesDone1/summer/00000288.jpg', '44.86']], dtype='<U55')"
            ]
          },
          "metadata": {
            "tags": []
          },
          "execution_count": 25
        }
      ]
    },
    {
      "cell_type": "code",
      "metadata": {
        "id": "btDVlokVNHyW"
      },
      "source": [
        "#torch.save(list_of_all_images_quality_assesments, 'list_of_all_images_quality_assesments.txt')"
      ],
      "execution_count": null,
      "outputs": []
    },
    {
      "cell_type": "code",
      "metadata": {
        "id": "4Jo0oXedPiZu"
      },
      "source": [
        "list_of_all_images_quality_assesments = np.array(list_of_all_images_quality_assesments)\n",
        "all_quality = np.asarray(list_of_all_images_quality_assesments[:, 1], dtype = np.float64, order ='C')\n",
        "#all_quality = sorted(all_quality)"
      ],
      "execution_count": null,
      "outputs": []
    },
    {
      "cell_type": "code",
      "metadata": {
        "colab": {
          "base_uri": "https://localhost:8080/"
        },
        "id": "aUCgOiM1kFvk",
        "outputId": "7e4a7eb4-074d-46eb-9045-239aefe900af"
      },
      "source": [
        "all_quality"
      ],
      "execution_count": null,
      "outputs": [
        {
          "output_type": "execute_result",
          "data": {
            "text/plain": [
              "array([69.52, 36.79, 56.44, ..., 38.93, 35.18, 44.86])"
            ]
          },
          "metadata": {
            "tags": []
          },
          "execution_count": 28
        }
      ]
    },
    {
      "cell_type": "code",
      "metadata": {
        "colab": {
          "base_uri": "https://localhost:8080/"
        },
        "id": "puESOKU1YRvs",
        "outputId": "8241da04-be55-4449-ed5e-752fe602d5e7"
      },
      "source": [
        "max(all_quality)"
      ],
      "execution_count": null,
      "outputs": [
        {
          "output_type": "execute_result",
          "data": {
            "text/plain": [
              "182.42"
            ]
          },
          "metadata": {
            "tags": []
          },
          "execution_count": 29
        }
      ]
    },
    {
      "cell_type": "code",
      "metadata": {
        "colab": {
          "base_uri": "https://localhost:8080/"
        },
        "id": "PeeHEnl6YRyo",
        "outputId": "e5e78d41-5641-4a69-8113-46cb132c8095"
      },
      "source": [
        "min(all_quality)"
      ],
      "execution_count": null,
      "outputs": [
        {
          "output_type": "execute_result",
          "data": {
            "text/plain": [
              "1.64"
            ]
          },
          "metadata": {
            "tags": []
          },
          "execution_count": 30
        }
      ]
    },
    {
      "cell_type": "code",
      "metadata": {
        "colab": {
          "base_uri": "https://localhost:8080/"
        },
        "id": "R4JGYROuqOOm",
        "outputId": "e4526b15-1474-496a-85e4-93f6a3a7845a"
      },
      "source": [
        "list_of_all_images_quality_assesments[np.where(np.isin(list_of_all_images_quality_assesments[:, 0], 'ColortypesDone4/непонятно/00000855.jpg'))]"
      ],
      "execution_count": null,
      "outputs": [
        {
          "output_type": "execute_result",
          "data": {
            "text/plain": [
              "array([], shape=(0, 2), dtype='<U55')"
            ]
          },
          "metadata": {
            "tags": []
          },
          "execution_count": 66
        }
      ]
    },
    {
      "cell_type": "code",
      "metadata": {
        "id": "Lr9O0KPmwcNx"
      },
      "source": [
        "all_quality_sorted = np.sort(all_quality)"
      ],
      "execution_count": null,
      "outputs": []
    },
    {
      "cell_type": "code",
      "metadata": {
        "colab": {
          "base_uri": "https://localhost:8080/"
        },
        "id": "BHApBiWwwgv2",
        "outputId": "adbf8295-6258-4e27-fe00-ba0f23b6bb3d"
      },
      "source": [
        "print(all_quality_sorted)"
      ],
      "execution_count": null,
      "outputs": [
        {
          "output_type": "stream",
          "text": [
            "[  1.64   9.18   9.36 ... 180.75 182.42 182.42]\n"
          ],
          "name": "stdout"
        }
      ]
    },
    {
      "cell_type": "code",
      "metadata": {
        "colab": {
          "base_uri": "https://localhost:8080/"
        },
        "id": "VGqx_4p_JKq0",
        "outputId": "23148911-dc17-4122-b555-5e64df3e0422"
      },
      "source": [
        "list_of_all_images_quality_assesments[np.where(np.isin(list_of_all_images_quality_assesments[:, 1], str(all_quality_sorted[-40])))]"
      ],
      "execution_count": null,
      "outputs": [
        {
          "output_type": "execute_result",
          "data": {
            "text/plain": [
              "array([['ColortypesDone4/непонятно/00001001.jpg', '122.65']], dtype='<U55')"
            ]
          },
          "metadata": {
            "tags": []
          },
          "execution_count": 65
        }
      ]
    },
    {
      "cell_type": "code",
      "metadata": {
        "colab": {
          "base_uri": "https://localhost:8080/",
          "height": 754
        },
        "id": "xA2vcTckPw-4",
        "outputId": "e98f1b80-5ab5-4136-afd4-5581a03970f0"
      },
      "source": [
        "plt.figure(figsize=(36, 14))\n",
        "plt.hist(all_quality_sorted, bins=180)\n",
        "plt.xticks(rotation=30)"
      ],
      "execution_count": null,
      "outputs": [
        {
          "output_type": "execute_result",
          "data": {
            "text/plain": [
              "(array([-25.,   0.,  25.,  50.,  75., 100., 125., 150., 175., 200.]),\n",
              " <a list of 10 Text major ticklabel objects>)"
            ]
          },
          "metadata": {
            "tags": []
          },
          "execution_count": 35
        },
        {
          "output_type": "display_data",
          "data": {
            "image/png": "[encoded data removed]",
            "text/plain": [
              "<Figure size 2592x1008 with 1 Axes>"
            ]
          },
          "metadata": {
            "tags": [],
            "needs_background": "light"
          }
        }
      ]
    },
    {
      "cell_type": "code",
      "metadata": {
        "id": "ZtWR1tRuT1H-",
        "colab": {
          "base_uri": "https://localhost:8080/"
        },
        "outputId": "8fd46d43-915e-4e2e-b975-c886264ed3a8"
      },
      "source": [
        "6503*0.3"
      ],
      "execution_count": null,
      "outputs": [
        {
          "output_type": "execute_result",
          "data": {
            "text/plain": [
              "1950.8999999999999"
            ]
          },
          "metadata": {
            "tags": []
          },
          "execution_count": 36
        }
      ]
    },
    {
      "cell_type": "code",
      "metadata": {
        "colab": {
          "base_uri": "https://localhost:8080/"
        },
        "id": "JAw67ySM-wJi",
        "outputId": "026dbf68-7ecc-431a-a72d-6177e53e5fd0"
      },
      "source": [
        "all_quality_sorted[2400]"
      ],
      "execution_count": null,
      "outputs": [
        {
          "output_type": "execute_result",
          "data": {
            "text/plain": [
              "43.63"
            ]
          },
          "metadata": {
            "tags": []
          },
          "execution_count": 40
        }
      ]
    },
    {
      "cell_type": "code",
      "metadata": {
        "id": "Nr6WJJO7--HJ"
      },
      "source": [
        ""
      ],
      "execution_count": null,
      "outputs": []
    }
  ]
}