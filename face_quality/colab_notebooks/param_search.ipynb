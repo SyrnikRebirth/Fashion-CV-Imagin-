{
  "nbformat": 4,
  "nbformat_minor": 0,
  "metadata": {
    "colab": {
      "name": "Untitled5.ipynb",
      "provenance": [],
      "collapsed_sections": []
    },
    "kernelspec": {
      "name": "python3",
      "display_name": "Python 3"
    },
    "language_info": {
      "name": "python"
    }
  },
  "cells": [
    {
      "cell_type": "markdown",
      "metadata": {
        "id": "t6WjrklRHSx3"
      },
      "source": [
        "# Сначала подгрузим данные с гуглдока #"
      ]
    },
    {
      "cell_type": "code",
      "metadata": {
        "colab": {
          "base_uri": "https://localhost:8080/"
        },
        "id": "WZB4vnrQrX_I",
        "outputId": "7254bf28-c91b-4e6b-b152-a03a4ab30765"
      },
      "source": [
        "from google.colab import drive\n",
        "drive.mount('/content/drive')"
      ],
      "execution_count": null,
      "outputs": [
        {
          "output_type": "stream",
          "text": [
            "Mounted at /content/drive\n"
          ],
          "name": "stdout"
        }
      ]
    },
    {
      "cell_type": "code",
      "metadata": {
        "colab": {
          "base_uri": "https://localhost:8080/"
        },
        "id": "0UTuuZMWrbCt",
        "outputId": "22c13a72-60a1-4cf6-8a5a-5c3183916b3e"
      },
      "source": [
        "%ls"
      ],
      "execution_count": null,
      "outputs": [
        {
          "output_type": "stream",
          "text": [
            "\u001b[0m\u001b[01;34mdrive\u001b[0m/  \u001b[01;34msample_data\u001b[0m/\n"
          ],
          "name": "stdout"
        }
      ]
    },
    {
      "cell_type": "code",
      "metadata": {
        "colab": {
          "base_uri": "https://localhost:8080/"
        },
        "id": "FVK6QeBUsKxY",
        "outputId": "b5a69ff0-ac29-4b0f-fd1d-61167d809c17"
      },
      "source": [
        "% cd drive/MyDrive/"
      ],
      "execution_count": null,
      "outputs": [
        {
          "output_type": "stream",
          "text": [
            "/content/drive/MyDrive\n"
          ],
          "name": "stdout"
        }
      ]
    },
    {
      "cell_type": "code",
      "metadata": {
        "id": "syYtx7g3nRNy",
        "colab": {
          "base_uri": "https://localhost:8080/"
        },
        "outputId": "05b50e87-807e-44cb-dfdf-07375f44442a"
      },
      "source": [
        "%ls"
      ],
      "execution_count": null,
      "outputs": [
        {
          "output_type": "stream",
          "text": [
            " 1.JPG\n",
            "'8 билет.pdf.gdoc'\n",
            " \u001b[0m\u001b[01;34mbad_contrast_1\u001b[0m/\n",
            " \u001b[01;34mbad_contrast_2\u001b[0m/\n",
            " \u001b[01;34mbad_contrast_3\u001b[0m/\n",
            " \u001b[01;34mbad_contrast_4\u001b[0m/\n",
            " \u001b[01;34mbad_contrast_5\u001b[0m/\n",
            " \u001b[01;34mbright_images\u001b[0m/\n",
            "\u001b[01;34m'Colab Notebooks'\u001b[0m/\n",
            " \u001b[01;36mColortypesDone1\u001b[0m@\n",
            " \u001b[01;36mColortypesDone2\u001b[0m@\n",
            " \u001b[01;36mColortypesDone3\u001b[0m@\n",
            " \u001b[01;36mColortypesDone4\u001b[0m@\n",
            " \u001b[01;36mDIHT_lectures\u001b[0m@\n",
            " \u001b[01;34mdim_images\u001b[0m/\n",
            "'ege18 (1).doc'\n",
            " ege27-C4.doc\n",
            " fiz_demo_2016.pdf\n",
            "'input1 (1).dat.gdoc'\n",
            " input1.dat.gdoc\n",
            "'input2 (1).dat.gdoc'\n",
            " input2.dat.gdoc\n",
            " list_of_all_images_quality_assesments.txt\n",
            " M1_9_15_3.pdf\n",
            "'Nashe postchelovecheskoe buduschee_ Posledstviya biotehnologicheskoj revolyucii .fb2.gdoc'\n",
            " \u001b[01;34mnormal_images\u001b[0m/\n",
            "'Novy_textovy_dokument_7 (1).txt.gdoc'\n",
            " Novy_textovy_dokument_7.txt.gdoc\n",
            " Novy_textovy_dokument_8.txt.gdoc\n",
            " output1.dat.gdoc\n",
            "'output2 (1).dat.gdoc'\n",
            "'output2 (2).dat.gdoc'\n",
            " output2.dat.gdoc\n",
            " output3.dat.gdoc\n",
            " passed_images_brightness.txt\n",
            " passed_images_names.txt\n",
            "'Proga_zachet (1).gdoc'\n",
            "'Proga_zachet (2).gdoc'\n",
            " Proga_zachet.gdoc\n",
            "'Python siftDown или запихиваем эелементы в самое начало кучи(даже не говнокод).txt.gdoc'\n",
            "'Python Обход в ширину.txt.gdoc'\n",
            " Referat.gdoc\n",
            "'Savage Worlds_ Дневник авантюриста (1).pdf'\n",
            "'[seminar]numpy.ipynb'\n",
            " tensor.pt\n",
            "'The value of handwriting.gdoc'\n",
            "'Untitled Diagram (1).html'\n",
            "'Untitled Diagram.html'\n",
            "'Богомолов Первая любовь.gdoc'\n",
            "'Мобидик краткое.gdoc'\n",
            "'Новый документ (1).gdoc'\n",
            "'Новый документ (2).gdoc'\n",
            "'Новый документ (3).gdoc'\n",
            "'Новый документ.gdoc'\n",
            "'Почему война не меняется [Ссылки].gdoc'\n",
            "\u001b[01;36m'Практикум по научному программированию'\u001b[0m@\n",
            "\u001b[01;36m'[Практикум по статам]Общая папка'\u001b[0m@\n",
            "\u001b[01;36m'Программирование на платформе DotNet'\u001b[0m@\n",
            "\u001b[01;36m'Сова Глеб Вячеславович'\u001b[0m@\n",
            " Содержание.docx\n",
            " Содержание.gdoc\n",
            " Создай-свою-нейросеть.pdf\n",
            " \u001b[01;34mСолодин\u001b[0m/\n",
            "'Сочинение 1.gdoc'\n",
            "'С ЦЕ НА РЕЙ.docx'\n",
            "'С ЦЕ НА РЕЙ.gdoc'\n"
          ],
          "name": "stdout"
        }
      ]
    },
    {
      "cell_type": "code",
      "metadata": {
        "id": "_IsVXL5EsMJr"
      },
      "source": [
        "import glob"
      ],
      "execution_count": null,
      "outputs": []
    },
    {
      "cell_type": "code",
      "metadata": {
        "id": "uGqZJ1tysO8U"
      },
      "source": [
        "list_of_all_imges = glob.glob('ColortypesDone[1-4]/*/*.jpg')"
      ],
      "execution_count": null,
      "outputs": []
    },
    {
      "cell_type": "markdown",
      "metadata": {
        "id": "E3GPE0sVHbpJ"
      },
      "source": [
        "# Теперь пройдемся по всем данным, составляя лист из изображений, проходящих is_low_contrast, и лист из яркостей этих изображений соотвественно #"
      ]
    },
    {
      "cell_type": "code",
      "metadata": {
        "id": "8gpuLX7zsQnv"
      },
      "source": [
        "from skimage.exposure import is_low_contrast\n",
        "from skimage.io import imread\n",
        "from PIL import ImageStat, Image"
      ],
      "execution_count": null,
      "outputs": []
    },
    {
      "cell_type": "code",
      "metadata": {
        "id": "-sE1gaxVyefO"
      },
      "source": [
        "def brightness(image):\n",
        "   im = Image.open(image).convert('L')\n",
        "   stat = ImageStat.Stat(im)\n",
        "   return stat.mean[0]"
      ],
      "execution_count": null,
      "outputs": []
    },
    {
      "cell_type": "code",
      "metadata": {
        "id": "u-3iK8PruYcb"
      },
      "source": [
        "passed_images_names = []\n",
        "passed_images_brightness = []"
      ],
      "execution_count": null,
      "outputs": []
    },
    {
      "cell_type": "code",
      "metadata": {
        "id": "IWKoVBIntiZc"
      },
      "source": [
        "for image_name in list_of_all_imges:\n",
        "  if not is_low_contrast(imread(image_name)):\n",
        "    passed_images_names.append(image_name)\n",
        "    passed_images_brightness.append(brightness(image_name))"
      ],
      "execution_count": null,
      "outputs": []
    },
    {
      "cell_type": "markdown",
      "metadata": {
        "id": "j_H2clsgHzc6"
      },
      "source": [
        "две ячейки для сохранения\\выгрузки наших данных"
      ]
    },
    {
      "cell_type": "code",
      "metadata": {
        "id": "Rx5WnWPkhPH5"
      },
      "source": [
        "import torch"
      ],
      "execution_count": null,
      "outputs": []
    },
    {
      "cell_type": "code",
      "metadata": {
        "id": "TmIq6Cg69Sqx"
      },
      "source": [
        "#torch.save(passed_images_names, 'passed_images_names.txt')\n",
        "#torch.save(passed_images_brightness, 'passed_images_brightness.txt')"
      ],
      "execution_count": null,
      "outputs": []
    },
    {
      "cell_type": "code",
      "metadata": {
        "id": "hD8vRWc2Cfp5"
      },
      "source": [
        "passed_images_names = torch.load('passed_images_names.txt')\n",
        "passed_images_brightness = torch.load('passed_images_brightness.txt')"
      ],
      "execution_count": null,
      "outputs": []
    },
    {
      "cell_type": "markdown",
      "metadata": {
        "id": "AbVBb-wYIBCW"
      },
      "source": [
        "#  Сделаем гистограмму по яркости #"
      ]
    },
    {
      "cell_type": "code",
      "metadata": {
        "id": "WSXQa9Nd-UCU"
      },
      "source": [
        "import numpy as np\n",
        "import matplotlib.pyplot as plt"
      ],
      "execution_count": null,
      "outputs": []
    },
    {
      "cell_type": "markdown",
      "metadata": {
        "id": "SbHOZ21PTO_z"
      },
      "source": [
        "Преобразуем данные, оставив только два знака после запятой"
      ]
    },
    {
      "cell_type": "code",
      "metadata": {
        "colab": {
          "base_uri": "https://localhost:8080/"
        },
        "id": "bdiMtLRo9SwN",
        "outputId": "abf278ca-eb1a-4635-8695-69e33212250d"
      },
      "source": [
        "max(passed_images_brightness)"
      ],
      "execution_count": null,
      "outputs": [
        {
          "output_type": "execute_result",
          "data": {
            "text/plain": [
              "244.91566529492457"
            ]
          },
          "metadata": {
            "tags": []
          },
          "execution_count": 14
        }
      ]
    },
    {
      "cell_type": "code",
      "metadata": {
        "colab": {
          "base_uri": "https://localhost:8080/"
        },
        "id": "5F-niZu8uw7c",
        "outputId": "e9f39027-b10c-4e19-8018-09b3aa793d07"
      },
      "source": [
        "min(passed_images_brightness)"
      ],
      "execution_count": null,
      "outputs": [
        {
          "output_type": "execute_result",
          "data": {
            "text/plain": [
              "3.8201941015089163"
            ]
          },
          "metadata": {
            "tags": []
          },
          "execution_count": 15
        }
      ]
    },
    {
      "cell_type": "code",
      "metadata": {
        "colab": {
          "base_uri": "https://localhost:8080/",
          "height": 756
        },
        "id": "0ztbGDU0tvsM",
        "outputId": "131bd53e-20b6-42d4-8e17-d72baf293b58"
      },
      "source": [
        "plt.figure(figsize=(36, 14))\n",
        "counts, edges, plot = plt.hist(np.sort(passed_images_brightness), bins=240)\n",
        "plt.xticks(rotation=30)"
      ],
      "execution_count": null,
      "outputs": [
        {
          "output_type": "execute_result",
          "data": {
            "text/plain": [
              "(array([-50.,   0.,  50., 100., 150., 200., 250., 300.]),\n",
              " <a list of 8 Text major ticklabel objects>)"
            ]
          },
          "metadata": {
            "tags": []
          },
          "execution_count": 16
        },
        {
          "output_type": "display_data",
          "data": {
            "image/png": "[encoded data removed]",
            "text/plain": [
              "<Figure size 2592x1008 with 1 Axes>"
            ]
          },
          "metadata": {
            "tags": [],
            "needs_background": "light"
          }
        }
      ]
    },
    {
      "cell_type": "markdown",
      "metadata": {
        "id": "b_j1ASm7IUGy"
      },
      "source": [
        "# Проведем линию по 10% всех самых ярких и самых тусклых картинок #"
      ]
    },
    {
      "cell_type": "code",
      "metadata": {
        "colab": {
          "base_uri": "https://localhost:8080/"
        },
        "id": "sEbwrHbhu-1t",
        "outputId": "381faa08-d6df-4542-b276-70a3464c7365"
      },
      "source": [
        "stopping_value = 650\n",
        "current_count = 0\n",
        "i = 0\n",
        "\n",
        "while current_count < stopping_value:\n",
        "  current_count += counts[i]\n",
        "  i += 1\n",
        "\n",
        "print(i)\n",
        "print(edges[i])"
      ],
      "execution_count": null,
      "outputs": [
        {
          "output_type": "stream",
          "text": [
            "73\n",
            "77.15339992283951\n"
          ],
          "name": "stdout"
        }
      ]
    },
    {
      "cell_type": "code",
      "metadata": {
        "id": "OSgGi30kGZrd"
      },
      "source": [
        "left_border = edges[i]"
      ],
      "execution_count": null,
      "outputs": []
    },
    {
      "cell_type": "code",
      "metadata": {
        "colab": {
          "base_uri": "https://localhost:8080/"
        },
        "id": "pW2_pBKiGeK6",
        "outputId": "b1992e6b-ef62-4cf0-9b81-f1edebe8da8a"
      },
      "source": [
        "current_count = 0\n",
        "i = len(counts) - 1\n",
        "\n",
        "while current_count < stopping_value:\n",
        "  current_count += counts[i]\n",
        "  i -= 1\n",
        "\n",
        "print(i)\n",
        "print(edges[i])"
      ],
      "execution_count": null,
      "outputs": [
        {
          "output_type": "stream",
          "text": [
            "167\n",
            "171.58245947359399\n"
          ],
          "name": "stdout"
        }
      ]
    },
    {
      "cell_type": "code",
      "metadata": {
        "id": "XUt0a82cGnDH"
      },
      "source": [
        "right_border = edges[i]"
      ],
      "execution_count": null,
      "outputs": []
    },
    {
      "cell_type": "code",
      "metadata": {
        "colab": {
          "base_uri": "https://localhost:8080/",
          "height": 754
        },
        "id": "LU7ihWkhGqNu",
        "outputId": "e80f2b47-db5b-4b11-f306-b72fad524d5a"
      },
      "source": [
        "plt.figure(figsize=(36, 14))\n",
        "counts, edges, plot = plt.hist(np.sort(passed_images_brightness), bins=240)\n",
        "plt.vlines(left_border, 0, 100, color='red', label='left_border')\n",
        "plt.vlines(right_border, 0, 100, color='red', label='right_border')\n",
        "plt.xticks(rotation=30)"
      ],
      "execution_count": null,
      "outputs": [
        {
          "output_type": "execute_result",
          "data": {
            "text/plain": [
              "(array([-50.,   0.,  50., 100., 150., 200., 250., 300.]),\n",
              " <a list of 8 Text major ticklabel objects>)"
            ]
          },
          "metadata": {
            "tags": []
          },
          "execution_count": 21
        },
        {
          "output_type": "display_data",
          "data": {
            "image/png": "[encoded data removed]",
            "text/plain": [
              "<Figure size 2592x1008 with 1 Axes>"
            ]
          },
          "metadata": {
            "tags": [],
            "needs_background": "light"
          }
        }
      ]
    },
    {
      "cell_type": "markdown",
      "metadata": {
        "id": "I3WTlWPtIiZq"
      },
      "source": [
        "Получились следующие границы:\n",
        "граница слева равна 77, а граница справа равна 171"
      ]
    },
    {
      "cell_type": "code",
      "metadata": {
        "id": "mAyhcYZ3ymyy"
      },
      "source": [
        ""
      ],
      "execution_count": null,
      "outputs": []
    },
    {
      "cell_type": "markdown",
      "metadata": {
        "id": "AbaCRnSbIziS"
      },
      "source": [
        "Замечаем странность...."
      ]
    },
    {
      "cell_type": "code",
      "metadata": {
        "colab": {
          "base_uri": "https://localhost:8080/"
        },
        "id": "ZYr9Rt839Stj",
        "outputId": "86d214a6-8c9e-4e49-8c28-866b1c11687e"
      },
      "source": [
        "print(len(passed_images_brightness))\n",
        "print(len(list_of_all_imges))"
      ],
      "execution_count": null,
      "outputs": [
        {
          "output_type": "stream",
          "text": [
            "6503\n",
            "6503\n"
          ],
          "name": "stdout"
        }
      ]
    },
    {
      "cell_type": "markdown",
      "metadata": {
        "id": "S-hHU0LwI3fh"
      },
      "source": [
        "Т.е. через is_low_contrast у нас прошли воообще все изображения. Эт странно, поэтому я сделаю три выборки по яркости (первые и последние 10% изображений по яркости и все остальные)"
      ]
    },
    {
      "cell_type": "code",
      "metadata": {
        "id": "y0taJ8JiI1s8"
      },
      "source": [
        "dim_images = []\n",
        "normal_images = []\n",
        "bright_images = []"
      ],
      "execution_count": null,
      "outputs": []
    },
    {
      "cell_type": "code",
      "metadata": {
        "id": "WTXF9vndMASo"
      },
      "source": [
        "names_and_brightness = list(zip(passed_images_names, passed_images_brightness))"
      ],
      "execution_count": null,
      "outputs": []
    },
    {
      "cell_type": "code",
      "metadata": {
        "id": "NEzGtNrjKi0N"
      },
      "source": [
        "for image in names_and_brightness:\n",
        "  if image[1] < left_border:\n",
        "    dim_images.append(image)\n",
        "  elif image[1] > right_border:\n",
        "    bright_images.append(image)\n",
        "  else:\n",
        "    normal_images.append(image)"
      ],
      "execution_count": null,
      "outputs": []
    },
    {
      "cell_type": "code",
      "metadata": {
        "colab": {
          "base_uri": "https://localhost:8080/"
        },
        "id": "8AaXCvoDKjj_",
        "outputId": "b8e5350f-51ea-4f78-bc43-9477b6528b7f"
      },
      "source": [
        "bright_images"
      ],
      "execution_count": null,
      "outputs": [
        {
          "output_type": "execute_result",
          "data": {
            "text/plain": [
              "[('ColortypesDone3/spring/00007345.jpg', 178.60181932517997),\n",
              " ('ColortypesDone3/spring/00008851.jpg', 194.375268175583),\n",
              " ('ColortypesDone3/spring/00010441.jpg', 201.97017272168705),\n",
              " ('ColortypesDone3/spring/00009412.jpg', 180.62398907574584),\n",
              " ('ColortypesDone3/mixed/00007147.jpg', 188.28871033836788),\n",
              " ('ColortypesDone3/mixed/00007988.jpg', 244.91566529492457),\n",
              " ('ColortypesDone3/mixed/00011520.jpg', 177.59380658436214),\n",
              " ('ColortypesDone3/mixed/00011949.jpg', 197.65659396433472),\n",
              " ('ColortypesDone3/mixed/00013409.jpg', 199.6215048010974),\n",
              " ('ColortypesDone3/mixed/00010128.jpg', 215.0576774691358),\n",
              " ('ColortypesDone3/mixed/00013368.jpg', 195.75079149296116),\n",
              " ('ColortypesDone3/mixed/00007305.jpg', 203.58274537037036),\n",
              " ('ColortypesDone3/mixed/00007717.jpg', 206.00800685871056),\n",
              " ('ColortypesDone3/mixed/00007313.jpg', 203.58274537037036),\n",
              " ('ColortypesDone3/mixed/00013016.jpg', 176.21512278363423),\n",
              " ('ColortypesDone3/mixed/00010133.jpg', 215.0576774691358),\n",
              " ('ColortypesDone3/mixed/00008109.jpg', 196.6543244949495),\n",
              " ('ColortypesDone3/mixed/00012355.jpg', 190.54994865023474),\n",
              " ('ColortypesDone3/mixed/00006687.jpg', 180.00414965986394),\n",
              " ('ColortypesDone3/mixed/00008654.jpg', 225.75595164609052),\n",
              " ('ColortypesDone3/mixed/00001839.jpg', 208.5950077160494),\n",
              " ('ColortypesDone3/mixed/00002326.jpg', 235.50425488658476),\n",
              " ('ColortypesDone3/mixed/00005087.jpg', 211.91457133058984),\n",
              " ('ColortypesDone3/mixed/00005360.jpg', 172.53015474965707),\n",
              " ('ColortypesDone3/mixed/00005079.jpg', 186.7303755144033),\n",
              " ('ColortypesDone3/sumer/00009976.jpg', 191.47778943758573),\n",
              " ('ColortypesDone3/sumer/00009585.jpg', 186.97697530864198),\n",
              " ('ColortypesDone3/sumer/00003080.jpg', 178.20499725651578),\n",
              " ('ColortypesDone3/sumer/00012065.jpg', 196.98536865569272),\n",
              " ('ColortypesDone3/sumer/00009723.jpg', 176.45773545423077),\n",
              " ('ColortypesDone3/sumer/00005736.jpg', 173.85641495198902),\n",
              " ('ColortypesDone3/sumer/00011973.jpg', 209.94702674897118),\n",
              " ('ColortypesDone3/sumer/00007334.jpg', 189.34145594816462),\n",
              " ('ColortypesDone3/sumer/00003997.jpg', 225.64520576131687),\n",
              " ('ColortypesDone3/sumer/00003896.jpg', 182.50613715010107),\n",
              " ('ColortypesDone3/sumer/00011128.jpg', 198.22286993970715),\n",
              " ('ColortypesDone3/sumer/00000182.jpg', 173.16952887826352),\n",
              " ('ColortypesDone3/winter/00012992.jpg', 198.59671056241427),\n",
              " ('ColortypesDone3/winter/00008302.jpg', 195.6287684152554),\n",
              " ('ColortypesDone3/winter/00013291.jpg', 173.80553457536087),\n",
              " ('ColortypesDone3/winter/00013084.jpg', 182.6789451303155),\n",
              " ('ColortypesDone3/winter/00008671.jpg', 229.49981001371742),\n",
              " ('ColortypesDone3/winter/00010942.jpg', 178.09741340877915),\n",
              " ('ColortypesDone3/winter/00008499.jpg', 177.48152777777779),\n",
              " ('ColortypesDone3/winter/00009142.jpg', 193.02696930727024),\n",
              " ('ColortypesDone3/winter/00004310.jpg', 182.3429098079561),\n",
              " ('ColortypesDone3/winter/00007037.jpg', 190.25482767489711),\n",
              " ('ColortypesDone3/winter/00006937.jpg', 177.07131893004114),\n",
              " ('ColortypesDone3/winter/00006921.jpg', 177.21607853223594),\n",
              " ('ColortypesDone3/winter/00003497.jpg', 186.23569204389574),\n",
              " ('ColortypesDone3/winter/00001653.jpg', 210.47916049382715),\n",
              " ('ColortypesDone3/winter/00008759.jpg', 173.0990500685871),\n",
              " ('ColortypesDone3/winter/00012926.jpg', 184.3584460631287),\n",
              " ('ColortypesDone3/winter/00009446.jpg', 184.54218644889787),\n",
              " ('ColortypesDone3/winter/00007331.jpg', 172.8981131427944),\n",
              " ('ColortypesDone3/winter/00004772.jpg', 171.71549296982167),\n",
              " ('ColortypesDone3/winter/00012273.jpg', 175.0241950992519),\n",
              " ('ColortypesDone3/winter/00006389.jpg', 179.14406790123456),\n",
              " ('ColortypesDone3/winter/00002688.jpg', 180.61492043895748),\n",
              " ('ColortypesDone3/winter/00002677.jpg', 195.42072102194788),\n",
              " ('ColortypesDone3/winter/00003810.jpg', 190.54846433470507),\n",
              " ('ColortypesDone3/winter/00009318.jpg', 186.74779946736953),\n",
              " ('ColortypesDone3/winter/00001354.jpg', 173.39740260631),\n",
              " ('ColortypesDone3/winter/00003218.jpg', 173.6769505423968),\n",
              " ('ColortypesDone3/winter/00006572.jpg', 174.26742283950617),\n",
              " ('ColortypesDone3/winter/00008221.jpg', 187.7593278463649),\n",
              " ('ColortypesDone3/winter/00010496.jpg', 171.7190158682233),\n",
              " ('ColortypesDone3/winter/00006424.jpg', 181.49458421672915),\n",
              " ('ColortypesDone3/winter/00004594.jpg', 186.42901651953588),\n",
              " ('ColortypesDone3/winter/00003417.jpg', 177.88701783264747),\n",
              " ('ColortypesDone3/winter/00012743.jpg', 185.02731995884773),\n",
              " ('ColortypesDone3/winter/00009767.jpg', 185.54362139917694),\n",
              " ('ColortypesDone3/winter/00012384.jpg', 174.21626225719817),\n",
              " ('ColortypesDone3/winter/00012232.jpg', 184.82185185185185),\n",
              " ('ColortypesDone3/winter/00004686.jpg', 187.69033078733395),\n",
              " ('ColortypesDone3/winter/00006056.jpg', 178.78023432995636),\n",
              " ('ColortypesDone3/winter/00007413.jpg', 171.78351080246912),\n",
              " ('ColortypesDone3/winter/00004668.jpg', 191.55422105732004),\n",
              " ('ColortypesDone3/winter/00003688.jpg', 177.58474370994105),\n",
              " ('ColortypesDone3/winter/00000949.jpg', 181.43073216735255),\n",
              " ('ColortypesDone3/winter/00011688.jpg', 173.44260493827161),\n",
              " ('ColortypesDone3/winter/00012800.jpg', 190.5208531079634),\n",
              " ('ColortypesDone3/afro/00000821.jpg', 180.5774924554184),\n",
              " ('ColortypesDone3/afro/00003796.jpg', 200.0308916323731),\n",
              " ('ColortypesDone3/afro/00006362.jpg', 206.37252160493827),\n",
              " ('ColortypesDone3/afro/00006680.jpg', 181.70645318930042),\n",
              " ('ColortypesDone3/afro/00007121.jpg', 196.8019099848714),\n",
              " ('ColortypesDone3/afro/00007482.jpg', 174.419780521262),\n",
              " ('ColortypesDone3/afro/00008133.jpg', 199.28603395061728),\n",
              " ('ColortypesDone3/afro/00008297.jpg', 184.18990997942387),\n",
              " ('ColortypesDone3/afro/00008135.jpg', 175.29309945130316),\n",
              " ('ColortypesDone3/afro/00009298.jpg', 172.39268004115226),\n",
              " ('ColortypesDone3/afro/00010041.jpg', 188.61139146090534),\n",
              " ('ColortypesDone3/afro/00012345.jpg', 177.64097668038409),\n",
              " ('ColortypesDone3/afro/00012851.jpg', 172.81624485596708),\n",
              " ('ColortypesDone3/afro/00012710.jpg', 177.27028248352985),\n",
              " ('ColortypesDone3/autumn/00000555.jpg', 206.02874314128943),\n",
              " ('ColortypesDone3/autumn/00000660.jpg', 183.0986801946713),\n",
              " ('ColortypesDone3/autumn/00001543.jpg', 179.68475308641976),\n",
              " ('ColortypesDone3/autumn/00002652.jpg', 182.14131687242798),\n",
              " ('ColortypesDone3/autumn/00002701.jpg', 191.55675754458161),\n",
              " ('ColortypesDone3/autumn/00002857.jpg', 219.9980802469136),\n",
              " ('ColortypesDone3/autumn/00002891.jpg', 200.1255075445816),\n",
              " ('ColortypesDone3/autumn/00003082.jpg', 184.0242853223594),\n",
              " ('ColortypesDone3/autumn/00004131.jpg', 177.57182030178328),\n",
              " ('ColortypesDone3/autumn/00004959.jpg', 183.1066193415638),\n",
              " ('ColortypesDone3/autumn/00005425.jpg', 185.01437671467764),\n",
              " ('ColortypesDone3/autumn/00006028.jpg', 179.79795198902607),\n",
              " ('ColortypesDone3/autumn/00007635.jpg', 179.61592386831276),\n",
              " ('ColortypesDone3/autumn/00007840.jpg', 172.27688957475993),\n",
              " ('ColortypesDone3/autumn/00008091.jpg', 184.30121588302185),\n",
              " ('ColortypesDone3/autumn/00008235.jpg', 204.00699931412893),\n",
              " ('ColortypesDone3/autumn/00008298.jpg', 177.8265080589849),\n",
              " ('ColortypesDone3/autumn/00008521.jpg', 181.0508513160702),\n",
              " ('ColortypesDone3/autumn/00009176.jpg', 183.10345336076819),\n",
              " ('ColortypesDone3/autumn/00010530.jpg', 175.36106995884774),\n",
              " ('ColortypesDone3/autumn/00011540.jpg', 182.24718256949663),\n",
              " ('ColortypesDone3/autumn/00012557.jpg', 180.79179355281207),\n",
              " ('ColortypesDone3/autumn/00012687.jpg', 176.2191435185185),\n",
              " ('ColortypesDone3/autumn/00013319.jpg', 182.02983181373307),\n",
              " ('ColortypesDone4/лето/00008511.jpg', 187.89877057613168),\n",
              " ('ColortypesDone4/лето/00008908.jpg', 201.99495679012347),\n",
              " ('ColortypesDone4/лето/00008049.jpg', 209.04011917009603),\n",
              " ('ColortypesDone4/лето/00009976.jpg', 191.47778943758573),\n",
              " ('ColortypesDone4/лето/00009585.jpg', 186.97697530864198),\n",
              " ('ColortypesDone4/лето/00010598.jpg', 189.00410238631767),\n",
              " ('ColortypesDone4/лето/00007345.jpg', 178.60181932517997),\n",
              " ('ColortypesDone4/лето/00009743.jpg', 213.69201140444665),\n",
              " ('ColortypesDone4/лето/00001479.jpg', 174.5179428288966),\n",
              " ('ColortypesDone4/лето/00006896.jpg', 184.29957904663922),\n",
              " ('ColortypesDone4/лето/00001849.jpg', 215.0116084312513),\n",
              " ('ColortypesDone4/лето/00000570.jpg', 213.76217249657066),\n",
              " ('ColortypesDone4/лето/00003396.jpg', 198.79348524305556),\n",
              " ('ColortypesDone4/лето/00009257.jpg', 178.1945301783265),\n",
              " ('ColortypesDone4/лето/00007902.jpg', 183.2633993484225),\n",
              " ('ColortypesDone4/лето/00004984.jpg', 178.72185956790125),\n",
              " ('ColortypesDone4/лето/00010932.jpg', 179.39875771604937),\n",
              " ('ColortypesDone4/лето/00005062.jpg', 179.2754027570171),\n",
              " ('ColortypesDone4/лето/00004383.jpg', 191.66266803840878),\n",
              " ('ColortypesDone4/лето/00007715.jpg', 176.83577958981962),\n",
              " ('ColortypesDone4/лето/00007674.jpg', 186.78889917695474),\n",
              " ('ColortypesDone4/лето/00009698.jpg', 181.86010676156585),\n",
              " ('ColortypesDone4/лето/00010451.jpg', 186.28356350253713),\n",
              " ('ColortypesDone4/лето/00009702.jpg', 181.86010676156585),\n",
              " ('ColortypesDone4/лето/00001835.jpg', 222.37691615226336),\n",
              " ('ColortypesDone4/лето/00008769.jpg', 187.26925034293552),\n",
              " ('ColortypesDone4/лето/00005099.jpg', 185.48442169038023),\n",
              " ('ColortypesDone4/лето/00007428.jpg', 201.255443196005),\n",
              " ('ColortypesDone4/лето/00003896.jpg', 182.50613715010107),\n",
              " ('ColortypesDone4/лето/00002034.jpg', 191.8532856659432),\n",
              " ('ColortypesDone4/лето/00007824.jpg', 186.50584619341564),\n",
              " ('ColortypesDone4/лето/00009599.jpg', 213.69201140444665),\n",
              " ('ColortypesDone4/лето/00009601.jpg', 213.69201140444665),\n",
              " ('ColortypesDone4/лето/00009600.jpg', 213.69201140444665),\n",
              " ('ColortypesDone4/лето/00011065.jpg', 190.65402767482087),\n",
              " ('ColortypesDone4/лето/00000949.jpg', 181.43073216735255),\n",
              " ('ColortypesDone4/лето/00008642.jpg', 198.89166529492456),\n",
              " ('ColortypesDone4/лето/00003070.jpg', 179.17888509878438),\n",
              " ('ColortypesDone4/лето/00008521.jpg', 181.0508513160702),\n",
              " ('ColortypesDone4/лето/00000627.jpg', 181.97267402822436),\n",
              " ('ColortypesDone4/осень/00000825.jpg', 233.25424125514402),\n",
              " ('ColortypesDone4/осень/00004712.jpg', 179.52871468577547),\n",
              " ('ColortypesDone4/осень/00003082.jpg', 184.0242853223594),\n",
              " ('ColortypesDone4/осень/00005425.jpg', 185.01437671467764),\n",
              " ('ColortypesDone4/осень/00001092.jpg', 225.57562688614541),\n",
              " ('ColortypesDone4/осень/00000629.jpg', 202.1484130658436),\n",
              " ('ColortypesDone4/осень/00008671.jpg', 229.49981001371742),\n",
              " ('ColortypesDone4/осень/00006847.jpg', 206.56635716735255),\n",
              " ('ColortypesDone4/осень/00000748.jpg', 218.45309259259258),\n",
              " ('ColortypesDone4/осень/00001293.jpg', 178.06188957475993),\n",
              " ('ColortypesDone4/осень/00007635.jpg', 179.61592386831276),\n",
              " ('ColortypesDone4/осень/00003669.jpg', 174.02271862139918),\n",
              " ('ColortypesDone4/осень/00004264.jpg', 175.57104762874698),\n",
              " ('ColortypesDone4/осень/00006937.jpg', 177.07131893004114),\n",
              " ('ColortypesDone4/осень/00010172.jpg', 172.1712662894376),\n",
              " ('ColortypesDone4/осень/00008298.jpg', 177.8265080589849),\n",
              " ('ColortypesDone4/осень/00010560.jpg', 222.05045867626887),\n",
              " ('ColortypesDone4/осень/00010004.jpg', 179.4116344605475),\n",
              " ('ColortypesDone4/осень/00002923.jpg', 200.15619444444445),\n",
              " ('ColortypesDone4/осень/00000516.jpg', 200.46750943072703),\n",
              " ('ColortypesDone4/осень/00003989.jpg', 172.81099622770918),\n",
              " ('ColortypesDone4/осень/00004994.jpg', 172.80603981018066),\n",
              " ('ColortypesDone4/осень/00010467.jpg', 179.10447359396434),\n",
              " ('ColortypesDone4/осень/00001597.jpg', 189.52045524691357),\n",
              " ('ColortypesDone4/осень/00011141.jpg', 189.53581207133058),\n",
              " ('ColortypesDone4/осень/00010277.jpg', 199.63144975994513),\n",
              " ('ColortypesDone4/осень/00000111.jpg', 228.44880142533205),\n",
              " ('ColortypesDone4/осень/00000893.jpg', 184.98092661179697),\n",
              " ('ColortypesDone4/осень/00001958.jpg', 175.98185048010973),\n",
              " ('ColortypesDone4/осень/00006028.jpg', 179.79795198902607),\n",
              " ('ColortypesDone4/осень/00001343.jpg', 177.12178755144032),\n",
              " ('ColortypesDone4/осень/00006389.jpg', 179.14406790123456),\n",
              " ('ColortypesDone4/осень/00007530.jpg', 202.65203360768174),\n",
              " ('ColortypesDone4/осень/00001632.jpg', 185.55173615040744),\n",
              " ('ColortypesDone4/осень/00008158.jpg', 209.45656848000365),\n",
              " ('ColortypesDone4/осень/00000048.jpg', 195.6326217421125),\n",
              " ('ColortypesDone4/осень/00000869.jpg', 176.31431449581947),\n",
              " ('ColortypesDone4/осень/00005736.jpg', 173.85641495198902),\n",
              " ('ColortypesDone4/осень/00006798.jpg', 179.3319933127572),\n",
              " ('ColortypesDone4/осень/00001020.jpg', 202.6913703774123),\n",
              " ('ColortypesDone4/осень/00011033.jpg', 182.82946283941465),\n",
              " ('ColortypesDone4/осень/00010517.jpg', 195.08801795245026),\n",
              " ('ColortypesDone4/осень/00001354.jpg', 173.39740260631),\n",
              " ('ColortypesDone4/осень/00001630.jpg', 198.3639379233793),\n",
              " ('ColortypesDone4/осень/00010933.jpg', 172.18626063100137),\n",
              " ('ColortypesDone4/осень/00005721.jpg', 172.44798353909465),\n",
              " ('ColortypesDone4/осень/00004173.jpg', 185.37191472421273),\n",
              " ('ColortypesDone4/осень/00004426.jpg', 182.83356310013718),\n",
              " ('ColortypesDone4/осень/00001827.jpg', 198.63253503272006),\n",
              " ('ColortypesDone4/осень/00004745.jpg', 176.2127249382716),\n",
              " ('ColortypesDone4/осень/00001588.jpg', 173.42305555555555),\n",
              " ('ColortypesDone4/осень/00008590.jpg', 186.99918312757202),\n",
              " ('ColortypesDone4/осень/00008221.jpg', 187.7593278463649),\n",
              " ('ColortypesDone4/осень/00003823.jpg', 178.55630450394995),\n",
              " ('ColortypesDone4/осень/00008021.jpg', 179.76147603396717),\n",
              " ('ColortypesDone4/осень/00002295.jpg', 171.99854938271605),\n",
              " ('ColortypesDone4/осень/00000864.jpg', 197.01704798590583),\n",
              " ('ColortypesDone4/осень/00002652.jpg', 182.14131687242798),\n",
              " ('ColortypesDone4/осень/00008418.jpg', 178.69056363698888),\n",
              " ('ColortypesDone4/осень/00001772.jpg', 182.118048696845),\n",
              " ('ColortypesDone4/осень/00010441.jpg', 201.97017272168705),\n",
              " ('ColortypesDone4/осень/00007840.jpg', 172.27688957475993),\n",
              " ('ColortypesDone4/осень/00009689.jpg', 207.5729284286499),\n",
              " ('ColortypesDone4/осень/00001389.jpg', 171.981731824417),\n",
              " ('ColortypesDone4/осень/00004959.jpg', 183.1066193415638),\n",
              " ('ColortypesDone4/осень/00000257.jpg', 188.82728737997257),\n",
              " ('ColortypesDone4/осень/00011010.jpg', 183.54944060071932),\n",
              " ('ColortypesDone4/осень/00002285.jpg', 189.1273559670782),\n",
              " ('ColortypesDone4/осень/00008757.jpg', 196.93941015089163),\n",
              " ('ColortypesDone4/осень/00004153.jpg', 179.73815326745014),\n",
              " ('ColortypesDone4/осень/00007922.jpg', 204.2496303155007),\n",
              " ('ColortypesDone4/осень/00000555.jpg', 206.02874314128943),\n",
              " ('ColortypesDone4/осень/00001850.jpg', 179.25494770233198),\n",
              " ('ColortypesDone4/осень/00006858.jpg', 176.86433899176956),\n",
              " ('ColortypesDone4/осень/00007575.jpg', 175.53427211934155),\n",
              " ('ColortypesDone4/осень/00000959.jpg', 211.61823593964334),\n",
              " ('ColortypesDone4/осень/00004281.jpg', 182.49183736270672),\n",
              " ('ColortypesDone4/осень/00000756.jpg', 182.7404108367627),\n",
              " ('ColortypesDone4/осень/00000811.jpg', 202.26779054018857),\n",
              " ('ColortypesDone4/осень/00003854.jpg', 173.96708741729128),\n",
              " ('ColortypesDone4/осень/00006709.jpg', 217.8354846571397),\n",
              " ('ColortypesDone4/осень/00009176.jpg', 183.10345336076819),\n",
              " ('ColortypesDone4/осень/00005610.jpg', 210.6322705078125),\n",
              " ('ColortypesDone4/осень/00007774.jpg', 178.65037035608194),\n",
              " ('ColortypesDone4/осень/00010383.jpg', 204.17268587105625),\n",
              " ('ColortypesDone4/осень/00004696.jpg', 175.4406764403292),\n",
              " ('ColortypesDone4/осень/00002608.jpg', 184.714341563786),\n",
              " ('ColortypesDone4/осень/00007361.jpg', 189.9511690291114),\n",
              " ('ColortypesDone4/осень/00004668.jpg', 191.55422105732004),\n",
              " ('ColortypesDone4/осень/00008535.jpg', 185.63030864197532),\n",
              " ('ColortypesDone4/непонятно/00002001.jpg', 210.66708820105183),\n",
              " ('ColortypesDone4/непонятно/00000992.jpg', 184.6244341563786),\n",
              " ('ColortypesDone4/непонятно/00008302.jpg', 195.6287684152554),\n",
              " ('ColortypesDone4/непонятно/00004504.jpg', 172.49556327160494),\n",
              " ('ColortypesDone4/непонятно/00002613.jpg', 197.70622685185185),\n",
              " ('ColortypesDone4/непонятно/00006676.jpg', 178.31044479058497),\n",
              " ('ColortypesDone4/непонятно/00004511.jpg', 187.08886488340192),\n",
              " ('ColortypesDone4/непонятно/00009627.jpg', 179.95234910836763),\n",
              " ('ColortypesDone4/непонятно/00007150.jpg', 223.2780829903978),\n",
              " ('ColortypesDone4/непонятно/00008936.jpg', 188.3988310185185),\n",
              " ('ColortypesDone4/непонятно/00001325.jpg', 243.20036351165982),\n",
              " ('ColortypesDone4/непонятно/00005816.jpg', 223.2748515625),\n",
              " ('ColortypesDone4/непонятно/00002412.jpg', 190.5717824074074),\n",
              " ('ColortypesDone4/непонятно/00007184.jpg', 199.25670932712816),\n",
              " ('ColortypesDone4/непонятно/00003889.jpg', 209.11675582990398),\n",
              " ('ColortypesDone4/непонятно/00007351.jpg', 188.43573645404663),\n",
              " ('ColortypesDone4/непонятно/00008710.jpg', 213.7576989026063),\n",
              " ('ColortypesDone4/непонятно/00002205.jpg', 172.89020710784206),\n",
              " ('ColortypesDone4/непонятно/00000348.jpg', 208.78892489711933),\n",
              " ('ColortypesDone4/непонятно/00006261.jpg', 174.748487654321),\n",
              " ('ColortypesDone4/непонятно/00001334.jpg', 234.01229698216736),\n",
              " ('ColortypesDone4/непонятно/00008310.jpg', 181.96045483294276),\n",
              " ('ColortypesDone4/непонятно/00002826.jpg', 177.75629561042524),\n",
              " ('ColortypesDone4/непонятно/00004715.jpg', 172.18774691358024),\n",
              " ('ColortypesDone4/непонятно/00003536.jpg', 210.44919495884773),\n",
              " ('ColortypesDone4/непонятно/00002628.jpg', 221.08413580246915),\n",
              " ('ColortypesDone4/непонятно/00007988.jpg', 244.91566529492457),\n",
              " ('ColortypesDone4/непонятно/00004893.jpg', 231.46026592455163),\n",
              " ('ColortypesDone4/непонятно/00006510.jpg', 201.26960637019232),\n",
              " ('ColortypesDone4/непонятно/00003520.jpg', 239.06752657750343),\n",
              " ('ColortypesDone4/непонятно/00009964.jpg', 184.81073645404663),\n",
              " ('ColortypesDone4/непонятно/00009583.jpg', 189.13624926070477),\n",
              " ('ColortypesDone4/непонятно/00010039.jpg', 190.3262818930041),\n",
              " ('ColortypesDone4/непонятно/00010207.jpg', 193.95561591220851),\n",
              " ('ColortypesDone4/непонятно/00000606.jpg', 195.89712705761318),\n",
              " ('ColortypesDone4/непонятно/00008716.jpg', 191.43990740740742),\n",
              " ('ColortypesDone4/непонятно/00001726.jpg', 208.5990869341564),\n",
              " ('ColortypesDone4/непонятно/00004676.jpg', 177.73583463241542),\n",
              " ('ColortypesDone4/непонятно/00001741.jpg', 208.5990869341564),\n",
              " ('ColortypesDone4/непонятно/00009080.jpg', 204.71234739368998),\n",
              " ('ColortypesDone4/непонятно/00003793.jpg', 179.6866255144033),\n",
              " ('ColortypesDone4/непонятно/00001813.jpg', 208.5950077160494),\n",
              " ('ColortypesDone4/непонятно/00004980.jpg', 193.35646219135802),\n",
              " ('ColortypesDone4/непонятно/00002665.jpg', 212.05437242798354),\n",
              " ('ColortypesDone4/непонятно/00002061.jpg', 237.30125171467765),\n",
              " ('ColortypesDone4/непонятно/00002897.jpg', 187.71409979423868),\n",
              " ('ColortypesDone4/непонятно/00003592.jpg', 197.2854470486111),\n",
              " ('ColortypesDone4/непонятно/00004982.jpg', 193.35646219135802),\n",
              " ('ColortypesDone4/непонятно/00001839.jpg', 208.5950077160494),\n",
              " ('ColortypesDone4/непонятно/00010909.jpg', 182.81843021262003),\n",
              " ('ColortypesDone4/непонятно/00004983.jpg', 193.35646219135802),\n",
              " ('ColortypesDone4/непонятно/00002855.jpg', 184.0593158436214),\n",
              " ('ColortypesDone4/непонятно/00006212.jpg', 213.58017575445817),\n",
              " ('ColortypesDone4/непонятно/00002060.jpg', 188.03847222222223),\n",
              " ('ColortypesDone4/непонятно/00010128.jpg', 215.0576774691358),\n",
              " ('ColortypesDone4/непонятно/00005079.jpg', 186.7303755144033),\n",
              " ('ColortypesDone4/непонятно/00011030.jpg', 197.08363340192045),\n",
              " ('ColortypesDone4/непонятно/00002919.jpg', 184.78607081618657),\n",
              " ('ColortypesDone4/непонятно/00007875.jpg', 173.7855624142661),\n",
              " ('ColortypesDone4/непонятно/00009870.jpg', 184.97096450617283),\n",
              " ('ColortypesDone4/непонятно/00009723.jpg', 176.45773545423077),\n",
              " ('ColortypesDone4/непонятно/00009521.jpg', 201.11521862139918),\n",
              " ('ColortypesDone4/непонятно/00001627.jpg', 185.6882739147005),\n",
              " ('ColortypesDone4/непонятно/00001141.jpg', 196.7559587408564),\n",
              " ('ColortypesDone4/непонятно/00001800.jpg', 208.5950077160494),\n",
              " ('ColortypesDone4/непонятно/00003959.jpg', 173.4967843121105),\n",
              " ('ColortypesDone4/непонятно/00004979.jpg', 193.35646219135802),\n",
              " ('ColortypesDone4/непонятно/00006377.jpg', 180.55347565157751),\n",
              " ('ColortypesDone4/непонятно/00005087.jpg', 211.91457133058984),\n",
              " ('ColortypesDone4/непонятно/00005905.jpg', 185.4725077160494),\n",
              " ('ColortypesDone4/непонятно/00004400.jpg', 209.79843964334705),\n",
              " ('ColortypesDone4/непонятно/00001752.jpg', 208.5990869341564),\n",
              " ('ColortypesDone4/непонятно/00008986.jpg', 195.38299639917696),\n",
              " ('ColortypesDone4/непонятно/00006003.jpg', 213.807466693975),\n",
              " ('ColortypesDone4/непонятно/00006981.jpg', 183.24928257887518),\n",
              " ('ColortypesDone4/непонятно/00003147.jpg', 208.17180941358023),\n",
              " ('ColortypesDone4/непонятно/00004402.jpg', 226.9793018116736),\n",
              " ('ColortypesDone4/непонятно/00005913.jpg', 185.4725077160494),\n",
              " ('ColortypesDone4/непонятно/00002932.jpg', 238.16706420749657),\n",
              " ('ColortypesDone4/непонятно/00000710.jpg', 172.12422239369),\n",
              " ('ColortypesDone4/непонятно/00001803.jpg', 208.5950077160494),\n",
              " ('ColortypesDone4/непонятно/00006162.jpg', 175.7796769146119),\n",
              " ('ColortypesDone4/непонятно/00001786.jpg', 189.1062714334705),\n",
              " ('ColortypesDone4/непонятно/00007334.jpg', 189.34145594816462),\n",
              " ('ColortypesDone4/непонятно/00007305.jpg', 203.58274537037036),\n",
              " ('ColortypesDone4/непонятно/00006782.jpg', 224.1145396090535),\n",
              " ('ColortypesDone4/непонятно/00001210.jpg', 190.2562319013643),\n",
              " ('ColortypesDone4/непонятно/00002731.jpg', 214.88065454434698),\n",
              " ('ColortypesDone4/непонятно/00004432.jpg', 223.52462620027435),\n",
              " ('ColortypesDone4/непонятно/00003003.jpg', 197.7426948302469),\n",
              " ('ColortypesDone4/непонятно/00004977.jpg', 193.35646219135802),\n",
              " ('ColortypesDone4/непонятно/00000287.jpg', 178.08009430727023),\n",
              " ('ColortypesDone4/непонятно/00000709.jpg', 197.57760542573195),\n",
              " ('ColortypesDone4/непонятно/00008745.jpg', 178.46934895833334),\n",
              " ('ColortypesDone4/непонятно/00006018.jpg', 173.16761944659277),\n",
              " ('ColortypesDone4/непонятно/00000119.jpg', 193.21451528902745),\n",
              " ('ColortypesDone4/непонятно/00007892.jpg', 173.7855624142661),\n",
              " ('ColortypesDone4/непонятно/00007925.jpg', 191.95345747599453),\n",
              " ('ColortypesDone4/непонятно/00004975.jpg', 193.35646219135802),\n",
              " ('ColortypesDone4/непонятно/00001819.jpg', 208.5950077160494),\n",
              " ('ColortypesDone4/непонятно/00002337.jpg', 208.8527585733882),\n",
              " ('ColortypesDone4/непонятно/00007717.jpg', 206.00800685871056),\n",
              " ('ColortypesDone4/непонятно/00000871.jpg', 205.39793124142662),\n",
              " ('ColortypesDone4/непонятно/00007313.jpg', 203.58274537037036),\n",
              " ('ColortypesDone4/непонятно/00000524.jpg', 182.46435980902777),\n",
              " ('ColortypesDone4/непонятно/00010938.jpg', 225.64935137138622),\n",
              " ('ColortypesDone4/непонятно/00010904.jpg', 182.48568332397082),\n",
              " ('ColortypesDone4/непонятно/00008193.jpg', 235.1975512847441),\n",
              " ('ColortypesDone4/непонятно/00008186.jpg', 235.1975512847441),\n",
              " ('ColortypesDone4/непонятно/00002326.jpg', 235.50425488658476),\n",
              " ('ColortypesDone4/непонятно/00006140.jpg', 181.6654809670782),\n",
              " ('ColortypesDone4/непонятно/00003992.jpg', 200.28352124800537),\n",
              " ('ColortypesDone4/непонятно/00000914.jpg', 177.3732424554184),\n",
              " ('ColortypesDone4/непонятно/00011158.jpg', 212.6225409746224),\n",
              " ('ColortypesDone4/непонятно/00008582.jpg', 209.73087277091906),\n",
              " ('ColortypesDone4/непонятно/00008233.jpg', 213.91228780864196),\n",
              " ('ColortypesDone4/непонятно/00002078.jpg', 185.9239437585734),\n",
              " ('ColortypesDone4/непонятно/00007882.jpg', 173.7855624142661),\n",
              " ('ColortypesDone4/непонятно/00001001.jpg', 237.779091796875),\n",
              " ('ColortypesDone4/непонятно/00000490.jpg', 177.3066083676269),\n",
              " ('ColortypesDone4/непонятно/00002457.jpg', 194.2893017578125),\n",
              " ('ColortypesDone4/непонятно/00002325.jpg', 188.37074897119342),\n",
              " ('ColortypesDone4/непонятно/00000903.jpg', 234.92642489711935),\n",
              " ('ColortypesDone4/непонятно/00006433.jpg', 174.6299657064472),\n",
              " ('ColortypesDone4/непонятно/00010133.jpg', 215.0576774691358),\n",
              " ('ColortypesDone4/непонятно/00003464.jpg', 216.65266735253772),\n",
              " ('ColortypesDone4/непонятно/00010236.jpg', 176.4344561912659),\n",
              " ('ColortypesDone4/непонятно/00009941.jpg', 215.88283564814816),\n",
              " ('ColortypesDone4/непонятно/00005148.jpg', 229.78432350148037),\n",
              " ('ColortypesDone4/непонятно/00006535.jpg', 174.28720593278464),\n",
              " ('ColortypesDone4/непонятно/00011049.jpg', 199.30819958847738),\n",
              " ('ColortypesDone4/непонятно/00010619.jpg', 174.96812585733883),\n",
              " ('ColortypesDone4/непонятно/00001927.jpg', 224.2177989969136),\n",
              " ('ColortypesDone4/непонятно/00002786.jpg', 182.309045781893),\n",
              " ('ColortypesDone4/непонятно/00007749.jpg', 181.13624828532235),\n",
              " ('ColortypesDone4/непонятно/00004297.jpg', 184.326073388203),\n",
              " ('ColortypesDone4/непонятно/00005360.jpg', 172.53015474965707),\n",
              " ('ColortypesDone4/непонятно/00009598.jpg', 189.13624926070477),\n",
              " ('ColortypesDone4/непонятно/00005413.jpg', 187.85217283950618),\n",
              " ('ColortypesDone4/непонятно/00005822.jpg', 221.6232453125),\n",
              " ('ColortypesDone4/непонятно/00002630.jpg', 221.08413580246915),\n",
              " ('ColortypesDone4/непонятно/00005956.jpg', 179.6884622770919),\n",
              " ('ColortypesDone4/непонятно/00003660.jpg', 184.0676568930041),\n",
              " ('ColortypesDone4/непонятно/00001711.jpg', 208.5990869341564),\n",
              " ('ColortypesDone4/непонятно/00006081.jpg', 203.61149605624144),\n",
              " ('ColortypesDone4/непонятно/00009629.jpg', 189.13624926070477),\n",
              " ('ColortypesDone4/непонятно/00006687.jpg', 180.00414965986394),\n",
              " ('ColortypesDone4/непонятно/00006692.jpg', 182.68570777150063),\n",
              " ('ColortypesDone4/непонятно/00008654.jpg', 225.75595164609052),\n",
              " ('ColortypesDone4/непонятно/00000778.jpg', 207.34670933333334),\n",
              " ('ColortypesDone4/непонятно/00003271.jpg', 186.83522097068337),\n",
              " ('ColortypesDone4/непонятно/00002541.jpg', 185.12387635030865),\n",
              " ('ColortypesDone4/непонятно/00005602.jpg', 235.6767200882341),\n",
              " ('ColortypesDone4/непонятно/00003918.jpg', 193.25123281656366),\n",
              " ('ColortypesDone4/непонятно/00003919.jpg', 243.88233610920983),\n",
              " ('ColortypesDone4/непонятно/00010781.jpg', 187.335342562034),\n",
              " ('ColortypesDone4/непонятно/00002346.jpg', 175.6456335733882),\n",
              " ('ColortypesDone4/непонятно/00010583.jpg', 209.17226080246914),\n",
              " ('ColortypesDone4/непонятно/00006487.jpg', 212.9384259259259),\n",
              " ('ColortypesDone4/непонятно/00000021.jpg', 172.51038676236044),\n",
              " ('ColortypesDone4/непонятно/00010352.jpg', 174.5862225357791),\n",
              " ('ColortypesDone4/непонятно/00007389.jpg', 217.41396776406035),\n",
              " ('ColortypesDone4/непонятно/00003662.jpg', 223.4476937585734),\n",
              " ('ColortypesDone4/непонятно/00008079.jpg', 210.23961728395062),\n",
              " ('ColortypesDone4/афроамериканский цветотип/00010363.jpg', 206.897705078125),\n",
              " ('ColortypesDone4/афроамериканский цветотип/00009747.jpg',\n",
              "  177.15713477366256),\n",
              " ('ColortypesDone4/афроамериканский цветотип/00005382.jpg',\n",
              "  186.25768010252494),\n",
              " ('ColortypesDone4/афроамериканский цветотип/00010942.jpg',\n",
              "  178.09741340877915),\n",
              " ('ColortypesDone4/афроамериканский цветотип/00002167.jpg',\n",
              "  192.34512431412895),\n",
              " ('ColortypesDone4/афроамериканский цветотип/00007023.jpg',\n",
              "  182.08841049382715),\n",
              " ('ColortypesDone4/афроамериканский цветотип/00003330.jpg',\n",
              "  174.39543209876544),\n",
              " ('ColortypesDone4/афроамериканский цветотип/00001725.jpg',\n",
              "  177.83740192043896),\n",
              " ('ColortypesDone4/афроамериканский цветотип/00000821.jpg',\n",
              "  180.5774924554184),\n",
              " ('ColortypesDone4/афроамериканский цветотип/00003455.jpg',\n",
              "  191.75765775034293),\n",
              " ('ColortypesDone4/афроамериканский цветотип/00000463.jpg',\n",
              "  212.53382544581618),\n",
              " ('ColortypesDone4/афроамериканский цветотип/00010300.jpg',\n",
              "  199.46095061728394),\n",
              " ('ColortypesDone4/афроамериканский цветотип/00003962.jpg',\n",
              "  218.59169846333478),\n",
              " ('ColortypesDone4/афроамериканский цветотип/00007482.jpg', 174.419780521262),\n",
              " ('ColortypesDone4/афроамериканский цветотип/00000139.jpg',\n",
              "  198.47375582990398),\n",
              " ('ColortypesDone4/афроамериканский цветотип/00010104.jpg',\n",
              "  193.6272299382716),\n",
              " ('ColortypesDone4/афроамериканский цветотип/00006362.jpg',\n",
              "  206.37252160493827),\n",
              " ('ColortypesDone4/афроамериканский цветотип/00007121.jpg',\n",
              "  196.8019099848714),\n",
              " ('ColortypesDone4/афроамериканский цветотип/00001744.jpg',\n",
              "  205.47948559670783),\n",
              " ('ColortypesDone4/афроамериканский цветотип/00010073.jpg',\n",
              "  214.7189403292181),\n",
              " ('ColortypesDone4/афроамериканский цветотип/00007533.jpg',\n",
              "  181.0719212962963),\n",
              " ('ColortypesDone4/афроамериканский цветотип/00003796.jpg',\n",
              "  200.0308916323731),\n",
              " ('ColortypesDone4/афроамериканский цветотип/00002884.jpg',\n",
              "  196.66758798713025),\n",
              " ('ColortypesDone4/афроамериканский цветотип/00005292.jpg',\n",
              "  201.55150548696844),\n",
              " ('ColortypesDone4/афроамериканский цветотип/00008977.jpg',\n",
              "  180.63764060356652),\n",
              " ('ColortypesDone4/афроамериканский цветотип/00003375.jpg',\n",
              "  183.2863340192044),\n",
              " ('ColortypesDone4/афроамериканский цветотип/00010095.jpg',\n",
              "  193.6272299382716),\n",
              " ('ColortypesDone4/афроамериканский цветотип/00006393.jpg',\n",
              "  199.5748700330538),\n",
              " ('ColortypesDone4/афроамериканский цветотип/00002042.jpg',\n",
              "  217.86458509820275),\n",
              " ('ColortypesDone4/афроамериканский цветотип/00001761.jpg',\n",
              "  177.27805829903977),\n",
              " ('ColortypesDone4/афроамериканский цветотип/00004627.jpg',\n",
              "  177.37198720667232),\n",
              " ('ColortypesDone4/афроамериканский цветотип/00010041.jpg',\n",
              "  188.61139146090534),\n",
              " ('ColortypesDone4/афроамериканский цветотип/00003004.jpg',\n",
              "  192.60933127572017),\n",
              " ('ColortypesDone4/афроамериканский цветотип/00003006.jpg',\n",
              "  171.60110853909464),\n",
              " ('ColortypesDone4/афроамериканский цветотип/00008135.jpg',\n",
              "  175.29309945130316),\n",
              " ('ColortypesDone4/афроамериканский цветотип/00010785.jpg',\n",
              "  171.62844463914848),\n",
              " ('ColortypesDone4/афроамериканский цветотип/00006680.jpg',\n",
              "  181.70645318930042),\n",
              " ('ColortypesDone4/афроамериканский цветотип/00008297.jpg',\n",
              "  184.18990997942387),\n",
              " ('ColortypesDone4/афроамериканский цветотип/00001098.jpg',\n",
              "  179.16599058287346),\n",
              " ('ColortypesDone4/афроамериканский цветотип/00005563.jpg',\n",
              "  206.67299874363553),\n",
              " ('ColortypesDone4/афроамериканский цветотип/00000631.jpg',\n",
              "  211.46701227642973),\n",
              " ('ColortypesDone4/афроамериканский цветотип/00002740.jpg',\n",
              "  173.21264583677288),\n",
              " ('ColortypesDone4/афроамериканский цветотип/00008133.jpg',\n",
              "  199.28603395061728),\n",
              " ('ColortypesDone4/афроамериканский цветотип/00010597.jpg',\n",
              "  180.5881129811047),\n",
              " ('ColortypesDone4/афроамериканский цветотип/00008333.jpg',\n",
              "  203.0994435871056),\n",
              " ('ColortypesDone4/афроамериканский цветотип/00009367.jpg',\n",
              "  173.57482938957477),\n",
              " ('ColortypesDone4/весна/00010217.jpg', 208.57480452674898),\n",
              " ('ColortypesDone4/весна/00009345.jpg', 174.52421221864952),\n",
              " ('ColortypesDone4/весна/00008851.jpg', 194.375268175583),\n",
              " ('ColortypesDone4/весна/00007873.jpg', 178.86999135092373),\n",
              " ('ColortypesDone4/весна/00008363.jpg', 223.14172633744855),\n",
              " ('ColortypesDone4/весна/00000850.jpg', 190.08922410836763),\n",
              " ('ColortypesDone4/весна/00008776.jpg', 179.28595936213992),\n",
              " ('ColortypesDone4/весна/00000880.jpg', 219.05511175208315),\n",
              " ('ColortypesDone4/весна/00008424.jpg', 174.87355709876545),\n",
              " ('ColortypesDone4/весна/00005926.jpg', 182.65779296875),\n",
              " ('ColortypesDone4/весна/00000902.jpg', 190.93380829903978),\n",
              " ('ColortypesDone4/весна/00009412.jpg', 180.62398907574584),\n",
              " ('ColortypesDone4/весна/00000556.jpg', 236.4158464431815),\n",
              " ('ColortypesDone4/весна/00004669.jpg', 196.80782167352538),\n",
              " ('ColortypesDone4/весна/00004494.jpg', 200.0326986882716),\n",
              " ('ColortypesDone4/весна/00008330.jpg', 203.27898491083675),\n",
              " ('ColortypesDone4/зима/00009318.jpg', 186.74779946736953),\n",
              " ('ColortypesDone4/зима/00010852.jpg', 191.85978223593963),\n",
              " ('ColortypesDone4/зима/00002701.jpg', 191.55675754458161),\n",
              " ('ColortypesDone4/зима/00007645.jpg', 207.5831253851435),\n",
              " ('ColortypesDone4/зима/00003386.jpg', 176.10905521262004),\n",
              " ('ColortypesDone4/зима/00002891.jpg', 200.1255075445816),\n",
              " ('ColortypesDone4/зима/00009293.jpg', 198.19400205761318),\n",
              " ('ColortypesDone4/зима/00002489.jpg', 185.09457399786618),\n",
              " ('ColortypesDone4/зима/00005696.jpg', 207.233527),\n",
              " ('ColortypesDone4/зима/00009735.jpg', 189.47776834705076),\n",
              " ('ColortypesDone4/зима/00003218.jpg', 173.6769505423968),\n",
              " ('ColortypesDone4/зима/00002099.jpg', 202.24427983539096),\n",
              " ('ColortypesDone4/зима/00008211.jpg', 172.6275600137174),\n",
              " ('ColortypesDone4/зима/00006572.jpg', 174.26742283950617),\n",
              " ('ColortypesDone4/зима/00004365.jpg', 177.385061042524),\n",
              " ('ColortypesDone4/зима/00005738.jpg', 183.66917489711935),\n",
              " ('ColortypesDone4/зима/00002094.jpg', 209.69223113854596),\n",
              " ('ColortypesDone4/зима/00003567.jpg', 181.28371204276306),\n",
              " ('ColortypesDone4/зима/00008383.jpg', 193.7579341563786),\n",
              " ('ColortypesDone4/зима/00002447.jpg', 177.84288495852624),\n",
              " ('ColortypesDone4/зима/00006608.jpg', 191.02906927297667),\n",
              " ('ColortypesDone4/зима/00008553.jpg', 189.64978669410152),\n",
              " ('ColortypesDone4/зима/00008235.jpg', 204.00699931412893),\n",
              " ('ColortypesDone4/зима/00009471.jpg', 189.918125),\n",
              " ('ColortypesDone4/зима/00001993.jpg', 208.088048696845),\n",
              " ('ColortypesDone4/зима/00009667.jpg', 177.81741255144033),\n",
              " ('ColortypesDone4/зима/00002097.jpg', 198.03190877914952),\n",
              " ('ColortypesDone4/зима/00010530.jpg', 175.36106995884774),\n",
              " ('ColortypesDone4/зима/00002478.jpg', 189.113085048011),\n",
              " ('ColortypesDone4/зима/00002444.jpg', 178.56398003472222),\n",
              " ('ColortypesDone4/зима/00003997.jpg', 225.64520576131687),\n",
              " ('ColortypesDone4/зима/00008430.jpg', 179.7678635116598),\n",
              " ('ColortypesDone4/зима/00000130.jpg', 191.68028054416456),\n",
              " ('ColortypesDone4/зима/00003439.jpg', 182.51844393004114),\n",
              " ('ColortypesDone4/зима/00000118.jpg', 185.97733024691357),\n",
              " ('ColortypesDone4/зима/00008975.jpg', 199.51864814814815),\n",
              " ('ColortypesDone4/зима/00003613.jpg', 178.68829903978053),\n",
              " ('ColortypesDone4/зима/00004168.jpg', 174.1107261752414),\n",
              " ('ColortypesDone4/зима/00010496.jpg', 171.7190158682233),\n",
              " ('ColortypesDone4/зима/00002910.jpg', 189.07205504115225),\n",
              " ('ColortypesDone4/зима/00001821.jpg', 184.3181970164609),\n",
              " ('ColortypesDone4/зима/00004795.jpg', 172.3032355928946),\n",
              " ('ColortypesDone4/зима/00009298.jpg', 172.39268004115226),\n",
              " ('ColortypesDone4/зима/00008810.jpg', 190.78026259392414),\n",
              " ('ColortypesDone4/зима/00002865.jpg', 180.95784669027813),\n",
              " ('ColortypesDone4/зима/00000096.jpg', 177.30162379972566),\n",
              " ('ColortypesDone4/зима/00002859.jpg', 188.5509279301366),\n",
              " ('ColortypesDone4/зима/00003212.jpg', 176.72428926611798),\n",
              " ('ColortypesDone4/зима/00006424.jpg', 181.49458421672915),\n",
              " ('ColortypesDone4/зима/00004190.jpg', 179.52889400949957),\n",
              " ('ColortypesDone4/зима/00005729.jpg', 174.58254972565157),\n",
              " ('ColortypesDone4/зима/00009852.jpg', 208.17483744855966),\n",
              " ('ColortypesDone4/зима/00007738.jpg', 176.72701028806586),\n",
              " ('ColortypesDone4/зима/00008437.jpg', 203.67390534979424),\n",
              " ('ColortypesDone4/зима/00004594.jpg', 186.42901651953588),\n",
              " ('ColortypesDone4/зима/00004556.jpg', 171.70414609053498),\n",
              " ('ColortypesDone4/зима/00008595.jpg', 205.11978127761645),\n",
              " ('ColortypesDone4/зима/00003417.jpg', 177.88701783264747),\n",
              " ('ColortypesDone4/зима/00001228.jpg', 185.41174468449933),\n",
              " ('ColortypesDone4/зима/00007467.jpg', 180.8933487654321),\n",
              " ('ColortypesDone4/зима/00004634.jpg', 176.6297007887517),\n",
              " ('ColortypesDone4/зима/00009462.jpg', 182.47583590534978),\n",
              " ('ColortypesDone4/зима/00010430.jpg', 176.45730195473251),\n",
              " ('ColortypesDone4/зима/00000192.jpg', 182.58847822359397),\n",
              " ('ColortypesDone4/зима/00011128.jpg', 198.22286993970715),\n",
              " ('ColortypesDone4/зима/00009767.jpg', 185.54362139917694),\n",
              " ('ColortypesDone4/зима/00008109.jpg', 196.6543244949495),\n",
              " ('ColortypesDone4/зима/00000541.jpg', 182.58066203703703),\n",
              " ('ColortypesDone4/зима/00010586.jpg', 190.80662191358024),\n",
              " ('ColortypesDone4/зима/00009982.jpg', 177.85718106995884),\n",
              " ('ColortypesDone4/зима/00001931.jpg', 191.39462825788752),\n",
              " ('ColortypesDone4/зима/00002551.jpg', 187.39668381344308),\n",
              " ('ColortypesDone4/зима/00002023.jpg', 178.66511893358876),\n",
              " ('ColortypesDone4/зима/00003329.jpg', 182.58735107421876),\n",
              " ('ColortypesDone4/зима/00000754.jpg', 225.88614626200274),\n",
              " ('ColortypesDone4/зима/00001853.jpg', 174.60601989026063),\n",
              " ('ColortypesDone4/зима/00000580.jpg', 187.4851309812828),\n",
              " ('ColortypesDone4/зима/00004453.jpg', 178.11483363182205),\n",
              " ('ColortypesDone4/зима/00004686.jpg', 187.69033078733395),\n",
              " ('ColortypesDone4/зима/00002542.jpg', 187.39668381344308),\n",
              " ('ColortypesDone4/зима/00006056.jpg', 178.78023432995636),\n",
              " ('ColortypesDone4/зима/00005239.jpg', 172.3249395947672),\n",
              " ('ColortypesDone4/зима/00001507.jpg', 180.21645576131687),\n",
              " ('ColortypesDone4/зима/00008319.jpg', 179.32163665980795),\n",
              " ('ColortypesDone4/зима/00008325.jpg', 172.19780315500685),\n",
              " ('ColortypesDone4/зима/00005173.jpg', 184.4933436213992),\n",
              " ('ColortypesDone4/зима/00008127.jpg', 173.48319110421517),\n",
              " ('ColortypesDone4/зима/00000591.jpg', 235.9078665123457),\n",
              " ('ColortypesDone4/зима/00005370.jpg', 172.40461405658274),\n",
              " ('ColortypesDone4/зима/00006321.jpg', 209.19222908093278),\n",
              " ('ColortypesDone4/зима/00007822.jpg', 216.91638545953361),\n",
              " ('ColortypesDone4/зима/00008091.jpg', 184.30121588302185),\n",
              " ('ColortypesDone4/зима/00007413.jpg', 171.78351080246912),\n",
              " ('ColortypesDone4/зима/00002569.jpg', 194.68325102880658),\n",
              " ('ColortypesDone4/зима/00003688.jpg', 177.58474370994105),\n",
              " ('ColortypesDone4/зима/00006257.jpg', 215.9810725308642),\n",
              " ('ColortypesDone4/зима/00004326.jpg', 198.30324245541837),\n",
              " ('ColortypesDone4/зима/00002964.jpg', 172.9851594650206),\n",
              " ('ColortypesDone4/зима/00008468.jpg', 213.4359747942387),\n",
              " ('ColortypesDone4/зима/00008326.jpg', 210.73385459533608),\n",
              " ('ColortypesDone4/зима/00002421.jpg', 174.37731310013717),\n",
              " ('ColortypesDone4/зима/00003071.jpg', 172.79419238683127),\n",
              " ('ColortypesDone4/зима/00001841.jpg', 207.30660676895616),\n",
              " ('ColortypesDone4/зима/00001897.jpg', 175.63444855967077),\n",
              " ('ColortypesDone4/зима/00000035.jpg', 177.465670781893),\n",
              " ('ColortypesDone4/зима/00002959.jpg', 172.1246479552469),\n",
              " ('ColortypesDone4/зима/00000182.jpg', 173.16952887826352),\n",
              " ('ColortypesDone4/зима/00010420.jpg', 172.9256913995672),\n",
              " ('ColortypesDone4/зима/00004131.jpg', 177.57182030178328),\n",
              " ('ColortypesDone4/зима/00003892.jpg', 172.28645061728395),\n",
              " ('ColortypesDone4/зима/00011041.jpg', 178.80656035665294),\n",
              " ('ColortypesDone4/зима/00010405.jpg', 195.70935274547006),\n",
              " ('ColortypesDone4/зима/00001285.jpg', 199.82797873799726),\n",
              " ('ColortypesDone4/зима/00008464.jpg', 206.3680109739369),\n",
              " ('ColortypesDone4/зима/00010565.jpg', 191.81778120713307),\n",
              " ('ColortypesDone4/зима/00008841.jpg', 237.6571241426612),\n",
              " ('ColortypesDone4/зима/00009551.jpg', 197.63060956790125),\n",
              " ('ColortypesDone4/зима/00011120.jpg', 214.63352023319615),\n",
              " ('ColortypesDone4/зима/00002214.jpg', 178.47734565670336),\n",
              " ('ColortypesDone4/зима/00004842.jpg', 200.34408264746227),\n",
              " ('ColortypesDone4/зима/00007807.jpg', 194.87084648497094),\n",
              " ('ColortypesDone4/зима/00007740.jpg', 179.65412208504802),\n",
              " ('ColortypesDone4/зима/00003268.jpg', 195.59521262002744),\n",
              " ('ColortypesDone4/зима/00001899.jpg', 179.25212705761317),\n",
              " ('ColortypesDone4/зима/00005369.jpg', 202.37212382370646),\n",
              " ('ColortypesDone4/зима/00003080.jpg', 178.20499725651578),\n",
              " ('ColortypesDone4/зима/00001898.jpg', 187.65367283950619),\n",
              " ('ColortypesDone4/зима/00008499.jpg', 177.48152777777779),\n",
              " ('ColortypesDone4/зима/00008328.jpg', 182.5745969629695),\n",
              " ('ColortypesDone4/зима/00009142.jpg', 193.02696930727024),\n",
              " ('ColortypesDone4/зима/00001278.jpg', 199.82797873799726),\n",
              " ('ColortypesDone4/зима/00007147.jpg', 188.28871033836788),\n",
              " ('ColortypesDone4/зима/00009354.jpg', 205.75417009602194),\n",
              " ('ColortypesDone4/зима/00001730.jpg', 187.2426140260631),\n",
              " ('ColortypesDone4/зима/00003319.jpg', 200.731703125),\n",
              " ('ColortypesDone4/зима/00004310.jpg', 182.3429098079561),\n",
              " ('ColortypesDone4/зима/00004304.jpg', 180.0671193415638),\n",
              " ('ColortypesDone4/зима/00001254.jpg', 179.99002117727076),\n",
              " ('ColortypesDone4/зима/00007037.jpg', 190.25482767489711),\n",
              " ('ColortypesDone4/зима/00002629.jpg', 186.25198688271604),\n",
              " ('ColortypesDone4/зима/00007745.jpg', 183.4814566186557),\n",
              " ('ColortypesDone4/зима/00005807.jpg', 173.79018533989293),\n",
              " ('ColortypesDone4/зима/00006842.jpg', 174.13930250918202),\n",
              " ('ColortypesDone4/зима/00004932.jpg', 174.335167603272),\n",
              " ('ColortypesDone4/зима/00000003.jpg', 181.5183479080933),\n",
              " ('ColortypesDone4/зима/00001914.jpg', 172.96756601508918),\n",
              " ('ColortypesDone4/зима/00006921.jpg', 177.21607853223594),\n",
              " ('ColortypesDone4/зима/00003497.jpg', 186.23569204389574),\n",
              " ('ColortypesDone4/зима/00001135.jpg', 178.4846997753686),\n",
              " ('ColortypesDone4/зима/00001653.jpg', 210.47916049382715),\n",
              " ('ColortypesDone4/зима/00004931.jpg', 198.9444780521262),\n",
              " ('ColortypesDone4/зима/00009597.jpg', 183.740076303155),\n",
              " ('ColortypesDone4/зима/00000982.jpg', 172.98861567804693),\n",
              " ('ColortypesDone4/зима/00008500.jpg', 197.79752400548696),\n",
              " ('ColortypesDone4/зима/00007425.jpg', 178.32858710562414),\n",
              " ('ColortypesDone4/зима/00008759.jpg', 173.0990500685871),\n",
              " ('ColortypesDone4/зима/00006012.jpg', 173.3239996941386),\n",
              " ('ColortypesDone4/зима/00001543.jpg', 179.68475308641976),\n",
              " ('ColortypesDone4/зима/00002857.jpg', 219.9980802469136),\n",
              " ('ColortypesDone4/зима/00002328.jpg', 194.63978392773797),\n",
              " ('ColortypesDone4/зима/00001609.jpg', 189.28123868312758),\n",
              " ('ColortypesDone4/зима/00004942.jpg', 176.94597222222222),\n",
              " ('ColortypesDone4/зима/00004943.jpg', 207.84436814128944),\n",
              " ('ColortypesDone4/зима/00010739.jpg', 190.0081963734568),\n",
              " ('ColortypesDone4/зима/00002881.jpg', 202.21059191471005),\n",
              " ('ColortypesDone4/зима/00002936.jpg', 225.0024015646245),\n",
              " ('ColortypesDone4/зима/00000660.jpg', 183.0986801946713),\n",
              " ('ColortypesDone4/зима/00009446.jpg', 184.54218644889787),\n",
              " ('ColortypesDone4/зима/00007457.jpg', 177.56860339506173),\n",
              " ('ColortypesDone4/зима/00007331.jpg', 172.8981131427944),\n",
              " ('ColortypesDone4/зима/00004160.jpg', 188.2806135696133),\n",
              " ('ColortypesDone4/зима/00003394.jpg', 181.34184413580246),\n",
              " ('ColortypesDone4/зима/00002101.jpg', 185.8936111111111),\n",
              " ('ColortypesDone4/зима/00006398.jpg', 203.12090877914952),\n",
              " ('ColortypesDone4/зима/00004772.jpg', 171.71549296982167),\n",
              " ('ColortypesDone4/зима/00001637.jpg', 178.82460835303388),\n",
              " ('ColortypesDone4/зима/00003544.jpg', 176.91379629629628),\n",
              " ('ColortypesDone4/зима/00002909.jpg', 171.72083333333333),\n",
              " ('ColortypesDone4/зима/00007332.jpg', 196.03370917573872),\n",
              " ('ColortypesDone4/зима/00006986.jpg', 197.87539523319617),\n",
              " ('ColortypesDone4/зима/00004171.jpg', 206.5271630068262),\n",
              " ('ColortypesDone4/зима/00009284.jpg', 187.36298782578876),\n",
              " ('ColortypesDone4/зима/00002688.jpg', 180.61492043895748),\n",
              " ('ColortypesDone4/зима/00002677.jpg', 195.42072102194788),\n",
              " ('ColortypesDone4/зима/00002298.jpg', 209.88085938056247),\n",
              " ('ColortypesDone4/зима/00003810.jpg', 190.54846433470507),\n",
              " ('ColortypesDone4/зима/00000464.jpg', 212.59914930555556),\n",
              " ('ColortypesDone1/winter/00000245.jpg', 188.71442301097395),\n",
              " ('ColortypesDone1/winter/00000362.jpg', 188.3073859739369),\n",
              " ('ColortypesDone1/winter/00000659.jpg', 183.56962705761316),\n",
              " ('ColortypesDone1/winter/00000898.jpg', 175.68750085733882),\n",
              " ('ColortypesDone1/winter/00000899.jpg', 192.32227366255145),\n",
              " ('ColortypesDone1/winter/00001548.jpg', 195.27868484224965),\n",
              " ('ColortypesDone1/winter/00001921.jpg', 174.82424125514405),\n",
              " ('ColortypesDone1/winter/00003286.jpg', 176.3116399176955),\n",
              " ('ColortypesDone1/winter/00003598.jpg', 171.8273134430727),\n",
              " ('ColortypesDone1/winter/00004596.jpg', 189.1065439777053),\n",
              " ('ColortypesDone1/winter/th-2126343977-736x736.jpg', 184.5643275933365),\n",
              " ('ColortypesDone1/winter/th-2126476981-736x736.jpg', 194.4369184930293),\n",
              " ('ColortypesDone1/winter/00001381.jpg', 192.81708199687475),\n",
              " ('ColortypesDone1/winter/00001909.jpg', 185.35641152263375),\n",
              " ('ColortypesDone1/autumn/00000185.jpg', 197.02254545922835),\n",
              " ('ColortypesDone1/autumn/00000401.jpg', 176.50273251028807),\n",
              " ('ColortypesDone1/autumn/00000904.jpg', 196.5397127914952),\n",
              " ('ColortypesDone1/autumn/00001352.jpg', 177.62447445130314),\n",
              " ('ColortypesDone1/autumn/00003584.jpg', 187.89521200015255),\n",
              " ('ColortypesDone1/autumn/00003851.jpg', 173.1474183813443),\n",
              " ('ColortypesDone1/autumn/00003875.jpg', 176.30379286694102),\n",
              " ('ColortypesDone1/autumn/00005602.jpg', 197.379753125),\n",
              " ('ColortypesDone1/autumn/th-2126401453-842x736.jpg', 173.10423390219972),\n",
              " ('ColortypesDone1/autumn/th-2126427492-736x736.jpg', 180.3062012641777),\n",
              " ('ColortypesDone1/autumn/th-2126541389-640x640.jpg', 186.56233154296876),\n",
              " ('ColortypesDone1/autumn/00000296.jpg', 205.85838275374016),\n",
              " ('ColortypesDone1/mixed/00000459.jpg', 191.535186042524),\n",
              " ('ColortypesDone1/mixed/00001183.jpg', 181.31488797439414),\n",
              " ('ColortypesDone1/mixed/00001843.jpg', 178.53253600823047),\n",
              " ('ColortypesDone1/mixed/00002180.jpg', 190.15395038167938),\n",
              " ('ColortypesDone1/mixed/00005791.jpg', 171.93096450617284),\n",
              " ('ColortypesDone1/mixed/th-2126427734-736x736.jpg', 180.68502628780718),\n",
              " ('ColortypesDone1/mixed/th-2126501999-736x736.jpg', 174.33283428343572),\n",
              " ('ColortypesDone1/mixed/00002389.jpg', 177.09827296738396),\n",
              " ('ColortypesDone1/spring/00003840.jpg', 172.26229080932785),\n",
              " ('ColortypesDone1/spring/00000735.jpg', 176.37125685871055),\n",
              " ('ColortypesDone1/spring/00001377.jpg', 200.50355452674899),\n",
              " ('ColortypesDone1/spring/00002871.jpg', 174.87169925567107),\n",
              " ('ColortypesDone1/summer/00000177.jpg', 179.2447890946502),\n",
              " ('ColortypesDone1/summer/00001428.jpg', 171.8175171467764),\n",
              " ('ColortypesDone1/summer/00001678.jpg', 176.16797485351563),\n",
              " ('ColortypesDone1/summer/00002773.jpg', 173.2324288408779),\n",
              " ('ColortypesDone1/summer/00003029.jpg', 173.82949451303156)]"
            ]
          },
          "metadata": {
            "tags": []
          },
          "execution_count": 26
        }
      ]
    },
    {
      "cell_type": "code",
      "metadata": {
        "id": "gulcep0UMuEk"
      },
      "source": [
        "import shutil\n",
        "import os"
      ],
      "execution_count": null,
      "outputs": []
    },
    {
      "cell_type": "code",
      "metadata": {
        "id": "zvV4JkaVP8Ii"
      },
      "source": [
        "list_of_names_for_subdirs = ['dim_images', 'normal_images', 'bright_images']\n",
        "index_of_subdir_name = 0\n",
        "\n",
        "for group in [dim_images, normal_images, bright_images]:\n",
        "  for element in group:\n",
        "    new_name = shutil.copy(element[0], list_of_names_for_subdirs[index_of_subdir_name])\n",
        "    os.rename(new_name,  list_of_names_for_subdirs[index_of_subdir_name] + '/' + str(element[1]) + '.jpg')\n",
        "  index_of_subdir_name += 1"
      ],
      "execution_count": null,
      "outputs": []
    },
    {
      "cell_type": "markdown",
      "metadata": {
        "id": "2Eh8fQx5ZM-N"
      },
      "source": [
        "bright_images почему-то не заполнились, заполню их еще раз"
      ]
    },
    {
      "cell_type": "code",
      "metadata": {
        "id": "-4_Z_ieeZJSi"
      },
      "source": [
        "for element in bright_images:\n",
        "  new_name = shutil.copy(element[0], 'bright_images')\n",
        "  os.rename(new_name, 'bright_images' + '/' + str(element[1]) + '.jpg')"
      ],
      "execution_count": null,
      "outputs": []
    },
    {
      "cell_type": "code",
      "metadata": {
        "id": "2mureynTSI4v"
      },
      "source": [
        ""
      ],
      "execution_count": null,
      "outputs": []
    },
    {
      "cell_type": "markdown",
      "metadata": {
        "id": "_WHu3s5ZZuib"
      },
      "source": [
        "Предварительно заметно, что в \"яркие\" попали те картинки, где большой баланс белого(белые стены, или рисунки без фона) и абсолютно так же в \"тусклых\" картинках оказались фотографии с большим балансом черного(стилизированные студийные фотки)"
      ]
    },
    {
      "cell_type": "code",
      "metadata": {
        "id": "SR3cWXf0aI8j"
      },
      "source": [
        ""
      ],
      "execution_count": null,
      "outputs": []
    },
    {
      "cell_type": "markdown",
      "metadata": {
        "id": "kXSF_zdZ7_es"
      },
      "source": [
        "А теперь хочу попробовать другие параметры для is_low_contrast"
      ]
    },
    {
      "cell_type": "code",
      "metadata": {
        "id": "H_JYJeVi8Jkq"
      },
      "source": [
        "from skimage.exposure import is_low_contrast\n",
        "from skimage.io import imread\n",
        "from PIL import ImageStat, Image"
      ],
      "execution_count": null,
      "outputs": []
    },
    {
      "cell_type": "code",
      "metadata": {
        "id": "EQq3bGsO8Jks"
      },
      "source": [
        "def brightness(image):\n",
        "   im = Image.open(image).convert('L')\n",
        "   stat = ImageStat.Stat(im)\n",
        "   return stat.mean[0]"
      ],
      "execution_count": null,
      "outputs": []
    },
    {
      "cell_type": "code",
      "metadata": {
        "id": "062EAgUy8Jkt"
      },
      "source": [
        "passed_images_names = []\n",
        "passed_images_brightness = []"
      ],
      "execution_count": null,
      "outputs": []
    },
    {
      "cell_type": "code",
      "metadata": {
        "id": "nQHe_3W98Jkt"
      },
      "source": [
        "for image_name in list_of_all_imges:\n",
        "  if not is_low_contrast(imread(image_name), fraction_threshold=0.1):\n",
        "    passed_images_names.append(image_name)\n",
        "    passed_images_brightness.append(brightness(image_name))"
      ],
      "execution_count": null,
      "outputs": []
    },
    {
      "cell_type": "code",
      "metadata": {
        "colab": {
          "base_uri": "https://localhost:8080/"
        },
        "id": "88ESJYRd8Wrm",
        "outputId": "eb71ddc0-d726-4059-ce3b-161895c16a56"
      },
      "source": [
        "print(len(passed_images_names))\n",
        "print(len(list_of_all_imges))"
      ],
      "execution_count": null,
      "outputs": [
        {
          "output_type": "stream",
          "text": [
            "6501\n",
            "6503\n"
          ],
          "name": "stdout"
        }
      ]
    },
    {
      "cell_type": "code",
      "metadata": {
        "id": "LWUKU1sqG8n-"
      },
      "source": [
        "save_first_trechold_change = []"
      ],
      "execution_count": null,
      "outputs": []
    },
    {
      "cell_type": "code",
      "metadata": {
        "colab": {
          "base_uri": "https://localhost:8080/"
        },
        "id": "7xhqWHA1FZtt",
        "outputId": "1d08c241-b9fc-40c6-bae1-873aba761c59"
      },
      "source": [
        "for image in list_of_all_imges:\n",
        "  if image not in passed_images_names:\n",
        "    print(image)\n",
        "    save_first_trechold_change.append(image)"
      ],
      "execution_count": null,
      "outputs": [
        {
          "output_type": "stream",
          "text": [
            "ColortypesDone4/непонятно/00000477.jpg\n",
            "ColortypesDone4/непонятно/00002385.jpg\n"
          ],
          "name": "stdout"
        }
      ]
    },
    {
      "cell_type": "markdown",
      "metadata": {
        "id": "ZGEBtV9qKNYi"
      },
      "source": [
        "Возьмем трешхолд в два раза больше"
      ]
    },
    {
      "cell_type": "code",
      "metadata": {
        "id": "SE5SLKv_J61J"
      },
      "source": [
        ""
      ],
      "execution_count": null,
      "outputs": []
    },
    {
      "cell_type": "code",
      "metadata": {
        "id": "qnuYxWC1KL_D"
      },
      "source": [
        "passed_images_names = []\n",
        "passed_images_brightness = []"
      ],
      "execution_count": null,
      "outputs": []
    },
    {
      "cell_type": "code",
      "metadata": {
        "id": "DjAxzwbsKL_I"
      },
      "source": [
        "for image_name in list_of_all_imges:\n",
        "  if not is_low_contrast(imread(image_name), fraction_threshold=0.2):\n",
        "    passed_images_names.append(image_name)\n",
        "    passed_images_brightness.append(brightness(image_name))"
      ],
      "execution_count": null,
      "outputs": []
    },
    {
      "cell_type": "code",
      "metadata": {
        "colab": {
          "base_uri": "https://localhost:8080/"
        },
        "id": "JZNYDtvZKL_L",
        "outputId": "267f4801-ed20-442e-8c30-5bc2cf692cf2"
      },
      "source": [
        "print(len(passed_images_names))\n",
        "print(len(list_of_all_imges))"
      ],
      "execution_count": null,
      "outputs": [
        {
          "output_type": "stream",
          "text": [
            "6472\n",
            "6503\n"
          ],
          "name": "stdout"
        }
      ]
    },
    {
      "cell_type": "code",
      "metadata": {
        "id": "g_64x3DKMW86"
      },
      "source": [
        "save_second_trechold_change = []"
      ],
      "execution_count": null,
      "outputs": []
    },
    {
      "cell_type": "code",
      "metadata": {
        "colab": {
          "base_uri": "https://localhost:8080/"
        },
        "id": "E4GSuglKMW8-",
        "outputId": "b874aed2-e35e-44e8-f862-76a7d593faba"
      },
      "source": [
        "for image in list_of_all_imges:\n",
        "  if image not in passed_images_names:\n",
        "    print(image)\n",
        "    save_second_trechold_change.append(image)"
      ],
      "execution_count": null,
      "outputs": [
        {
          "output_type": "stream",
          "text": [
            "ColortypesDone3/mixed/00008760.jpg\n",
            "ColortypesDone3/mixed/00005064.jpg\n",
            "ColortypesDone3/mixed/00005705.jpg\n",
            "ColortypesDone3/sumer/00009585.jpg\n",
            "ColortypesDone3/winter/00010795.jpg\n",
            "ColortypesDone4/лето/00009585.jpg\n",
            "ColortypesDone4/осень/00004546.jpg\n",
            "ColortypesDone4/непонятно/00006706.jpg\n",
            "ColortypesDone4/непонятно/00004844.jpg\n",
            "ColortypesDone4/непонятно/00001732.jpg\n",
            "ColortypesDone4/непонятно/00000477.jpg\n",
            "ColortypesDone4/непонятно/00008760.jpg\n",
            "ColortypesDone4/непонятно/00007321.jpg\n",
            "ColortypesDone4/непонятно/00010338.jpg\n",
            "ColortypesDone4/непонятно/00001358.jpg\n",
            "ColortypesDone4/непонятно/00006807.jpg\n",
            "ColortypesDone4/непонятно/00005705.jpg\n",
            "ColortypesDone4/непонятно/00005064.jpg\n",
            "ColortypesDone4/непонятно/00002078.jpg\n",
            "ColortypesDone4/непонятно/00005994.jpg\n",
            "ColortypesDone4/непонятно/00007629.jpg\n",
            "ColortypesDone4/непонятно/00008494.jpg\n",
            "ColortypesDone4/непонятно/00002385.jpg\n",
            "ColortypesDone4/афроамериканский цветотип/00003745.jpg\n",
            "ColortypesDone4/афроамериканский цветотип/00006403.jpg\n",
            "ColortypesDone4/зима/00002654.jpg\n",
            "ColortypesDone4/зима/00008495.jpg\n",
            "ColortypesDone4/зима/00010795.jpg\n",
            "ColortypesDone4/зима/00002839.jpg\n",
            "ColortypesDone4/зима/00000212.jpg\n",
            "ColortypesDone1/summer/00002879.jpg\n"
          ],
          "name": "stdout"
        }
      ]
    },
    {
      "cell_type": "code",
      "metadata": {
        "id": "LJkPQa43MkEX"
      },
      "source": [
        ""
      ],
      "execution_count": null,
      "outputs": []
    },
    {
      "cell_type": "code",
      "metadata": {
        "id": "ZuH9FvCZMkEb"
      },
      "source": [
        "name_for_subdir = 'bad_contrast_1'\n",
        "list_of_name_to_search = save_second_trechold_change\n",
        "\n",
        "for element in list_of_name_to_search:\n",
        "  new_name = shutil.copy(element, name_for_subdir)\n"
      ],
      "execution_count": null,
      "outputs": []
    },
    {
      "cell_type": "code",
      "metadata": {
        "id": "rt8pkRyAKS8o"
      },
      "source": [
        ""
      ],
      "execution_count": null,
      "outputs": []
    },
    {
      "cell_type": "markdown",
      "metadata": {
        "id": "SUuSyJ9CNVOA"
      },
      "source": [
        "И еще сильнее повысим параметр контраста"
      ]
    },
    {
      "cell_type": "code",
      "metadata": {
        "id": "YwJg6C_nNdLq"
      },
      "source": [
        "passed_images_names = []\n",
        "passed_images_brightness = []"
      ],
      "execution_count": null,
      "outputs": []
    },
    {
      "cell_type": "code",
      "metadata": {
        "id": "iH8vV33aNdLs"
      },
      "source": [
        "for image_name in list_of_all_imges:\n",
        "  if not is_low_contrast(imread(image_name), fraction_threshold=0.4):\n",
        "    passed_images_names.append(image_name)\n",
        "    passed_images_brightness.append(brightness(image_name))"
      ],
      "execution_count": null,
      "outputs": []
    },
    {
      "cell_type": "code",
      "metadata": {
        "colab": {
          "base_uri": "https://localhost:8080/"
        },
        "id": "jGNpcz43NdLu",
        "outputId": "6a9dda34-692b-4dfe-bf6e-b79af1060e53"
      },
      "source": [
        "print(len(passed_images_names))\n",
        "print(len(list_of_all_imges))"
      ],
      "execution_count": null,
      "outputs": [
        {
          "output_type": "stream",
          "text": [
            "4822\n",
            "6503\n"
          ],
          "name": "stdout"
        }
      ]
    },
    {
      "cell_type": "code",
      "metadata": {
        "id": "FvZCAAD9NdLw"
      },
      "source": [
        "save_third_trechold_change = []"
      ],
      "execution_count": null,
      "outputs": []
    },
    {
      "cell_type": "code",
      "metadata": {
        "colab": {
          "base_uri": "https://localhost:8080/"
        },
        "id": "W6rH_Ys5NdLy",
        "outputId": "0e33c797-7a40-48a5-abd2-be904106d45c"
      },
      "source": [
        "for image in list_of_all_imges:\n",
        "  if image not in passed_images_names:\n",
        "    save_third_trechold_change.append(image)"
      ],
      "execution_count": null,
      "outputs": [
        {
          "output_type": "stream",
          "text": [
            "ColortypesDone3/spring/00009974.jpg\n",
            "ColortypesDone3/spring/00003322.jpg\n",
            "ColortypesDone3/spring/00000359.jpg\n",
            "ColortypesDone3/spring/00007345.jpg\n",
            "ColortypesDone3/spring/00004313.jpg\n",
            "ColortypesDone3/spring/00008851.jpg\n",
            "ColortypesDone3/spring/00005916.jpg\n",
            "ColortypesDone3/spring/00008599.jpg\n",
            "ColortypesDone3/spring/00005521.jpg\n",
            "ColortypesDone3/spring/00005911.jpg\n",
            "ColortypesDone3/spring/00010874.jpg\n",
            "ColortypesDone3/spring/00005510.jpg\n",
            "ColortypesDone3/spring/00003560.jpg\n",
            "ColortypesDone3/spring/00002355.jpg\n",
            "ColortypesDone3/spring/00001329.jpg\n",
            "ColortypesDone3/mixed/00009806.jpg\n",
            "ColortypesDone3/mixed/00013322.jpg\n",
            "ColortypesDone3/mixed/00010880.jpg\n",
            "ColortypesDone3/mixed/00010664.jpg\n",
            "ColortypesDone3/mixed/00007079.jpg\n",
            "ColortypesDone3/mixed/00006602.jpg\n",
            "ColortypesDone3/mixed/00007722.jpg\n",
            "ColortypesDone3/mixed/00011949.jpg\n",
            "ColortypesDone3/mixed/00013409.jpg\n",
            "ColortypesDone3/mixed/00012071.jpg\n",
            "ColortypesDone3/mixed/00010128.jpg\n",
            "ColortypesDone3/mixed/00006439.jpg\n",
            "ColortypesDone3/mixed/00013368.jpg\n",
            "ColortypesDone3/mixed/00008760.jpg\n",
            "ColortypesDone3/mixed/00007687.jpg\n",
            "ColortypesDone3/mixed/00006016.jpg\n",
            "ColortypesDone3/mixed/00007305.jpg\n",
            "ColortypesDone3/mixed/00010903.jpg\n",
            "ColortypesDone3/mixed/00010445.jpg\n",
            "ColortypesDone3/mixed/00007313.jpg\n",
            "ColortypesDone3/mixed/00009716.jpg\n",
            "ColortypesDone3/mixed/00009272.jpg\n",
            "ColortypesDone3/mixed/00009501.jpg\n",
            "ColortypesDone3/mixed/00010736.jpg\n",
            "ColortypesDone3/mixed/00007062.jpg\n",
            "ColortypesDone3/mixed/00009853.jpg\n",
            "ColortypesDone3/mixed/00010133.jpg\n",
            "ColortypesDone3/mixed/00008108.jpg\n",
            "ColortypesDone3/mixed/00009835.jpg\n",
            "ColortypesDone3/mixed/00006509.jpg\n",
            "ColortypesDone3/mixed/00006086.jpg\n",
            "ColortypesDone3/mixed/00007615.jpg\n",
            "ColortypesDone3/mixed/00008654.jpg\n",
            "ColortypesDone3/mixed/00009825.jpg\n",
            "ColortypesDone3/mixed/00001856.jpg\n",
            "ColortypesDone3/mixed/00002599.jpg\n",
            "ColortypesDone3/mixed/00003370.jpg\n",
            "ColortypesDone3/mixed/00004467.jpg\n",
            "ColortypesDone3/mixed/00005064.jpg\n",
            "ColortypesDone3/mixed/00005438.jpg\n",
            "ColortypesDone3/mixed/00005641.jpg\n",
            "ColortypesDone3/mixed/00005439.jpg\n",
            "ColortypesDone3/mixed/00005650.jpg\n",
            "ColortypesDone3/mixed/00005705.jpg\n",
            "ColortypesDone3/sumer/00003519.jpg\n",
            "ColortypesDone3/sumer/00010837.jpg\n",
            "ColortypesDone3/sumer/00012563.jpg\n",
            "ColortypesDone3/sumer/00005143.jpg\n",
            "ColortypesDone3/sumer/00010002.jpg\n",
            "ColortypesDone3/sumer/00009585.jpg\n",
            "ColortypesDone3/sumer/00003080.jpg\n",
            "ColortypesDone3/sumer/00001640.jpg\n",
            "ColortypesDone3/sumer/00006311.jpg\n",
            "ColortypesDone3/sumer/00009146.jpg\n",
            "ColortypesDone3/sumer/00007194.jpg\n",
            "ColortypesDone3/sumer/00011939.jpg\n",
            "ColortypesDone3/sumer/00011870.jpg\n",
            "ColortypesDone3/sumer/00005781.jpg\n",
            "ColortypesDone3/sumer/00004474.jpg\n",
            "ColortypesDone3/sumer/00010165.jpg\n",
            "ColortypesDone3/sumer/00007668.jpg\n",
            "ColortypesDone3/sumer/00010466.jpg\n",
            "ColortypesDone3/sumer/00002670.jpg\n",
            "ColortypesDone3/sumer/00003590.jpg\n",
            "ColortypesDone3/sumer/00008558.jpg\n",
            "ColortypesDone3/sumer/00011356.jpg\n",
            "ColortypesDone3/sumer/00012065.jpg\n",
            "ColortypesDone3/sumer/00013627.jpg\n",
            "ColortypesDone3/sumer/00012854.jpg\n",
            "ColortypesDone3/sumer/00003970.jpg\n",
            "ColortypesDone3/sumer/00009736.jpg\n",
            "ColortypesDone3/sumer/00012538.jpg\n",
            "ColortypesDone3/sumer/00011972.jpg\n",
            "ColortypesDone3/sumer/00009278.jpg\n",
            "ColortypesDone3/sumer/00011973.jpg\n",
            "ColortypesDone3/sumer/00003807.jpg\n",
            "ColortypesDone3/sumer/00003163.jpg\n",
            "ColortypesDone3/sumer/00013600.jpg\n",
            "ColortypesDone3/sumer/00006423.jpg\n",
            "ColortypesDone3/sumer/00010282.jpg\n",
            "ColortypesDone3/sumer/00005328.jpg\n",
            "ColortypesDone3/sumer/00008584.jpg\n",
            "ColortypesDone3/sumer/00008960.jpg\n",
            "ColortypesDone3/sumer/00004425.jpg\n",
            "ColortypesDone3/sumer/00001398.jpg\n",
            "ColortypesDone3/sumer/00005074.jpg\n",
            "ColortypesDone3/sumer/00013000.jpg\n",
            "ColortypesDone3/sumer/00012493.jpg\n",
            "ColortypesDone3/sumer/00008623.jpg\n",
            "ColortypesDone3/sumer/00005113.jpg\n",
            "ColortypesDone3/sumer/00008026.jpg\n",
            "ColortypesDone3/sumer/00008082.jpg\n",
            "ColortypesDone3/sumer/00001475.jpg\n",
            "ColortypesDone3/sumer/00010633.jpg\n",
            "ColortypesDone3/sumer/00008054.jpg\n",
            "ColortypesDone3/sumer/00008490.jpg\n",
            "ColortypesDone3/sumer/00011248.jpg\n",
            "ColortypesDone3/sumer/00012769.jpg\n",
            "ColortypesDone3/sumer/00005577.jpg\n",
            "ColortypesDone3/sumer/00011927.jpg\n",
            "ColortypesDone3/sumer/00010998.jpg\n",
            "ColortypesDone3/sumer/00013089.jpg\n",
            "ColortypesDone3/sumer/00008244.jpg\n",
            "ColortypesDone3/sumer/00010623.jpg\n",
            "ColortypesDone3/sumer/00002192.jpg\n",
            "ColortypesDone3/sumer/00008656.jpg\n",
            "ColortypesDone3/sumer/00009549.jpg\n",
            "ColortypesDone3/sumer/00011070.jpg\n",
            "ColortypesDone3/sumer/00003845.jpg\n",
            "ColortypesDone3/winter/00008935.jpg\n",
            "ColortypesDone3/winter/00008504.jpg\n",
            "ColortypesDone3/winter/00009008.jpg\n",
            "ColortypesDone3/winter/00007541.jpg\n",
            "ColortypesDone3/winter/00003929.jpg\n",
            "ColortypesDone3/winter/00004263.jpg\n",
            "ColortypesDone3/winter/00002969.jpg\n",
            "ColortypesDone3/winter/00011730.jpg\n",
            "ColortypesDone3/winter/00008671.jpg\n",
            "ColortypesDone3/winter/00008103.jpg\n",
            "ColortypesDone3/winter/00012827.jpg\n",
            "ColortypesDone3/winter/00009744.jpg\n",
            "ColortypesDone3/winter/00011537.jpg\n",
            "ColortypesDone3/winter/00013644.jpg\n",
            "ColortypesDone3/winter/00009813.jpg\n",
            "ColortypesDone3/winter/00003286.jpg\n",
            "ColortypesDone3/winter/00005147.jpg\n",
            "ColortypesDone3/winter/00001309.jpg\n",
            "ColortypesDone3/winter/00010199.jpg\n",
            "ColortypesDone3/winter/00008701.jpg\n",
            "ColortypesDone3/winter/00006710.jpg\n",
            "ColortypesDone3/winter/00011534.jpg\n",
            "ColortypesDone3/winter/00011736.jpg\n",
            "ColortypesDone3/winter/00013647.jpg\n",
            "ColortypesDone3/winter/00006470.jpg\n",
            "ColortypesDone3/winter/00003905.jpg\n",
            "ColortypesDone3/winter/00012821.jpg\n",
            "ColortypesDone3/winter/00011327.jpg\n",
            "ColortypesDone3/winter/00004064.jpg\n",
            "ColortypesDone3/winter/00004500.jpg\n",
            "ColortypesDone3/winter/00009187.jpg\n",
            "ColortypesDone3/winter/00008514.jpg\n",
            "ColortypesDone3/winter/00006908.jpg\n",
            "ColortypesDone3/winter/00006920.jpg\n",
            "ColortypesDone3/winter/00002549.jpg\n",
            "ColortypesDone3/winter/00006713.jpg\n",
            "ColortypesDone3/winter/00008003.jpg\n",
            "ColortypesDone3/winter/00007536.jpg\n",
            "ColortypesDone3/winter/00003786.jpg\n",
            "ColortypesDone3/winter/00009724.jpg\n",
            "ColortypesDone3/winter/00004362.jpg\n",
            "ColortypesDone3/winter/00005901.jpg\n",
            "ColortypesDone3/winter/00008160.jpg\n",
            "ColortypesDone3/winter/00008148.jpg\n",
            "ColortypesDone3/winter/00001838.jpg\n",
            "ColortypesDone3/winter/00009096.jpg\n",
            "ColortypesDone3/winter/00012273.jpg\n",
            "ColortypesDone3/winter/00011587.jpg\n",
            "ColortypesDone3/winter/00002306.jpg\n",
            "ColortypesDone3/winter/00002688.jpg\n",
            "ColortypesDone3/winter/00010267.jpg\n",
            "ColortypesDone3/winter/00000060.jpg\n",
            "ColortypesDone3/winter/00008979.jpg\n",
            "ColortypesDone3/winter/00005508.jpg\n",
            "ColortypesDone3/winter/00009522.jpg\n",
            "ColortypesDone3/winter/00008166.jpg\n",
            "ColortypesDone3/winter/00012857.jpg\n",
            "ColortypesDone3/winter/00008601.jpg\n",
            "ColortypesDone3/winter/00007526.jpg\n",
            "ColortypesDone3/winter/00006572.jpg\n",
            "ColortypesDone3/winter/00012088.jpg\n",
            "ColortypesDone3/winter/00000456.jpg\n",
            "ColortypesDone3/winter/00011765.jpg\n",
            "ColortypesDone3/winter/00010453.jpg\n",
            "ColortypesDone3/winter/00012522.jpg\n",
            "ColortypesDone3/winter/00005894.jpg\n",
            "ColortypesDone3/winter/00012867.jpg\n",
            "ColortypesDone3/winter/00009513.jpg\n",
            "ColortypesDone3/winter/00004751.jpg\n",
            "ColortypesDone3/winter/00013205.jpg\n",
            "ColortypesDone3/winter/00007927.jpg\n",
            "ColortypesDone3/winter/00010526.jpg\n",
            "ColortypesDone3/winter/00006556.jpg\n",
            "ColortypesDone3/winter/00008753.jpg\n",
            "ColortypesDone3/winter/00009049.jpg\n",
            "ColortypesDone3/winter/00005868.jpg\n",
            "ColortypesDone3/winter/00013561.jpg\n",
            "ColortypesDone3/winter/00003940.jpg\n",
            "ColortypesDone3/winter/00006838.jpg\n",
            "ColortypesDone3/winter/00009100.jpg\n",
            "ColortypesDone3/winter/00009110.jpg\n",
            "ColortypesDone3/winter/00007897.jpg\n",
            "ColortypesDone3/winter/00005460.jpg\n",
            "ColortypesDone3/winter/00011401.jpg\n",
            "ColortypesDone3/winter/00009105.jpg\n",
            "ColortypesDone3/winter/00003428.jpg\n",
            "ColortypesDone3/winter/00006208.jpg\n",
            "ColortypesDone3/winter/00008557.jpg\n",
            "ColortypesDone3/winter/00005932.jpg\n",
            "ColortypesDone3/winter/00005852.jpg\n",
            "ColortypesDone3/winter/00004755.jpg\n",
            "ColortypesDone3/winter/00008191.jpg\n",
            "ColortypesDone3/winter/00011826.jpg\n",
            "ColortypesDone3/winter/00009489.jpg\n",
            "ColortypesDone3/winter/00005571.jpg\n",
            "ColortypesDone3/winter/00008928.jpg\n",
            "ColortypesDone3/winter/00011712.jpg\n",
            "ColortypesDone3/winter/00011909.jpg\n",
            "ColortypesDone3/winter/00013266.jpg\n",
            "ColortypesDone3/winter/00006119.jpg\n",
            "ColortypesDone3/winter/00007561.jpg\n",
            "ColortypesDone3/winter/00009758.jpg\n",
            "ColortypesDone3/winter/00005176.jpg\n",
            "ColortypesDone3/winter/00009016.jpg\n",
            "ColortypesDone3/winter/00004916.jpg\n",
            "ColortypesDone3/winter/00010793.jpg\n",
            "ColortypesDone3/winter/00008123.jpg\n",
            "ColortypesDone3/winter/00007576.jpg\n",
            "ColortypesDone3/winter/00009177.jpg\n",
            "ColortypesDone3/winter/00004686.jpg\n",
            "ColortypesDone3/winter/00006913.jpg\n",
            "ColortypesDone3/winter/00010181.jpg\n",
            "ColortypesDone3/winter/00007994.jpg\n",
            "ColortypesDone3/winter/00012625.jpg\n",
            "ColortypesDone3/winter/00011476.jpg\n",
            "ColortypesDone3/winter/00007200.jpg\n",
            "ColortypesDone3/winter/00007566.jpg\n",
            "ColortypesDone3/winter/00010580.jpg\n",
            "ColortypesDone3/winter/00007759.jpg\n",
            "ColortypesDone3/winter/00007349.jpg\n",
            "ColortypesDone3/winter/00005206.jpg\n",
            "ColortypesDone3/winter/00012008.jpg\n",
            "ColortypesDone3/winter/00003688.jpg\n",
            "ColortypesDone3/winter/00012587.jpg\n",
            "ColortypesDone3/winter/00010795.jpg\n",
            "ColortypesDone3/winter/00007570.jpg\n",
            "ColortypesDone3/afro/00000821.jpg\n",
            "ColortypesDone3/afro/00002976.jpg\n",
            "ColortypesDone3/afro/00002080.jpg\n",
            "ColortypesDone3/afro/00004097.jpg\n",
            "ColortypesDone3/afro/00004103.jpg\n",
            "ColortypesDone3/afro/00004392.jpg\n",
            "ColortypesDone3/afro/00005070.jpg\n",
            "ColortypesDone3/afro/00005790.jpg\n",
            "ColortypesDone3/afro/00006362.jpg\n",
            "ColortypesDone3/afro/00007482.jpg\n",
            "ColortypesDone3/afro/00007552.jpg\n",
            "ColortypesDone3/afro/00008061.jpg\n",
            "ColortypesDone3/afro/00008133.jpg\n",
            "ColortypesDone3/afro/00008348.jpg\n",
            "ColortypesDone3/afro/00008651.jpg\n",
            "ColortypesDone3/afro/00009364.jpg\n",
            "ColortypesDone3/afro/00010593.jpg\n",
            "ColortypesDone3/afro/00012321.jpg\n",
            "ColortypesDone3/autumn/00000555.jpg\n",
            "ColortypesDone3/autumn/00000946.jpg\n",
            "ColortypesDone3/autumn/00001038.jpg\n",
            "ColortypesDone3/autumn/00001273.jpg\n",
            "ColortypesDone3/autumn/00001280.jpg\n",
            "ColortypesDone3/autumn/00001270.jpg\n",
            "ColortypesDone3/autumn/00001552.jpg\n",
            "ColortypesDone3/autumn/00001562.jpg\n",
            "ColortypesDone3/autumn/00001743.jpg\n",
            "ColortypesDone3/autumn/00001847.jpg\n",
            "ColortypesDone3/autumn/00001885.jpg\n",
            "ColortypesDone3/autumn/00002184.jpg\n",
            "ColortypesDone3/autumn/00002230.jpg\n",
            "ColortypesDone3/autumn/00002775.jpg\n",
            "ColortypesDone3/autumn/00002724.jpg\n",
            "ColortypesDone3/autumn/00002875.jpg\n",
            "ColortypesDone3/autumn/00003151.jpg\n",
            "ColortypesDone3/autumn/00003176.jpg\n",
            "ColortypesDone3/autumn/00003488.jpg\n",
            "ColortypesDone3/autumn/00003445.jpg\n",
            "ColortypesDone3/autumn/00003625.jpg\n",
            "ColortypesDone3/autumn/00003633.jpg\n",
            "ColortypesDone3/autumn/00003667.jpg\n",
            "ColortypesDone3/autumn/00003693.jpg\n",
            "ColortypesDone3/autumn/00004430.jpg\n",
            "ColortypesDone3/autumn/00004683.jpg\n",
            "ColortypesDone3/autumn/00004826.jpg\n",
            "ColortypesDone3/autumn/00005015.jpg\n",
            "ColortypesDone3/autumn/00005804.jpg\n",
            "ColortypesDone3/autumn/00006309.jpg\n",
            "ColortypesDone3/autumn/00006314.jpg\n",
            "ColortypesDone3/autumn/00006265.jpg\n",
            "ColortypesDone3/autumn/00006333.jpg\n",
            "ColortypesDone3/autumn/00006368.jpg\n",
            "ColortypesDone3/autumn/00006786.jpg\n",
            "ColortypesDone3/autumn/00007088.jpg\n",
            "ColortypesDone3/autumn/00007697.jpg\n",
            "ColortypesDone3/autumn/00007711.jpg\n",
            "ColortypesDone3/autumn/00007712.jpg\n",
            "ColortypesDone3/autumn/00007742.jpg\n",
            "ColortypesDone3/autumn/00007775.jpg\n",
            "ColortypesDone3/autumn/00007953.jpg\n",
            "ColortypesDone3/autumn/00008298.jpg\n",
            "ColortypesDone3/autumn/00008200.jpg\n",
            "ColortypesDone3/autumn/00008521.jpg\n",
            "ColortypesDone3/autumn/00008301.jpg\n",
            "ColortypesDone3/autumn/00008648.jpg\n",
            "ColortypesDone3/autumn/00008597.jpg\n",
            "ColortypesDone3/autumn/00008731.jpg\n",
            "ColortypesDone3/autumn/00008980.jpg\n",
            "ColortypesDone3/autumn/00009030.jpg\n",
            "ColortypesDone3/autumn/00009032.jpg\n",
            "ColortypesDone3/autumn/00009097.jpg\n",
            "ColortypesDone3/autumn/00009243.jpg\n",
            "ColortypesDone3/autumn/00009325.jpg\n",
            "ColortypesDone3/autumn/00009753.jpg\n",
            "ColortypesDone3/autumn/00009847.jpg\n",
            "ColortypesDone3/autumn/00009930.jpg\n",
            "ColortypesDone3/autumn/00009661.jpg\n",
            "ColortypesDone3/autumn/00010584.jpg\n",
            "ColortypesDone3/autumn/00010745.jpg\n",
            "ColortypesDone3/autumn/00010786.jpg\n",
            "ColortypesDone3/autumn/00011151.jpg\n",
            "ColortypesDone3/autumn/00011553.jpg\n",
            "ColortypesDone3/autumn/00012121.jpg\n",
            "ColortypesDone3/autumn/00012131.jpg\n",
            "ColortypesDone3/autumn/00012297.jpg\n",
            "ColortypesDone3/autumn/00012666.jpg\n",
            "ColortypesDone3/autumn/00013400.jpg\n",
            "ColortypesDone3/autumn/00013344.jpg\n",
            "ColortypesDone2/fall/00000727.jpg\n",
            "ColortypesDone2/fall/00000755.jpg\n",
            "ColortypesDone2/spring/00000681.jpg\n",
            "ColortypesDone2/spring/00000687.jpg\n",
            "ColortypesDone2/summer/00000428.jpg\n",
            "ColortypesDone2/summer/00000570.jpg\n",
            "ColortypesDone2/summer/00000504.jpg\n",
            "ColortypesDone2/summer/00000455.jpg\n",
            "ColortypesDone2/winter/00000528.jpg\n",
            "ColortypesDone2/winter/00000535.jpg\n",
            "ColortypesDone4/лето/00010997.jpg\n",
            "ColortypesDone4/лето/00005419.jpg\n",
            "ColortypesDone4/лето/00009974.jpg\n",
            "ColortypesDone4/лето/00003281.jpg\n",
            "ColortypesDone4/лето/00004263.jpg\n",
            "ColortypesDone4/лето/00007742.jpg\n",
            "ColortypesDone4/лето/00008908.jpg\n",
            "ColortypesDone4/лето/00010837.jpg\n",
            "ColortypesDone4/лето/00002016.jpg\n",
            "ColortypesDone4/лето/00011081.jpg\n",
            "ColortypesDone4/лето/00005143.jpg\n",
            "ColortypesDone4/лето/00006674.jpg\n",
            "ColortypesDone4/лето/00009585.jpg\n",
            "ColortypesDone4/лето/00001640.jpg\n",
            "ColortypesDone4/лето/00009778.jpg\n",
            "ColortypesDone4/лето/00004880.jpg\n",
            "ColortypesDone4/лето/00007345.jpg\n",
            "ColortypesDone4/лето/00004098.jpg\n",
            "ColortypesDone4/лето/00001123.jpg\n",
            "ColortypesDone4/лето/00009966.jpg\n",
            "ColortypesDone4/лето/00008488.jpg\n",
            "ColortypesDone4/лето/00002600.jpg\n",
            "ColortypesDone4/лето/00000361.jpg\n",
            "ColortypesDone4/лето/00010616.jpg\n",
            "ColortypesDone4/лето/00004313.jpg\n",
            "ColortypesDone4/лето/00002414.jpg\n",
            "ColortypesDone4/лето/00005420.jpg\n",
            "ColortypesDone4/лето/00010213.jpg\n",
            "ColortypesDone4/лето/00005781.jpg\n",
            "ColortypesDone4/лето/00004474.jpg\n",
            "ColortypesDone4/лето/00008919.jpg\n",
            "ColortypesDone4/лето/00003803.jpg\n",
            "ColortypesDone4/лето/00010076.jpg\n",
            "ColortypesDone4/лето/00010923.jpg\n",
            "ColortypesDone4/лето/00007721.jpg\n",
            "ColortypesDone4/лето/00003396.jpg\n",
            "ColortypesDone4/лето/00003625.jpg\n",
            "ColortypesDone4/лето/00003633.jpg\n",
            "ColortypesDone4/лето/00009322.jpg\n",
            "ColortypesDone4/лето/00010459.jpg\n",
            "ColortypesDone4/лето/00008558.jpg\n",
            "ColortypesDone4/лето/00010934.jpg\n",
            "ColortypesDone4/лето/00006824.jpg\n",
            "ColortypesDone4/лето/00010706.jpg\n",
            "ColortypesDone4/лето/00009096.jpg\n",
            "ColortypesDone4/лето/00011024.jpg\n",
            "ColortypesDone4/лето/00009858.jpg\n",
            "ColortypesDone4/лето/00010528.jpg\n",
            "ColortypesDone4/лето/00010064.jpg\n",
            "ColortypesDone4/лето/00005483.jpg\n",
            "ColortypesDone4/лето/00009285.jpg\n",
            "ColortypesDone4/лето/00010107.jpg\n",
            "ColortypesDone4/лето/00010098.jpg\n",
            "ColortypesDone4/лето/00001180.jpg\n",
            "ColortypesDone4/лето/00003783.jpg\n",
            "ColortypesDone4/лето/00008826.jpg\n",
            "ColortypesDone4/лето/00001157.jpg\n",
            "ColortypesDone4/лето/00009912.jpg\n",
            "ColortypesDone4/лето/00006016.jpg\n",
            "ColortypesDone4/лето/00009325.jpg\n",
            "ColortypesDone4/лето/00008778.jpg\n",
            "ColortypesDone4/лето/00004630.jpg\n",
            "ColortypesDone4/лето/00009314.jpg\n",
            "ColortypesDone4/лето/00005062.jpg\n",
            "ColortypesDone4/лето/00008368.jpg\n",
            "ColortypesDone4/лето/00006423.jpg\n",
            "ColortypesDone4/лето/00010282.jpg\n",
            "ColortypesDone4/лето/00009922.jpg\n",
            "ColortypesDone4/лето/00009659.jpg\n",
            "ColortypesDone4/лето/00008751.jpg\n",
            "ColortypesDone4/лето/00009317.jpg\n",
            "ColortypesDone4/лето/00010685.jpg\n",
            "ColortypesDone4/лето/00004425.jpg\n",
            "ColortypesDone4/лето/00003798.jpg\n",
            "ColortypesDone4/лето/00009706.jpg\n",
            "ColortypesDone4/лето/00008342.jpg\n",
            "ColortypesDone4/лето/00002109.jpg\n",
            "ColortypesDone4/лето/00003808.jpg\n",
            "ColortypesDone4/лето/00008583.jpg\n",
            "ColortypesDone4/лето/00006357.jpg\n",
            "ColortypesDone4/лето/00000083.jpg\n",
            "ColortypesDone4/лето/00006815.jpg\n",
            "ColortypesDone4/лето/00008623.jpg\n",
            "ColortypesDone4/лето/00007935.jpg\n",
            "ColortypesDone4/лето/00008541.jpg\n",
            "ColortypesDone4/лето/00008031.jpg\n",
            "ColortypesDone4/лето/00002534.jpg\n",
            "ColortypesDone4/лето/00009307.jpg\n",
            "ColortypesDone4/лето/00009661.jpg\n",
            "ColortypesDone4/лето/00008557.jpg\n",
            "ColortypesDone4/лето/00003012.jpg\n",
            "ColortypesDone4/лето/00008191.jpg\n",
            "ColortypesDone4/лето/00010286.jpg\n",
            "ColortypesDone4/лето/00006382.jpg\n",
            "ColortypesDone4/лето/00007711.jpg\n",
            "ColortypesDone4/лето/00009847.jpg\n",
            "ColortypesDone4/лето/00010331.jpg\n",
            "ColortypesDone4/лето/00006786.jpg\n",
            "ColortypesDone4/лето/00006779.jpg\n",
            "ColortypesDone4/лето/00008069.jpg\n",
            "ColortypesDone4/лето/00008082.jpg\n",
            "ColortypesDone4/лето/00008450.jpg\n",
            "ColortypesDone4/лето/00009612.jpg\n",
            "ColortypesDone4/лето/00006086.jpg\n",
            "ColortypesDone4/лето/00010633.jpg\n",
            "ColortypesDone4/лето/00008054.jpg\n",
            "ColortypesDone4/лето/00007775.jpg\n",
            "ColortypesDone4/лето/00001462.jpg\n",
            "ColortypesDone4/лето/00002355.jpg\n",
            "ColortypesDone4/лето/00010786.jpg\n",
            "ColortypesDone4/лето/00006867.jpg\n",
            "ColortypesDone4/лето/00008490.jpg\n",
            "ColortypesDone4/лето/00008335.jpg\n",
            "ColortypesDone4/лето/00004484.jpg\n",
            "ColortypesDone4/лето/00008731.jpg\n",
            "ColortypesDone4/лето/00009417.jpg\n",
            "ColortypesDone4/лето/00001063.jpg\n",
            "ColortypesDone4/лето/00010998.jpg\n",
            "ColortypesDone4/лето/00005416.jpg\n",
            "ColortypesDone4/лето/00011107.jpg\n",
            "ColortypesDone4/лето/00008456.jpg\n",
            "ColortypesDone4/лето/00010392.jpg\n",
            "ColortypesDone4/лето/00002233.jpg\n",
            "ColortypesDone4/лето/00007439.jpg\n",
            "ColortypesDone4/лето/00009399.jpg\n",
            "ColortypesDone4/лето/00007175.jpg\n",
            "ColortypesDone4/лето/00011065.jpg\n",
            "ColortypesDone4/лето/00008252.jpg\n",
            "ColortypesDone4/лето/00008656.jpg\n",
            "ColortypesDone4/лето/00005414.jpg\n",
            "ColortypesDone4/лето/00005415.jpg\n",
            "ColortypesDone4/лето/00006322.jpg\n",
            "ColortypesDone4/лето/00002971.jpg\n",
            "ColortypesDone4/лето/00008521.jpg\n",
            "ColortypesDone4/лето/00006083.jpg\n",
            "ColortypesDone4/лето/00003845.jpg\n",
            "ColortypesDone4/лето/00010150.jpg\n",
            "ColortypesDone4/осень/00001050.jpg\n",
            "ColortypesDone4/осень/00010161.jpg\n",
            "ColortypesDone4/осень/00007145.jpg\n",
            "ColortypesDone4/осень/00003445.jpg\n",
            "ColortypesDone4/осень/00010411.jpg\n",
            "ColortypesDone4/осень/00001508.jpg\n",
            "ColortypesDone4/осень/00001680.jpg\n",
            "ColortypesDone4/осень/00010766.jpg\n",
            "ColortypesDone4/осень/00003322.jpg\n",
            "ColortypesDone4/осень/00001247.jpg\n",
            "ColortypesDone4/осень/00002558.jpg\n",
            "ColortypesDone4/осень/00004881.jpg\n",
            "ColortypesDone4/осень/00003693.jpg\n",
            "ColortypesDone4/осень/00010189.jpg\n",
            "ColortypesDone4/осень/00000629.jpg\n",
            "ColortypesDone4/осень/00001319.jpg\n",
            "ColortypesDone4/осень/00002823.jpg\n",
            "ColortypesDone4/осень/00008671.jpg\n",
            "ColortypesDone4/осень/00001867.jpg\n",
            "ColortypesDone4/осень/00005803.jpg\n",
            "ColortypesDone4/осень/00000748.jpg\n",
            "ColortypesDone4/осень/00002639.jpg\n",
            "ColortypesDone4/осень/00003692.jpg\n",
            "ColortypesDone4/осень/00006739.jpg\n",
            "ColortypesDone4/осень/00002775.jpg\n",
            "ColortypesDone4/осень/00007802.jpg\n",
            "ColortypesDone4/осень/00003279.jpg\n",
            "ColortypesDone4/осень/00003292.jpg\n",
            "ColortypesDone4/осень/00003735.jpg\n",
            "ColortypesDone4/осень/00008661.jpg\n",
            "ColortypesDone4/осень/00006116.jpg\n",
            "ColortypesDone4/осень/00009972.jpg\n",
            "ColortypesDone4/осень/00001309.jpg\n",
            "ColortypesDone4/осень/00002774.jpg\n",
            "ColortypesDone4/осень/00010199.jpg\n",
            "ColortypesDone4/осень/00008501.jpg\n",
            "ColortypesDone4/осень/00007632.jpg\n",
            "ColortypesDone4/осень/00005031.jpg\n",
            "ColortypesDone4/осень/00008298.jpg\n",
            "ColortypesDone4/осень/00001280.jpg\n",
            "ColortypesDone4/осень/00006470.jpg\n",
            "ColortypesDone4/осень/00006100.jpg\n",
            "ColortypesDone4/осень/00009965.jpg\n",
            "ColortypesDone4/осень/00007800.jpg\n",
            "ColortypesDone4/осень/00005030.jpg\n",
            "ColortypesDone4/осень/00006920.jpg\n",
            "ColortypesDone4/осень/00008070.jpg\n",
            "ColortypesDone4/осень/00002207.jpg\n",
            "ColortypesDone4/осень/00010165.jpg\n",
            "ColortypesDone4/осень/00006713.jpg\n",
            "ColortypesDone4/осень/00002213.jpg\n",
            "ColortypesDone4/осень/00004407.jpg\n",
            "ColortypesDone4/осень/00007668.jpg\n",
            "ColortypesDone4/осень/00007697.jpg\n",
            "ColortypesDone4/осень/00007536.jpg\n",
            "ColortypesDone4/осень/00002300.jpg\n",
            "ColortypesDone4/осень/00005268.jpg\n",
            "ColortypesDone4/осень/00011141.jpg\n",
            "ColortypesDone4/осень/00010277.jpg\n",
            "ColortypesDone4/осень/00008148.jpg\n",
            "ColortypesDone4/осень/00003974.jpg\n",
            "ColortypesDone4/осень/00001179.jpg\n",
            "ColortypesDone4/осень/00004997.jpg\n",
            "ColortypesDone4/осень/00007093.jpg\n",
            "ColortypesDone4/осень/00008565.jpg\n",
            "ColortypesDone4/осень/00001743.jpg\n",
            "ColortypesDone4/осень/00004824.jpg\n",
            "ColortypesDone4/осень/00009125.jpg\n",
            "ColortypesDone4/осень/00006570.jpg\n",
            "ColortypesDone4/осень/00005051.jpg\n",
            "ColortypesDone4/осень/00006558.jpg\n",
            "ColortypesDone4/осень/00007120.jpg\n",
            "ColortypesDone4/осень/00002931.jpg\n",
            "ColortypesDone4/осень/00005870.jpg\n",
            "ColortypesDone4/осень/00008159.jpg\n",
            "ColortypesDone4/осень/00004944.jpg\n",
            "ColortypesDone4/осень/00003794.jpg\n",
            "ColortypesDone4/осень/00008158.jpg\n",
            "ColortypesDone4/осень/00009736.jpg\n",
            "ColortypesDone4/осень/00010273.jpg\n",
            "ColortypesDone4/осень/00003151.jpg\n",
            "ColortypesDone4/осень/00001778.jpg\n",
            "ColortypesDone4/осень/00008953.jpg\n",
            "ColortypesDone4/осень/00001552.jpg\n",
            "ColortypesDone4/осень/00007876.jpg\n",
            "ColortypesDone4/осень/00000738.jpg\n",
            "ColortypesDone4/осень/00005456.jpg\n",
            "ColortypesDone4/осень/00007724.jpg\n",
            "ColortypesDone4/осень/00008371.jpg\n",
            "ColortypesDone4/осень/00007718.jpg\n",
            "ColortypesDone4/осень/00007687.jpg\n",
            "ColortypesDone4/осень/00005912.jpg\n",
            "ColortypesDone4/осень/00008563.jpg\n",
            "ColortypesDone4/осень/00004826.jpg\n",
            "ColortypesDone4/осень/00007320.jpg\n",
            "ColortypesDone4/осень/00002502.jpg\n",
            "ColortypesDone4/осень/00001562.jpg\n",
            "ColortypesDone4/осень/00008234.jpg\n",
            "ColortypesDone4/осень/00004546.jpg\n",
            "ColortypesDone4/осень/00002335.jpg\n",
            "ColortypesDone4/осень/00010902.jpg\n",
            "ColortypesDone4/осень/00000286.jpg\n",
            "ColortypesDone4/осень/00002485.jpg\n",
            "ColortypesDone4/осень/00004792.jpg\n",
            "ColortypesDone4/осень/00002136.jpg\n",
            "ColortypesDone4/осень/00004547.jpg\n",
            "ColortypesDone4/осень/00008584.jpg\n",
            "ColortypesDone4/осень/00003176.jpg\n",
            "ColortypesDone4/осень/00008753.jpg\n",
            "ColortypesDone4/осень/00002295.jpg\n",
            "ColortypesDone4/осень/00008960.jpg\n",
            "ColortypesDone4/осень/00000864.jpg\n",
            "ColortypesDone4/осень/00008418.jpg\n",
            "ColortypesDone4/осень/00001038.jpg\n",
            "ColortypesDone4/осень/00002521.jpg\n",
            "ColortypesDone4/осень/00003617.jpg\n",
            "ColortypesDone4/осень/00000487.jpg\n",
            "ColortypesDone4/осень/00008597.jpg\n",
            "ColortypesDone4/осень/00004554.jpg\n",
            "ColortypesDone4/осень/00000929.jpg\n",
            "ColortypesDone4/осень/00009930.jpg\n",
            "ColortypesDone4/осень/00009918.jpg\n",
            "ColortypesDone4/осень/00003560.jpg\n",
            "ColortypesDone4/осень/00003602.jpg\n",
            "ColortypesDone4/осень/00008741.jpg\n",
            "ColortypesDone4/осень/00003370.jpg\n",
            "ColortypesDone4/осень/00005113.jpg\n",
            "ColortypesDone4/осень/00001836.jpg\n",
            "ColortypesDone4/осень/00003775.jpg\n",
            "ColortypesDone4/осень/00005476.jpg\n",
            "ColortypesDone4/осень/00007088.jpg\n",
            "ColortypesDone4/осень/00003563.jpg\n",
            "ColortypesDone4/осень/00008026.jpg\n",
            "ColortypesDone4/осень/00002537.jpg\n",
            "ColortypesDone4/осень/00010829.jpg\n",
            "ColortypesDone4/осень/00001273.jpg\n",
            "ColortypesDone4/осень/00010342.jpg\n",
            "ColortypesDone4/осень/00002975.jpg\n",
            "ColortypesDone4/осень/00007951.jpg\n",
            "ColortypesDone4/осень/00004069.jpg\n",
            "ColortypesDone4/осень/00000555.jpg\n",
            "ColortypesDone4/осень/00007575.jpg\n",
            "ColortypesDone4/осень/00000959.jpg\n",
            "ColortypesDone4/осень/00009996.jpg\n",
            "ColortypesDone4/осень/00004875.jpg\n",
            "ColortypesDone4/осень/00003883.jpg\n",
            "ColortypesDone4/осень/00003667.jpg\n",
            "ColortypesDone4/осень/00001270.jpg\n",
            "ColortypesDone4/осень/00003315.jpg\n",
            "ColortypesDone4/осень/00005002.jpg\n",
            "ColortypesDone4/осень/00000185.jpg\n",
            "ColortypesDone4/осень/00005610.jpg\n",
            "ColortypesDone4/осень/00005837.jpg\n",
            "ColortypesDone4/осень/00007577.jpg\n",
            "ColortypesDone4/осень/00004724.jpg\n",
            "ColortypesDone4/осень/00001847.jpg\n",
            "ColortypesDone4/осень/00003936.jpg\n",
            "ColortypesDone4/осень/00006873.jpg\n",
            "ColortypesDone4/осень/00007953.jpg\n",
            "ColortypesDone4/осень/00002977.jpg\n",
            "ColortypesDone4/осень/00004692.jpg\n",
            "ColortypesDone4/осень/00002230.jpg\n",
            "ColortypesDone4/осень/00002581.jpg\n",
            "ColortypesDone4/осень/00005761.jpg\n",
            "ColortypesDone4/осень/00009952.jpg\n",
            "ColortypesDone4/осень/00005359.jpg\n",
            "ColortypesDone4/осень/00001856.jpg\n",
            "ColortypesDone4/осень/00004906.jpg\n",
            "ColortypesDone4/осень/00006863.jpg\n",
            "ColortypesDone4/осень/00001102.jpg\n",
            "ColortypesDone4/осень/00002423.jpg\n",
            "ColortypesDone4/осень/00010033.jpg\n",
            "ColortypesDone4/осень/00002184.jpg\n",
            "ColortypesDone4/осень/00000803.jpg\n",
            "ColortypesDone4/осень/00003488.jpg\n",
            "ColortypesDone4/осень/00008244.jpg\n",
            "ColortypesDone4/осень/00007407.jpg\n",
            "ColortypesDone4/осень/00007361.jpg\n",
            "ColortypesDone4/осень/00000424.jpg\n",
            "ColortypesDone4/осень/00010623.jpg\n",
            "ColortypesDone4/осень/00007411.jpg\n",
            "ColortypesDone4/осень/00000395.jpg\n",
            "ColortypesDone4/осень/00010353.jpg\n",
            "ColortypesDone4/осень/00009170.jpg\n",
            "ColortypesDone4/осень/00010421.jpg\n",
            "ColortypesDone4/осень/00008534.jpg\n",
            "ColortypesDone4/осень/00009776.jpg\n",
            "ColortypesDone4/осень/00004246.jpg\n",
            "ColortypesDone4/осень/00002192.jpg\n",
            "ColortypesDone4/осень/00000961.jpg\n",
            "ColortypesDone4/осень/00006861.jpg\n",
            "ColortypesDone4/осень/00008694.jpg\n",
            "ColortypesDone4/осень/00010232.jpg\n",
            "ColortypesDone4/осень/00006444.jpg\n",
            "ColortypesDone4/осень/00008253.jpg\n",
            "ColortypesDone4/осень/00010811.jpg\n",
            "ColortypesDone4/осень/00002540.jpg\n",
            "ColortypesDone4/непонятно/00000399.jpg\n",
            "ColortypesDone4/непонятно/00009626.jpg\n",
            "ColortypesDone4/непонятно/00006501.jpg\n",
            "ColortypesDone4/непонятно/00001440.jpg\n",
            "ColortypesDone4/непонятно/00005418.jpg\n",
            "ColortypesDone4/непонятно/00008897.jpg\n",
            "ColortypesDone4/непонятно/00008303.jpg\n",
            "ColortypesDone4/непонятно/00001053.jpg\n",
            "ColortypesDone4/непонятно/00002599.jpg\n",
            "ColortypesDone4/непонятно/00006258.jpg\n",
            "ColortypesDone4/непонятно/00009619.jpg\n",
            "ColortypesDone4/непонятно/00004467.jpg\n",
            "ColortypesDone4/непонятно/00001279.jpg\n",
            "ColortypesDone4/непонятно/00008301.jpg\n",
            "ColortypesDone4/непонятно/00000749.jpg\n",
            "ColortypesDone4/непонятно/00008329.jpg\n",
            "ColortypesDone4/непонятно/00008103.jpg\n",
            "ColortypesDone4/непонятно/00003731.jpg\n",
            "ColortypesDone4/непонятно/00002163.jpg\n",
            "ColortypesDone4/непонятно/00009744.jpg\n",
            "ColortypesDone4/непонятно/00007379.jpg\n",
            "ColortypesDone4/непонятно/00006067.jpg\n",
            "ColortypesDone4/непонятно/00006922.jpg\n",
            "ColortypesDone4/непонятно/00009620.jpg\n",
            "ColortypesDone4/непонятно/00007194.jpg\n",
            "ColortypesDone4/непонятно/00001334.jpg\n",
            "ColortypesDone4/непонятно/00005185.jpg\n",
            "ColortypesDone4/непонятно/00003047.jpg\n",
            "ColortypesDone4/непонятно/00001692.jpg\n",
            "ColortypesDone4/непонятно/00005806.jpg\n",
            "ColortypesDone4/непонятно/00006314.jpg\n",
            "ColortypesDone4/непонятно/00009806.jpg\n",
            "ColortypesDone4/непонятно/00006260.jpg\n",
            "ColortypesDone4/непонятно/00000363.jpg\n",
            "ColortypesDone4/непонятно/00006706.jpg\n",
            "ColortypesDone4/непонятно/00004844.jpg\n",
            "ColortypesDone4/непонятно/00009780.jpg\n",
            "ColortypesDone4/непонятно/00005384.jpg\n",
            "ColortypesDone4/непонятно/00004299.jpg\n",
            "ColortypesDone4/непонятно/00007784.jpg\n",
            "ColortypesDone4/непонятно/00005742.jpg\n",
            "ColortypesDone4/непонятно/00007394.jpg\n",
            "ColortypesDone4/непонятно/00001732.jpg\n",
            "ColortypesDone4/непонятно/00005226.jpg\n",
            "ColortypesDone4/непонятно/00009420.jpg\n",
            "ColortypesDone4/непонятно/00010880.jpg\n",
            "ColortypesDone4/непонятно/00000477.jpg\n",
            "ColortypesDone4/непонятно/00010664.jpg\n",
            "ColortypesDone4/непонятно/00008823.jpg\n",
            "ColortypesDone4/непонятно/00003619.jpg\n",
            "ColortypesDone4/непонятно/00008980.jpg\n",
            "ColortypesDone4/непонятно/00006005.jpg\n",
            "ColortypesDone4/непонятно/00004376.jpg\n",
            "ColortypesDone4/непонятно/00009732.jpg\n",
            "ColortypesDone4/непонятно/00007079.jpg\n",
            "ColortypesDone4/непонятно/00006602.jpg\n",
            "ColortypesDone4/непонятно/00005684.jpg\n",
            "ColortypesDone4/непонятно/00007722.jpg\n",
            "ColortypesDone4/непонятно/00002060.jpg\n",
            "ColortypesDone4/непонятно/00001780.jpg\n",
            "ColortypesDone4/непонятно/00010128.jpg\n",
            "ColortypesDone4/непонятно/00005535.jpg\n",
            "ColortypesDone4/непонятно/00002064.jpg\n",
            "ColortypesDone4/непонятно/00007875.jpg\n",
            "ColortypesDone4/непонятно/00003385.jpg\n",
            "ColortypesDone4/непонятно/00005119.jpg\n",
            "ColortypesDone4/непонятно/00001425.jpg\n",
            "ColortypesDone4/непонятно/00006612.jpg\n",
            "ColortypesDone4/непонятно/00001141.jpg\n",
            "ColortypesDone4/непонятно/00006377.jpg\n",
            "ColortypesDone4/непонятно/00003390.jpg\n",
            "ColortypesDone4/непонятно/00008574.jpg\n",
            "ColortypesDone4/непонятно/00004400.jpg\n",
            "ColortypesDone4/непонятно/00005078.jpg\n",
            "ColortypesDone4/непонятно/00003153.jpg\n",
            "ColortypesDone4/непонятно/00008760.jpg\n",
            "ColortypesDone4/непонятно/00007321.jpg\n",
            "ColortypesDone4/непонятно/00000710.jpg\n",
            "ColortypesDone4/непонятно/00003033.jpg\n",
            "ColortypesDone4/непонятно/00009523.jpg\n",
            "ColortypesDone4/непонятно/00001341.jpg\n",
            "ColortypesDone4/непонятно/00010338.jpg\n",
            "ColortypesDone4/непонятно/00004359.jpg\n",
            "ColortypesDone4/непонятно/00000473.jpg\n",
            "ColortypesDone4/непонятно/00002269.jpg\n",
            "ColortypesDone4/непонятно/00007305.jpg\n",
            "ColortypesDone4/непонятно/00005089.jpg\n",
            "ColortypesDone4/непонятно/00001358.jpg\n",
            "ColortypesDone4/непонятно/00006807.jpg\n",
            "ColortypesDone4/непонятно/00010903.jpg\n",
            "ColortypesDone4/непонятно/00000709.jpg\n",
            "ColortypesDone4/непонятно/00010491.jpg\n",
            "ColortypesDone4/непонятно/00005705.jpg\n",
            "ColortypesDone4/непонятно/00010863.jpg\n",
            "ColortypesDone4/непонятно/00007338.jpg\n",
            "ColortypesDone4/непонятно/00007474.jpg\n",
            "ColortypesDone4/непонятно/00004828.jpg\n",
            "ColortypesDone4/непонятно/00003404.jpg\n",
            "ColortypesDone4/непонятно/00003376.jpg\n",
            "ColortypesDone4/непонятно/00007892.jpg\n",
            "ColortypesDone4/непонятно/00006583.jpg\n",
            "ColortypesDone4/непонятно/00004380.jpg\n",
            "ColortypesDone4/непонятно/00003570.jpg\n",
            "ColortypesDone4/непонятно/00007702.jpg\n",
            "ColortypesDone4/непонятно/00008419.jpg\n",
            "ColortypesDone4/непонятно/00007919.jpg\n",
            "ColortypesDone4/непонятно/00008394.jpg\n",
            "ColortypesDone4/непонятно/00006187.jpg\n",
            "ColortypesDone4/непонятно/00002337.jpg\n",
            "ColortypesDone4/непонятно/00001602.jpg\n",
            "ColortypesDone4/непонятно/00010445.jpg\n",
            "ColortypesDone4/непонятно/00005074.jpg\n",
            "ColortypesDone4/непонятно/00001979.jpg\n",
            "ColortypesDone4/непонятно/00007313.jpg\n",
            "ColortypesDone4/непонятно/00009104.jpg\n",
            "ColortypesDone4/непонятно/00005064.jpg\n",
            "ColortypesDone4/непонятно/00009716.jpg\n",
            "ColortypesDone4/непонятно/00005662.jpg\n",
            "ColortypesDone4/непонятно/00009514.jpg\n",
            "ColortypesDone4/непонятно/00000256.jpg\n",
            "ColortypesDone4/непонятно/00009272.jpg\n",
            "ColortypesDone4/непонятно/00005312.jpg\n",
            "ColortypesDone4/непонятно/00008150.jpg\n",
            "ColortypesDone4/непонятно/00010938.jpg\n",
            "ColortypesDone4/непонятно/00009501.jpg\n",
            "ColortypesDone4/непонятно/00009924.jpg\n",
            "ColortypesDone4/непонятно/00001377.jpg\n",
            "ColortypesDone4/непонятно/00005918.jpg\n",
            "ColortypesDone4/непонятно/00010497.jpg\n",
            "ColortypesDone4/непонятно/00003372.jpg\n",
            "ColortypesDone4/непонятно/00004409.jpg\n",
            "ColortypesDone4/непонятно/00002078.jpg\n",
            "ColortypesDone4/непонятно/00009677.jpg\n",
            "ColortypesDone4/непонятно/00007882.jpg\n",
            "ColortypesDone4/непонятно/00006222.jpg\n",
            "ColortypesDone4/непонятно/00003819.jpg\n",
            "ColortypesDone4/непонятно/00002898.jpg\n",
            "ColortypesDone4/непонятно/00007062.jpg\n",
            "ColortypesDone4/непонятно/00010293.jpg\n",
            "ColortypesDone4/непонятно/00010133.jpg\n",
            "ColortypesDone4/непонятно/00009820.jpg\n",
            "ColortypesDone4/непонятно/00008486.jpg\n",
            "ColortypesDone4/непонятно/00004041.jpg\n",
            "ColortypesDone4/непонятно/00005439.jpg\n",
            "ColortypesDone4/непонятно/00005438.jpg\n",
            "ColortypesDone4/непонятно/00008108.jpg\n",
            "ColortypesDone4/непонятно/00004732.jpg\n",
            "ColortypesDone4/непонятно/00001110.jpg\n",
            "ColortypesDone4/непонятно/00009835.jpg\n",
            "ColortypesDone4/непонятно/00006509.jpg\n",
            "ColortypesDone4/непонятно/00004478.jpg\n",
            "ColortypesDone4/непонятно/00010196.jpg\n",
            "ColortypesDone4/непонятно/00007615.jpg\n",
            "ColortypesDone4/непонятно/00005994.jpg\n",
            "ColortypesDone4/непонятно/00007629.jpg\n",
            "ColortypesDone4/непонятно/00006480.jpg\n",
            "ColortypesDone4/непонятно/00008889.jpg\n",
            "ColortypesDone4/непонятно/00003076.jpg\n",
            "ColortypesDone4/непонятно/00008269.jpg\n",
            "ColortypesDone4/непонятно/00005995.jpg\n",
            "ColortypesDone4/непонятно/00004655.jpg\n",
            "ColortypesDone4/непонятно/00005007.jpg\n",
            "ColortypesDone4/непонятно/00002967.jpg\n",
            "ColortypesDone4/непонятно/00008494.jpg\n",
            "ColortypesDone4/непонятно/00006693.jpg\n",
            "ColortypesDone4/непонятно/00010967.jpg\n",
            "ColortypesDone4/непонятно/00007598.jpg\n",
            "ColortypesDone4/непонятно/00008654.jpg\n",
            "ColortypesDone4/непонятно/00005364.jpg\n",
            "ColortypesDone4/непонятно/00009827.jpg\n",
            "ColortypesDone4/непонятно/00008287.jpg\n",
            "ColortypesDone4/непонятно/00008708.jpg\n",
            "ColortypesDone4/непонятно/00003885.jpg\n",
            "ColortypesDone4/непонятно/00001712.jpg\n",
            "ColortypesDone4/непонятно/00001289.jpg\n",
            "ColortypesDone4/непонятно/00009825.jpg\n",
            "ColortypesDone4/непонятно/00002151.jpg\n",
            "ColortypesDone4/непонятно/00005602.jpg\n",
            "ColortypesDone4/непонятно/00004050.jpg\n",
            "ColortypesDone4/непонятно/00010031.jpg\n",
            "ColortypesDone4/непонятно/00008871.jpg\n",
            "ColortypesDone4/непонятно/00008859.jpg\n",
            "ColortypesDone4/непонятно/00002385.jpg\n",
            "ColortypesDone4/непонятно/00002178.jpg\n",
            "ColortypesDone4/непонятно/00000021.jpg\n",
            "ColortypesDone4/непонятно/00003312.jpg\n",
            "ColortypesDone4/непонятно/00007376.jpg\n",
            "ColortypesDone4/афроамериканский цветотип/00003109.jpg\n",
            "ColortypesDone4/афроамериканский цветотип/00009593.jpg\n",
            "ColortypesDone4/афроамериканский цветотип/00002389.jpg\n",
            "ColortypesDone4/афроамериканский цветотип/00006716.jpg\n",
            "ColortypesDone4/афроамериканский цветотип/00008061.jpg\n",
            "ColortypesDone4/афроамериканский цветотип/00005545.jpg\n",
            "ColortypesDone4/афроамериканский цветотип/00004103.jpg\n",
            "ColortypesDone4/афроамериканский цветотип/00007152.jpg\n",
            "ColortypesDone4/афроамериканский цветотип/00006661.jpg\n",
            "ColortypesDone4/афроамериканский цветотип/00009546.jpg\n",
            "ColortypesDone4/афроамериканский цветотип/00001137.jpg\n",
            "ColortypesDone4/афроамериканский цветотип/00007552.jpg\n",
            "ColortypesDone4/афроамериканский цветотип/00007009.jpg\n",
            "ColortypesDone4/афроамериканский цветотип/00000821.jpg\n",
            "ColortypesDone4/афроамериканский цветотип/00003455.jpg\n",
            "ColortypesDone4/афроамериканский цветотип/00001518.jpg\n",
            "ColortypesDone4/афроамериканский цветотип/00008771.jpg\n",
            "ColortypesDone4/афроамериканский цветотип/00003977.jpg\n",
            "ColortypesDone4/афроамериканский цветотип/00003962.jpg\n",
            "ColortypesDone4/афроамериканский цветотип/00003745.jpg\n",
            "ColortypesDone4/афроамериканский цветотип/00008348.jpg\n",
            "ColortypesDone4/афроамериканский цветотип/00006403.jpg\n",
            "ColortypesDone4/афроамериканский цветотип/00005650.jpg\n",
            "ColortypesDone4/афроамериканский цветотип/00007482.jpg\n",
            "ColortypesDone4/афроамериканский цветотип/00009108.jpg\n",
            "ColortypesDone4/афроамериканский цветотип/00008808.jpg\n",
            "ColortypesDone4/афроамериканский цветотип/00009243.jpg\n",
            "ColortypesDone4/афроамериканский цветотип/00002712.jpg\n",
            "ColortypesDone4/афроамериканский цветотип/00010114.jpg\n",
            "ColortypesDone4/афроамериканский цветотип/00002272.jpg\n",
            "ColortypesDone4/афроамериканский цветотип/00006362.jpg\n",
            "ColortypesDone4/афроамериканский цветотип/00008401.jpg\n",
            "ColortypesDone4/афроамериканский цветотип/00006439.jpg\n",
            "ColortypesDone4/афроамериканский цветотип/00001746.jpg\n",
            "ColortypesDone4/афроамериканский цветотип/00003351.jpg\n",
            "ColortypesDone4/афроамериканский цветотип/00003345.jpg\n",
            "ColortypesDone4/афроамериканский цветотип/00004562.jpg\n",
            "ColortypesDone4/афроамериканский цветотип/00009537.jpg\n",
            "ColortypesDone4/афроамериканский цветотип/00005641.jpg\n",
            "ColortypesDone4/афроамериканский цветотип/00010648.jpg\n",
            "ColortypesDone4/афроамериканский цветотип/00006999.jpg\n",
            "ColortypesDone4/афроамериканский цветотип/00003375.jpg\n",
            "ColortypesDone4/афроамериканский цветотип/00008208.jpg\n",
            "ColortypesDone4/афроамериканский цветотип/00002080.jpg\n",
            "ColortypesDone4/афроамериканский цветотип/00004988.jpg\n",
            "ColortypesDone4/афроамериканский цветотип/00006436.jpg\n",
            "ColortypesDone4/афроамериканский цветотип/00005507.jpg\n",
            "ColortypesDone4/афроамериканский цветотип/00009699.jpg\n",
            "ColortypesDone4/афроамериканский цветотип/00005070.jpg\n",
            "ColortypesDone4/афроамериканский цветотип/00005892.jpg\n",
            "ColortypesDone4/афроамериканский цветотип/00002454.jpg\n",
            "ColortypesDone4/афроамериканский цветотип/00009703.jpg\n",
            "ColortypesDone4/афроамериканский цветотип/00006746.jpg\n",
            "ColortypesDone4/афроамериканский цветотип/00010654.jpg\n",
            "ColortypesDone4/афроамериканский цветотип/00009488.jpg\n",
            "ColortypesDone4/афроамериканский цветотип/00004392.jpg\n",
            "ColortypesDone4/афроамериканский цветотип/00008152.jpg\n",
            "ColortypesDone4/афроамериканский цветотип/00003239.jpg\n",
            "ColortypesDone4/афроамериканский цветотип/00008581.jpg\n",
            "ColortypesDone4/афроамериканский цветотип/00006989.jpg\n",
            "ColortypesDone4/афроамериканский цветотип/00004690.jpg\n",
            "ColortypesDone4/афроамериканский цветотип/00005015.jpg\n",
            "ColortypesDone4/афроамериканский цветотип/00010593.jpg\n",
            "ColortypesDone4/афроамериканский цветотип/00004097.jpg\n",
            "ColortypesDone4/афроамериканский цветотип/00000839.jpg\n",
            "ColortypesDone4/афроамериканский цветотип/00002976.jpg\n",
            "ColortypesDone4/афроамериканский цветотип/00002816.jpg\n",
            "ColortypesDone4/афроамериканский цветотип/00004057.jpg\n",
            "ColortypesDone4/афроамериканский цветотип/00008651.jpg\n",
            "ColortypesDone4/афроамериканский цветотип/00007576.jpg\n",
            "ColortypesDone4/афроамериканский цветотип/00002740.jpg\n",
            "ColortypesDone4/афроамериканский цветотип/00008133.jpg\n",
            "ColortypesDone4/афроамериканский цветотип/00007566.jpg\n",
            "ColortypesDone4/афроамериканский цветотип/00006309.jpg\n",
            "ColortypesDone4/афроамериканский цветотип/00006335.jpg\n",
            "ColortypesDone4/афроамериканский цветотип/00004683.jpg\n",
            "ColortypesDone4/афроамериканский цветотип/00009364.jpg\n",
            "ColortypesDone4/афроамериканский цветотип/00005616.jpg\n",
            "ColortypesDone4/афроамериканский цветотип/00007570.jpg\n",
            "ColortypesDone4/афроамериканский цветотип/00007014.jpg\n",
            "ColortypesDone4/весна/00009418.jpg\n",
            "ColortypesDone4/весна/00006110.jpg\n",
            "ColortypesDone4/весна/00004471.jpg\n",
            "ColortypesDone4/весна/00000359.jpg\n",
            "ColortypesDone4/весна/00008513.jpg\n",
            "ColortypesDone4/весна/00001127.jpg\n",
            "ColortypesDone4/весна/00002374.jpg\n",
            "ColortypesDone4/весна/00008664.jpg\n",
            "ColortypesDone4/весна/00004260.jpg\n",
            "ColortypesDone4/весна/00008300.jpg\n",
            "ColortypesDone4/весна/00010375.jpg\n",
            "ColortypesDone4/весна/00009032.jpg\n",
            "ColortypesDone4/весна/00008503.jpg\n",
            "ColortypesDone4/весна/00010372.jpg\n",
            "ColortypesDone4/весна/00002992.jpg\n",
            "ColortypesDone4/весна/00008851.jpg\n",
            "ColortypesDone4/весна/00009030.jpg\n",
            "ColortypesDone4/весна/00002987.jpg\n",
            "ColortypesDone4/весна/00005916.jpg\n",
            "ColortypesDone4/весна/00008822.jpg\n",
            "ColortypesDone4/весна/00009724.jpg\n",
            "ColortypesDone4/весна/00008599.jpg\n",
            "ColortypesDone4/весна/00005040.jpg\n",
            "ColortypesDone4/весна/00008363.jpg\n",
            "ColortypesDone4/весна/00000307.jpg\n",
            "ColortypesDone4/весна/00005521.jpg\n",
            "ColortypesDone4/весна/00002886.jpg\n",
            "ColortypesDone4/весна/00003970.jpg\n",
            "ColortypesDone4/весна/00005911.jpg\n",
            "ColortypesDone4/весна/00000880.jpg\n",
            "ColortypesDone4/весна/00004953.jpg\n",
            "ColortypesDone4/весна/00009494.jpg\n",
            "ColortypesDone4/весна/00001953.jpg\n",
            "ColortypesDone4/весна/00008989.jpg\n",
            "ColortypesDone4/весна/00000319.jpg\n",
            "ColortypesDone4/весна/00005505.jpg\n",
            "ColortypesDone4/весна/00001165.jpg\n",
            "ColortypesDone4/весна/00003799.jpg\n",
            "ColortypesDone4/весна/00008593.jpg\n",
            "ColortypesDone4/весна/00010874.jpg\n",
            "ColortypesDone4/весна/00005510.jpg\n",
            "ColortypesDone4/весна/00007868.jpg\n",
            "ColortypesDone4/весна/00005298.jpg\n",
            "ColortypesDone4/весна/00009313.jpg\n",
            "ColortypesDone4/весна/00009715.jpg\n",
            "ColortypesDone4/весна/00000540.jpg\n",
            "ColortypesDone4/весна/00002223.jpg\n",
            "ColortypesDone4/весна/00007946.jpg\n",
            "ColortypesDone4/весна/00000556.jpg\n",
            "ColortypesDone4/весна/00004255.jpg\n",
            "ColortypesDone4/весна/00001329.jpg\n",
            "ColortypesDone4/весна/00010595.jpg\n",
            "ColortypesDone4/весна/00001248.jpg\n",
            "ColortypesDone4/весна/00006848.jpg\n",
            "ColortypesDone4/весна/00000948.jpg\n",
            "ColortypesDone4/весна/00006530.jpg\n",
            "ColortypesDone4/зима/00002265.jpg\n",
            "ColortypesDone4/зима/00000658.jpg\n",
            "ColortypesDone4/зима/00007645.jpg\n",
            "ColortypesDone4/зима/00008589.jpg\n",
            "ColortypesDone4/зима/00005085.jpg\n",
            "ColortypesDone4/зима/00005132.jpg\n",
            "ColortypesDone4/зима/00004006.jpg\n",
            "ColortypesDone4/зима/00009522.jpg\n",
            "ColortypesDone4/зима/00008166.jpg\n",
            "ColortypesDone4/зима/00009278.jpg\n",
            "ColortypesDone4/зима/00008601.jpg\n",
            "ColortypesDone4/зима/00001625.jpg\n",
            "ColortypesDone4/зима/00007526.jpg\n",
            "ColortypesDone4/зима/00003740.jpg\n",
            "ColortypesDone4/зима/00006610.jpg\n",
            "ColortypesDone4/зима/00010066.jpg\n",
            "ColortypesDone4/зима/00001433.jpg\n",
            "ColortypesDone4/зима/00009735.jpg\n",
            "ColortypesDone4/зима/00006572.jpg\n",
            "ColortypesDone4/зима/00004365.jpg\n",
            "ColortypesDone4/зима/00003191.jpg\n",
            "ColortypesDone4/зима/00003807.jpg\n",
            "ColortypesDone4/зима/00005537.jpg\n",
            "ColortypesDone4/зима/00003163.jpg\n",
            "ColortypesDone4/зима/00010889.jpg\n",
            "ColortypesDone4/зима/00000456.jpg\n",
            "ColortypesDone4/зима/00004195.jpg\n",
            "ColortypesDone4/зима/00003413.jpg\n",
            "ColortypesDone4/зима/00008552.jpg\n",
            "ColortypesDone4/зима/00002719.jpg\n",
            "ColortypesDone4/зима/00005738.jpg\n",
            "ColortypesDone4/зима/00010453.jpg\n",
            "ColortypesDone4/зима/00002094.jpg\n",
            "ColortypesDone4/зима/00007852.jpg\n",
            "ColortypesDone4/зима/00005894.jpg\n",
            "ColortypesDone4/зима/00010296.jpg\n",
            "ColortypesDone4/зима/00005466.jpg\n",
            "ColortypesDone4/зима/00005328.jpg\n",
            "ColortypesDone4/зима/00003942.jpg\n",
            "ColortypesDone4/зима/00008180.jpg\n",
            "ColortypesDone4/зима/00010056.jpg\n",
            "ColortypesDone4/зима/00009513.jpg\n",
            "ColortypesDone4/зима/00004751.jpg\n",
            "ColortypesDone4/зима/00007927.jpg\n",
            "ColortypesDone4/зима/00010526.jpg\n",
            "ColortypesDone4/зима/00002724.jpg\n",
            "ColortypesDone4/зима/00004355.jpg\n",
            "ColortypesDone4/зима/00006556.jpg\n",
            "ColortypesDone4/зима/00004369.jpg\n",
            "ColortypesDone4/зима/00001985.jpg\n",
            "ColortypesDone4/зима/00005513.jpg\n",
            "ColortypesDone4/зима/00003604.jpg\n",
            "ColortypesDone4/зима/00007476.jpg\n",
            "ColortypesDone4/зима/00003362.jpg\n",
            "ColortypesDone4/зима/00010478.jpg\n",
            "ColortypesDone4/зима/00005061.jpg\n",
            "ColortypesDone4/зима/00007138.jpg\n",
            "ColortypesDone4/зима/00009049.jpg\n",
            "ColortypesDone4/зима/00011148.jpg\n",
            "ColortypesDone4/зима/00005129.jpg\n",
            "ColortypesDone4/зима/00006346.jpg\n",
            "ColortypesDone4/зима/00000904.jpg\n",
            "ColortypesDone4/зима/00002875.jpg\n",
            "ColortypesDone4/зима/00005868.jpg\n",
            "ColortypesDone4/зима/00006391.jpg\n",
            "ColortypesDone4/зима/00001398.jpg\n",
            "ColortypesDone4/зима/00002478.jpg\n",
            "ColortypesDone4/зима/00003940.jpg\n",
            "ColortypesDone4/зима/00006838.jpg\n",
            "ColortypesDone4/зима/00004752.jpg\n",
            "ColortypesDone4/зима/00004034.jpg\n",
            "ColortypesDone4/зима/00009909.jpg\n",
            "ColortypesDone4/зима/00002690.jpg\n",
            "ColortypesDone4/зима/00006421.jpg\n",
            "ColortypesDone4/зима/00007850.jpg\n",
            "ColortypesDone4/зима/00002096.jpg\n",
            "ColortypesDone4/зима/00009100.jpg\n",
            "ColortypesDone4/зима/00004430.jpg\n",
            "ColortypesDone4/зима/00000130.jpg\n",
            "ColortypesDone4/зима/00002069.jpg\n",
            "ColortypesDone4/зима/00007111.jpg\n",
            "ColortypesDone4/зима/00011001.jpg\n",
            "ColortypesDone4/зима/00009306.jpg\n",
            "ColortypesDone4/зима/00010657.jpg\n",
            "ColortypesDone4/зима/00009110.jpg\n",
            "ColortypesDone4/зима/00007897.jpg\n",
            "ColortypesDone4/зима/00004346.jpg\n",
            "ColortypesDone4/зима/00006343.jpg\n",
            "ColortypesDone4/зима/00003575.jpg\n",
            "ColortypesDone4/зима/00009925.jpg\n",
            "ColortypesDone4/зима/00005460.jpg\n",
            "ColortypesDone4/зима/00006182.jpg\n",
            "ColortypesDone4/зима/00008839.jpg\n",
            "ColortypesDone4/зима/00007289.jpg\n",
            "ColortypesDone4/зима/00004031.jpg\n",
            "ColortypesDone4/зима/00009267.jpg\n",
            "ColortypesDone4/зима/00010736.jpg\n",
            "ColortypesDone4/зима/00008390.jpg\n",
            "ColortypesDone4/зима/00007712.jpg\n",
            "ColortypesDone4/зима/00010520.jpg\n",
            "ColortypesDone4/зима/00003548.jpg\n",
            "ColortypesDone4/зима/00002911.jpg\n",
            "ColortypesDone4/зима/00003399.jpg\n",
            "ColortypesDone4/зима/00009105.jpg\n",
            "ColortypesDone4/зима/00003428.jpg\n",
            "ColortypesDone4/зима/00000653.jpg\n",
            "ColortypesDone4/зима/00003170.jpg\n",
            "ColortypesDone4/зима/00007466.jpg\n",
            "ColortypesDone4/зима/00001017.jpg\n",
            "ColortypesDone4/зима/00003416.jpg\n",
            "ColortypesDone4/зима/00007116.jpg\n",
            "ColortypesDone4/зима/00006208.jpg\n",
            "ColortypesDone4/зима/00011006.jpg\n",
            "ColortypesDone4/зима/00009891.jpg\n",
            "ColortypesDone4/зима/00005932.jpg\n",
            "ColortypesDone4/зима/00000692.jpg\n",
            "ColortypesDone4/зима/00006585.jpg\n",
            "ColortypesDone4/зима/00002654.jpg\n",
            "ColortypesDone4/зима/00008437.jpg\n",
            "ColortypesDone4/зима/00009729.jpg\n",
            "ColortypesDone4/зима/00006368.jpg\n",
            "ColortypesDone4/зима/00008423.jpg\n",
            "ColortypesDone4/зима/00005852.jpg\n",
            "ColortypesDone4/зима/00004755.jpg\n",
            "ColortypesDone4/зима/00002442.jpg\n",
            "ColortypesDone4/зима/00000255.jpg\n",
            "ColortypesDone4/зима/00005339.jpg\n",
            "ColortypesDone4/зима/00004796.jpg\n",
            "ColortypesDone4/зима/00003946.jpg\n",
            "ColortypesDone4/зима/00007261.jpg\n",
            "ColortypesDone4/зима/00002331.jpg\n",
            "ColortypesDone4/зима/00005660.jpg\n",
            "ColortypesDone4/зима/00004556.jpg\n",
            "ColortypesDone4/зима/00009853.jpg\n",
            "ColortypesDone4/зима/00000687.jpg\n",
            "ColortypesDone4/зима/00009489.jpg\n",
            "ColortypesDone4/зима/00001994.jpg\n",
            "ColortypesDone4/зима/00003672.jpg\n",
            "ColortypesDone4/зима/00007414.jpg\n",
            "ColortypesDone4/зима/00005571.jpg\n",
            "ColortypesDone4/зима/00000421.jpg\n",
            "ColortypesDone4/зима/00008928.jpg\n",
            "ColortypesDone4/зима/00010801.jpg\n",
            "ColortypesDone4/зима/00011074.jpg\n",
            "ColortypesDone4/зима/00008243.jpg\n",
            "ColortypesDone4/зима/00003302.jpg\n",
            "ColortypesDone4/зима/00004337.jpg\n",
            "ColortypesDone4/зима/00005029.jpg\n",
            "ColortypesDone4/зима/00002961.jpg\n",
            "ColortypesDone4/зима/00003262.jpg\n",
            "ColortypesDone4/зима/00001475.jpg\n",
            "ColortypesDone4/зима/00004519.jpg\n",
            "ColortypesDone4/зима/00002626.jpg\n",
            "ColortypesDone4/зима/00005808.jpg\n",
            "ColortypesDone4/зима/00005820.jpg\n",
            "ColortypesDone4/зима/00000227.jpg\n",
            "ColortypesDone4/зима/00010791.jpg\n",
            "ColortypesDone4/зима/00003934.jpg\n",
            "ColortypesDone4/зима/00006864.jpg\n",
            "ColortypesDone4/зима/00009564.jpg\n",
            "ColortypesDone4/зима/00002431.jpg\n",
            "ColortypesDone4/зима/00006119.jpg\n",
            "ColortypesDone4/зима/00007561.jpg\n",
            "ColortypesDone4/зима/00006333.jpg\n",
            "ColortypesDone4/зима/00010394.jpg\n",
            "ColortypesDone4/зима/00007818.jpg\n",
            "ColortypesDone4/зима/00000805.jpg\n",
            "ColortypesDone4/зима/00003459.jpg\n",
            "ColortypesDone4/зима/00000178.jpg\n",
            "ColortypesDone4/зима/00006938.jpg\n",
            "ColortypesDone4/зима/00006079.jpg\n",
            "ColortypesDone4/зима/00007359.jpg\n",
            "ColortypesDone4/зима/00005228.jpg\n",
            "ColortypesDone4/зима/00006053.jpg\n",
            "ColortypesDone4/зима/00008532.jpg\n",
            "ColortypesDone4/зима/00001264.jpg\n",
            "ColortypesDone4/зима/00008268.jpg\n",
            "ColortypesDone4/зима/00002989.jpg\n",
            "ColortypesDone4/зима/00011088.jpg\n",
            "ColortypesDone4/зима/00009758.jpg\n",
            "ColortypesDone4/зима/00005176.jpg\n",
            "ColortypesDone4/зима/00009016.jpg\n",
            "ColortypesDone4/зима/00009957.jpg\n",
            "ColortypesDone4/зима/00010584.jpg\n",
            "ColortypesDone4/зима/00001106.jpg\n",
            "ColortypesDone4/зима/00007205.jpg\n",
            "ColortypesDone4/зима/00008678.jpg\n",
            "ColortypesDone4/зима/00010745.jpg\n",
            "ColortypesDone4/зима/00004917.jpg\n",
            "ColortypesDone4/зима/00008876.jpg\n",
            "ColortypesDone4/зима/00010793.jpg\n",
            "ColortypesDone4/зима/00002397.jpg\n",
            "ColortypesDone4/зима/00004916.jpg\n",
            "ColortypesDone4/зима/00001885.jpg\n",
            "ColortypesDone4/зима/00008123.jpg\n",
            "ColortypesDone4/зима/00010585.jpg\n",
            "ColortypesDone4/зима/00002624.jpg\n",
            "ColortypesDone4/зима/00001477.jpg\n",
            "ColortypesDone4/зима/00002618.jpg\n",
            "ColortypesDone4/зима/00009177.jpg\n",
            "ColortypesDone4/зима/00004453.jpg\n",
            "ColortypesDone4/зима/00004686.jpg\n",
            "ColortypesDone4/зима/00010181.jpg\n",
            "ColortypesDone4/зима/00006913.jpg\n",
            "ColortypesDone4/зима/00007358.jpg\n",
            "ColortypesDone4/зима/00009375.jpg\n",
            "ColortypesDone4/зима/00008057.jpg\n",
            "ColortypesDone4/зима/00000341.jpg\n",
            "ColortypesDone4/зима/00005577.jpg\n",
            "ColortypesDone4/зима/00010185.jpg\n",
            "ColortypesDone4/зима/00006240.jpg\n",
            "ColortypesDone4/зима/00004319.jpg\n",
            "ColortypesDone4/зима/00007994.jpg\n",
            "ColortypesDone4/зима/00007764.jpg\n",
            "ColortypesDone4/зима/00003728.jpg\n",
            "ColortypesDone4/зима/00008669.jpg\n",
            "ColortypesDone4/зима/00007200.jpg\n",
            "ColortypesDone4/зима/00010973.jpg\n",
            "ColortypesDone4/зима/00010966.jpg\n",
            "ColortypesDone4/зима/00003932.jpg\n",
            "ColortypesDone4/зима/00005370.jpg\n",
            "ColortypesDone4/зима/00006645.jpg\n",
            "ColortypesDone4/зима/00008495.jpg\n",
            "ColortypesDone4/зима/00010580.jpg\n",
            "ColortypesDone4/зима/00007759.jpg\n",
            "ColortypesDone4/зима/00010557.jpg\n",
            "ColortypesDone4/зима/00007822.jpg\n",
            "ColortypesDone4/зима/00006094.jpg\n",
            "ColortypesDone4/зима/00007349.jpg\n",
            "ColortypesDone4/зима/00001048.jpg\n",
            "ColortypesDone4/зима/00005206.jpg\n",
            "ColortypesDone4/зима/00009428.jpg\n",
            "ColortypesDone4/зима/00003688.jpg\n",
            "ColortypesDone4/зима/00001921.jpg\n",
            "ColortypesDone4/зима/00010838.jpg\n",
            "ColortypesDone4/зима/00003844.jpg\n",
            "ColortypesDone4/зима/00008520.jpg\n",
            "ColortypesDone4/зима/00005010.jpg\n",
            "ColortypesDone4/зима/00002794.jpg\n",
            "ColortypesDone4/зима/00007940.jpg\n",
            "ColortypesDone4/зима/00003065.jpg\n",
            "ColortypesDone4/зима/00001855.jpg\n",
            "ColortypesDone4/зима/00010795.jpg\n",
            "ColortypesDone4/зима/00003931.jpg\n",
            "ColortypesDone4/зима/00001101.jpg\n",
            "ColortypesDone4/зима/00009549.jpg\n",
            "ColortypesDone4/зима/00000545.jpg\n",
            "ColortypesDone4/зима/00003299.jpg\n",
            "ColortypesDone4/зима/00002839.jpg\n",
            "ColortypesDone4/зима/00005165.jpg\n",
            "ColortypesDone4/зима/00003266.jpg\n",
            "ColortypesDone4/зима/00000035.jpg\n",
            "ColortypesDone4/зима/00007612.jpg\n",
            "ColortypesDone4/зима/00011070.jpg\n",
            "ColortypesDone4/зима/00009171.jpg\n",
            "ColortypesDone4/зима/00003110.jpg\n",
            "ColortypesDone4/зима/00005544.jpg\n",
            "ColortypesDone4/зима/00008706.jpg\n",
            "ColortypesDone4/зима/00009430.jpg\n",
            "ColortypesDone4/зима/00008935.jpg\n",
            "ColortypesDone4/зима/00008504.jpg\n",
            "ColortypesDone4/зима/00007623.jpg\n",
            "ColortypesDone4/зима/00008510.jpg\n",
            "ColortypesDone4/зима/00002773.jpg\n",
            "ColortypesDone4/зима/00005961.jpg\n",
            "ColortypesDone4/зима/00009008.jpg\n",
            "ColortypesDone4/зима/00003243.jpg\n",
            "ColortypesDone4/зима/00002149.jpg\n",
            "ColortypesDone4/зима/00003531.jpg\n",
            "ColortypesDone4/зима/00003519.jpg\n",
            "ColortypesDone4/зима/00006475.jpg\n",
            "ColortypesDone4/зима/00001483.jpg\n",
            "ColortypesDone4/зима/00005183.jpg\n",
            "ColortypesDone4/зима/00007541.jpg\n",
            "ColortypesDone4/зима/00010029.jpg\n",
            "ColortypesDone4/зима/00000212.jpg\n",
            "ColortypesDone4/зима/00002411.jpg\n",
            "ColortypesDone4/зима/00003914.jpg\n",
            "ColortypesDone4/зима/00008841.jpg\n",
            "ColortypesDone4/зима/00003929.jpg\n",
            "ColortypesDone4/зима/00003097.jpg\n",
            "ColortypesDone4/зима/00009545.jpg\n",
            "ColortypesDone4/зима/00008667.jpg\n",
            "ColortypesDone4/зима/00000944.jpg\n",
            "ColortypesDone4/зима/00007781.jpg\n",
            "ColortypesDone4/зима/00001496.jpg\n",
            "ColortypesDone4/зима/00005169.jpg\n",
            "ColortypesDone4/зима/00009753.jpg\n",
            "ColortypesDone4/зима/00003256.jpg\n",
            "ColortypesDone4/зима/00004539.jpg\n",
            "ColortypesDone4/зима/00002969.jpg\n",
            "ColortypesDone4/зима/00005790.jpg\n",
            "ColortypesDone4/зима/00009800.jpg\n",
            "ColortypesDone4/зима/00001509.jpg\n",
            "ColortypesDone4/зима/00010362.jpg\n",
            "ColortypesDone4/зима/00006500.jpg\n",
            "ColortypesDone4/зима/00002766.jpg\n",
            "ColortypesDone4/зима/00010606.jpg\n",
            "ColortypesDone4/зима/00001079.jpg\n",
            "ColortypesDone4/зима/00001737.jpg\n",
            "ColortypesDone4/зима/00006927.jpg\n",
            "ColortypesDone4/зима/00003446.jpg\n",
            "ColortypesDone4/зима/00007740.jpg\n",
            "ColortypesDone4/зима/00000946.jpg\n",
            "ColortypesDone4/зима/00006884.jpg\n",
            "ColortypesDone4/зима/00005355.jpg\n",
            "ColortypesDone4/зима/00002406.jpg\n",
            "ColortypesDone4/зима/00010002.jpg\n",
            "ColortypesDone4/зима/00003917.jpg\n",
            "ColortypesDone4/зима/00003080.jpg\n",
            "ColortypesDone4/зима/00002361.jpg\n",
            "ColortypesDone4/зима/00007219.jpg\n",
            "ColortypesDone4/зима/00008328.jpg\n",
            "ColortypesDone4/зима/00006311.jpg\n",
            "ColortypesDone4/зима/00009624.jpg\n",
            "ColortypesDone4/зима/00006265.jpg\n",
            "ColortypesDone4/зима/00004843.jpg\n",
            "ColortypesDone4/зима/00010836.jpg\n",
            "ColortypesDone4/зима/00005591.jpg\n",
            "ColortypesDone4/зима/00002567.jpg\n",
            "ColortypesDone4/зима/00000374.jpg\n",
            "ColortypesDone4/зима/00008933.jpg\n",
            "ColortypesDone4/зима/00005595.jpg\n",
            "ColortypesDone4/зима/00009146.jpg\n",
            "ColortypesDone4/зима/00005026.jpg\n",
            "ColortypesDone4/зима/00008264.jpg\n",
            "ColortypesDone4/зима/00009813.jpg\n",
            "ColortypesDone4/зима/00009998.jpg\n",
            "ColortypesDone4/зима/00004270.jpg\n",
            "ColortypesDone4/зима/00003286.jpg\n",
            "ColortypesDone4/зима/00002403.jpg\n",
            "ColortypesDone4/зима/00008648.jpg\n",
            "ColortypesDone4/зима/00008113.jpg\n",
            "ColortypesDone4/зима/00008675.jpg\n",
            "ColortypesDone4/зима/00003287.jpg\n",
            "ColortypesDone4/зима/00002199.jpg\n",
            "ColortypesDone4/зима/00000995.jpg\n",
            "ColortypesDone4/зима/00003250.jpg\n",
            "ColortypesDone4/зима/00005147.jpg\n",
            "ColortypesDone4/зима/00008463.jpg\n",
            "ColortypesDone4/зима/00005741.jpg\n",
            "ColortypesDone4/зима/00009621.jpg\n",
            "ColortypesDone4/зима/00001043.jpg\n",
            "ColortypesDone4/зима/00008701.jpg\n",
            "ColortypesDone4/зима/00001719.jpg\n",
            "ColortypesDone4/зима/00006710.jpg\n",
            "ColortypesDone4/зима/00004111.jpg\n",
            "ColortypesDone4/зима/00003130.jpg\n",
            "ColortypesDone4/зима/00010831.jpg\n",
            "ColortypesDone4/зима/00010825.jpg\n",
            "ColortypesDone4/зима/00007197.jpg\n",
            "ColortypesDone4/зима/00006302.jpg\n",
            "ColortypesDone4/зима/00009757.jpg\n",
            "ColortypesDone4/зима/00002158.jpg\n",
            "ColortypesDone4/зима/00008475.jpg\n",
            "ColortypesDone4/зима/00005804.jpg\n",
            "ColortypesDone4/зима/00007578.jpg\n",
            "ColortypesDone4/зима/00001121.jpg\n",
            "ColortypesDone4/зима/00003905.jpg\n",
            "ColortypesDone4/зима/00010979.jpg\n",
            "ColortypesDone4/зима/00003087.jpg\n",
            "ColortypesDone4/зима/00003092.jpg\n",
            "ColortypesDone4/зима/00008110.jpg\n",
            "ColortypesDone4/зима/00004064.jpg\n",
            "ColortypesDone4/зима/00005187.jpg\n",
            "ColortypesDone4/зима/00003253.jpg\n",
            "ColortypesDone4/зима/00004500.jpg\n",
            "ColortypesDone4/зима/00010575.jpg\n",
            "ColortypesDone4/зима/00011092.jpg\n",
            "ColortypesDone4/зима/00009187.jpg\n",
            "ColortypesDone4/зима/00008514.jpg\n",
            "ColortypesDone4/зима/00008272.jpg\n",
            "ColortypesDone4/зима/00006263.jpg\n",
            "ColortypesDone4/зима/00009144.jpg\n",
            "ColortypesDone4/зима/00006908.jpg\n",
            "ColortypesDone4/зима/00002549.jpg\n",
            "ColortypesDone4/зима/00008003.jpg\n",
            "ColortypesDone4/зима/00002248.jpg\n",
            "ColortypesDone4/зима/00006012.jpg\n",
            "ColortypesDone4/зима/00007481.jpg\n",
            "ColortypesDone4/зима/00006238.jpg\n",
            "ColortypesDone4/зима/00009651.jpg\n",
            "ColortypesDone4/зима/00010466.jpg\n",
            "ColortypesDone4/зима/00003383.jpg\n",
            "ColortypesDone4/зима/00002664.jpg\n",
            "ColortypesDone4/зима/00002670.jpg\n",
            "ColortypesDone4/зима/00000098.jpg\n",
            "ColortypesDone4/зима/00001609.jpg\n",
            "ColortypesDone4/зима/00003786.jpg\n",
            "ColortypesDone4/зима/00004957.jpg\n",
            "ColortypesDone4/зима/00003779.jpg\n",
            "ColortypesDone4/зима/00007523.jpg\n",
            "ColortypesDone4/зима/00003590.jpg\n",
            "ColortypesDone4/зима/00003369.jpg\n",
            "ColortypesDone4/зима/00003427.jpg\n",
            "ColortypesDone4/зима/00008200.jpg\n",
            "ColortypesDone4/зима/00007469.jpg\n",
            "ColortypesDone4/зима/00001018.jpg\n",
            "ColortypesDone4/зима/00004160.jpg\n",
            "ColortypesDone4/зима/00003182.jpg\n",
            "ColortypesDone4/зима/00003343.jpg\n",
            "ColortypesDone4/зима/00008564.jpg\n",
            "ColortypesDone4/зима/00004362.jpg\n",
            "ColortypesDone4/зима/00007870.jpg\n",
            "ColortypesDone4/зима/00005901.jpg\n",
            "ColortypesDone4/зима/00005120.jpg\n",
            "ColortypesDone4/зима/00003551.jpg\n",
            "ColortypesDone4/зима/00001434.jpg\n",
            "ColortypesDone4/зима/00000702.jpg\n",
            "ColortypesDone4/зима/00009097.jpg\n",
            "ColortypesDone4/зима/00007253.jpg\n",
            "ColortypesDone4/зима/00008160.jpg\n",
            "ColortypesDone4/зима/00004996.jpg\n",
            "ColortypesDone4/зима/00002471.jpg\n",
            "ColortypesDone4/зима/00009281.jpg\n",
            "ColortypesDone4/зима/00001838.jpg\n",
            "ColortypesDone4/зима/00002464.jpg\n",
            "ColortypesDone4/зима/00000273.jpg\n",
            "ColortypesDone4/зима/00001637.jpg\n",
            "ColortypesDone4/зима/00003593.jpg\n",
            "ColortypesDone4/зима/00006372.jpg\n",
            "ColortypesDone4/зима/00007695.jpg\n",
            "ColortypesDone4/зима/00010855.jpg\n",
            "ColortypesDone4/зима/00007332.jpg\n",
            "ColortypesDone4/зима/00004171.jpg\n",
            "ColortypesDone4/зима/00010892.jpg\n",
            "ColortypesDone4/зима/00010272.jpg\n",
            "ColortypesDone4/зима/00009904.jpg\n",
            "ColortypesDone4/зима/00002306.jpg\n",
            "ColortypesDone4/зима/00008830.jpg\n",
            "ColortypesDone4/зима/00001828.jpg\n",
            "ColortypesDone4/зима/00001626.jpg\n",
            "ColortypesDone4/зима/00005468.jpg\n",
            "ColortypesDone4/зима/00006613.jpg\n",
            "ColortypesDone4/зима/00002688.jpg\n",
            "ColortypesDone4/зима/00011151.jpg\n",
            "ColortypesDone4/зима/00010267.jpg\n",
            "ColortypesDone4/зима/00000060.jpg\n",
            "ColortypesDone4/зима/00007684.jpg\n",
            "ColortypesDone4/зима/00011031.jpg\n",
            "ColortypesDone4/зима/00010475.jpg\n",
            "ColortypesDone4/зима/00004372.jpg\n",
            "ColortypesDone4/зима/00008979.jpg\n",
            "ColortypesDone4/зима/00003186.jpg\n",
            "ColortypesDone4/зима/00002298.jpg\n",
            "ColortypesDone4/зима/00008951.jpg\n",
            "ColortypesDone4/зима/00005508.jpg\n",
            "ColortypesDone4/зима/00009454.jpg\n",
            "ColortypesDone1/winter/Screenshot - 16_01 002.jpg\n",
            "ColortypesDone1/winter/Screenshot - 16_01 005.jpg\n",
            "ColortypesDone1/winter/Screenshot - 16_01 004232.jpg\n",
            "ColortypesDone1/winter/00000157.jpg\n",
            "ColortypesDone1/winter/00000242.jpg\n",
            "ColortypesDone1/winter/00000342.jpg\n",
            "ColortypesDone1/winter/00000353.jpg\n",
            "ColortypesDone1/winter/00000365.jpg\n",
            "ColortypesDone1/winter/00000481.jpg\n",
            "ColortypesDone1/winter/00000510.jpg\n",
            "ColortypesDone1/winter/00000535.jpg\n",
            "ColortypesDone1/winter/00000644.jpg\n",
            "ColortypesDone1/winter/00000807.jpg\n",
            "ColortypesDone1/winter/00000978.jpg\n",
            "ColortypesDone1/winter/00001091.jpg\n",
            "ColortypesDone1/winter/00001133.jpg\n",
            "ColortypesDone1/winter/00001223.jpg\n",
            "ColortypesDone1/winter/00001356.jpg\n",
            "ColortypesDone1/winter/00001527.jpg\n",
            "ColortypesDone1/winter/00001705.jpg\n",
            "ColortypesDone1/winter/00001831.jpg\n",
            "ColortypesDone1/winter/00002206.jpg\n",
            "ColortypesDone1/winter/00002402.jpg\n",
            "ColortypesDone1/winter/00002606.jpg\n",
            "ColortypesDone1/winter/00002965.jpg\n",
            "ColortypesDone1/winter/00003022.jpg\n",
            "ColortypesDone1/winter/00003051.jpg\n",
            "ColortypesDone1/winter/00003141.jpg\n",
            "ColortypesDone1/winter/00003143.jpg\n",
            "ColortypesDone1/winter/00003598.jpg\n",
            "ColortypesDone1/winter/00003638.jpg\n",
            "ColortypesDone1/winter/00003684.jpg\n",
            "ColortypesDone1/winter/00003742.jpg\n",
            "ColortypesDone1/winter/00003802.jpg\n",
            "ColortypesDone1/winter/00003980.jpg\n",
            "ColortypesDone1/winter/00004444.jpg\n",
            "ColortypesDone1/winter/00004912.jpg\n",
            "ColortypesDone1/winter/00005458.jpg\n",
            "ColortypesDone1/winter/00005572.jpg\n",
            "ColortypesDone1/winter/00005732.jpg\n",
            "ColortypesDone1/winter/00005911.jpg\n",
            "ColortypesDone1/winter/th-2126298767-736x736.jpg\n",
            "ColortypesDone1/winter/th-2126300585-589x736.jpg\n",
            "ColortypesDone1/winter/th-2126347339-736x736.jpg\n",
            "ColortypesDone1/winter/th-2126350058-589x736.jpg\n",
            "ColortypesDone1/winter/th-2126362681-589x736.jpg\n",
            "ColortypesDone1/winter/th-2126405553-736x736.jpg\n",
            "ColortypesDone1/winter/th-2126419219-589x736.jpg\n",
            "ColortypesDone1/winter/th-2126441163-736x736.jpg\n",
            "ColortypesDone1/winter/th-2126442824-736x736.jpg\n",
            "ColortypesDone1/winter/th-2126533883-736x736.jpg\n",
            "ColortypesDone1/winter/00000385.jpg\n",
            "ColortypesDone1/winter/00001100.jpg\n",
            "ColortypesDone1/winter/00001454.jpg\n",
            "ColortypesDone1/winter/00001961.jpg\n",
            "ColortypesDone1/winter/00002154.jpg\n",
            "ColortypesDone1/winter/00002344.jpg\n",
            "ColortypesDone1/winter/00000041.jpg\n",
            "ColortypesDone1/winter/00000308.jpg\n",
            "ColortypesDone1/autumn/Screenshot - 16_01 004213.jpg\n",
            "ColortypesDone1/autumn/00000514.jpg\n",
            "ColortypesDone1/autumn/00001104.jpg\n",
            "ColortypesDone1/autumn/00001176.jpg\n",
            "ColortypesDone1/autumn/00001454.jpg\n",
            "ColortypesDone1/autumn/00001589.jpg\n",
            "ColortypesDone1/autumn/00001603.jpg\n",
            "ColortypesDone1/autumn/00001703.jpg\n",
            "ColortypesDone1/autumn/00001785.jpg\n",
            "ColortypesDone1/autumn/00001818.jpg\n",
            "ColortypesDone1/autumn/00001858.jpg\n",
            "ColortypesDone1/autumn/00001888.jpg\n",
            "ColortypesDone1/autumn/00002045.jpg\n",
            "ColortypesDone1/autumn/00002205.jpg\n",
            "ColortypesDone1/autumn/00002283.jpg\n",
            "ColortypesDone1/autumn/00002365.jpg\n",
            "ColortypesDone1/autumn/00002772.jpg\n",
            "ColortypesDone1/autumn/00003064.jpg\n",
            "ColortypesDone1/autumn/00003294.jpg\n",
            "ColortypesDone1/autumn/00003442.jpg\n",
            "ColortypesDone1/autumn/00003467.jpg\n",
            "ColortypesDone1/autumn/00003477.jpg\n",
            "ColortypesDone1/autumn/00003648.jpg\n",
            "ColortypesDone1/autumn/00003697.jpg\n",
            "ColortypesDone1/autumn/00003774.jpg\n",
            "ColortypesDone1/autumn/00004087.jpg\n",
            "ColortypesDone1/autumn/00004209.jpg\n",
            "ColortypesDone1/autumn/00004253.jpg\n",
            "ColortypesDone1/autumn/00004574.jpg\n",
            "ColortypesDone1/autumn/00004584.jpg\n",
            "ColortypesDone1/autumn/00004974.jpg\n",
            "ColortypesDone1/autumn/00005322.jpg\n",
            "ColortypesDone1/autumn/00005364.jpg\n",
            "ColortypesDone1/autumn/00005426.jpg\n",
            "ColortypesDone1/autumn/00005433.jpg\n",
            "ColortypesDone1/autumn/00005485.jpg\n",
            "ColortypesDone1/autumn/th-2126297959-736x736.jpg\n",
            "ColortypesDone1/autumn/th-2126338285-589x736.jpg\n",
            "ColortypesDone1/autumn/th-2126360070-589x736.jpg\n",
            "ColortypesDone1/autumn/th-2126383189-589x736.jpg\n",
            "ColortypesDone1/autumn/th-2126390959-739x736.jpg\n",
            "ColortypesDone1/autumn/th-2126391559-589x736.jpg\n",
            "ColortypesDone1/autumn/th-2126401453-842x736.jpg\n",
            "ColortypesDone1/autumn/th-2126415621-736x736.jpg\n",
            "ColortypesDone1/autumn/th-2126421305-589x736.jpg\n",
            "ColortypesDone1/autumn/th-2126435215-589x736.jpg\n",
            "ColortypesDone1/autumn/th-2126449500-698x736.jpg\n",
            "ColortypesDone1/autumn/th-2126456670-736x736.jpg\n",
            "ColortypesDone1/autumn/th-2126538208-736x736.jpg\n",
            "ColortypesDone1/autumn/th-2126545656-640x640.jpg\n",
            "ColortypesDone1/autumn/00000552.jpg\n",
            "ColortypesDone1/autumn/00000596.jpg\n",
            "ColortypesDone1/autumn/00000835.jpg\n",
            "ColortypesDone1/autumn/00000849.jpg\n",
            "ColortypesDone1/autumn/00001069.jpg\n",
            "ColortypesDone1/autumn/00001242.jpg\n",
            "ColortypesDone1/autumn/00001919.jpg\n",
            "ColortypesDone1/autumn/00000179.jpg\n",
            "ColortypesDone1/mixed/00000008.jpg\n",
            "ColortypesDone1/mixed/00000024.jpg\n",
            "ColortypesDone1/mixed/00000059.jpg\n",
            "ColortypesDone1/mixed/00000072.jpg\n",
            "ColortypesDone1/mixed/00000190.jpg\n",
            "ColortypesDone1/mixed/00000381.jpg\n",
            "ColortypesDone1/mixed/00000677.jpg\n",
            "ColortypesDone1/mixed/00000878.jpg\n",
            "ColortypesDone1/mixed/00000911.jpg\n",
            "ColortypesDone1/mixed/00000954.jpg\n",
            "ColortypesDone1/mixed/00000980.jpg\n",
            "ColortypesDone1/mixed/00002635.jpg\n",
            "ColortypesDone1/mixed/00003133.jpg\n",
            "ColortypesDone1/mixed/00003242.jpg\n",
            "ColortypesDone1/mixed/00003480.jpg\n",
            "ColortypesDone1/mixed/00003809.jpg\n",
            "ColortypesDone1/mixed/00003938.jpg\n",
            "ColortypesDone1/mixed/00004567.jpg\n",
            "ColortypesDone1/mixed/00005073.jpg\n",
            "ColortypesDone1/mixed/00005190.jpg\n",
            "ColortypesDone1/mixed/00005580.jpg\n",
            "ColortypesDone1/mixed/00005891.jpg\n",
            "ColortypesDone1/mixed/th-2126340917-589x736.jpg\n",
            "ColortypesDone1/mixed/th-2126352496-588x736.jpg\n",
            "ColortypesDone1/mixed/th-2126359371-736x736.jpg\n",
            "ColortypesDone1/mixed/th-2126414028-736x736.jpg\n",
            "ColortypesDone1/mixed/th-2126439356-736x736.jpg\n",
            "ColortypesDone1/mixed/th-2126474639-736x736.jpg\n",
            "ColortypesDone1/mixed/th-2126496596-589x736.jpg\n",
            "ColortypesDone1/mixed/00000571.jpg\n",
            "ColortypesDone1/mixed/00000895.jpg\n",
            "ColortypesDone1/mixed/00001798.jpg\n",
            "ColortypesDone1/mixed/00001921.jpg\n",
            "ColortypesDone1/mixed/00002002.jpg\n",
            "ColortypesDone1/mixed/00002244.jpg\n",
            "ColortypesDone1/mixed/00002243.jpg\n",
            "ColortypesDone1/mixed/00002251.jpg\n",
            "ColortypesDone1/mixed/00000118.jpg\n",
            "ColortypesDone1/spring/Screenshot - 16_01.jpg\n",
            "ColortypesDone1/spring/Screenshot - 16_01 003.jpg\n",
            "ColortypesDone1/spring/Screenshot - 16_01 00723.jpg\n",
            "ColortypesDone1/spring/Screenshot - 16_01 004.jpg\n",
            "ColortypesDone1/spring/00000742.jpg\n",
            "ColortypesDone1/spring/00001929.jpg\n",
            "ColortypesDone1/spring/00004022.jpg\n",
            "ColortypesDone1/spring/00004132.jpg\n",
            "ColortypesDone1/spring/00004292.jpg\n",
            "ColortypesDone1/spring/00005069.jpg\n",
            "ColortypesDone1/spring/00005268.jpg\n",
            "ColortypesDone1/spring/th-2126360797-589x736.jpg\n",
            "ColortypesDone1/spring/th-2126428452-736x736.jpg\n",
            "ColortypesDone1/spring/th-2126444739-589x736.jpg\n",
            "ColortypesDone1/spring/th-2126462441-736x736.jpg\n",
            "ColortypesDone1/spring/th-2126516650-589x736.jpg\n",
            "ColortypesDone1/spring/00002108.jpg\n",
            "ColortypesDone1/spring/00000181.jpg\n",
            "ColortypesDone1/summer/00000565.jpg\n",
            "ColortypesDone1/summer/00000610.jpg\n",
            "ColortypesDone1/summer/00000974.jpg\n",
            "ColortypesDone1/summer/00000999.jpg\n",
            "ColortypesDone1/summer/00001428.jpg\n",
            "ColortypesDone1/summer/00001476.jpg\n",
            "ColortypesDone1/summer/00001480.jpg\n",
            "ColortypesDone1/summer/00001556.jpg\n",
            "ColortypesDone1/summer/00001566.jpg\n",
            "ColortypesDone1/summer/00001865.jpg\n",
            "ColortypesDone1/summer/00001902.jpg\n",
            "ColortypesDone1/summer/00001909.jpg\n",
            "ColortypesDone1/summer/00001916.jpg\n",
            "ColortypesDone1/summer/00002013.jpg\n",
            "ColortypesDone1/summer/00002484.jpg\n",
            "ColortypesDone1/summer/00002511.jpg\n",
            "ColortypesDone1/summer/00002645.jpg\n",
            "ColortypesDone1/summer/00002879.jpg\n",
            "ColortypesDone1/summer/00003030.jpg\n",
            "ColortypesDone1/summer/00003531.jpg\n",
            "ColortypesDone1/summer/00003636.jpg\n",
            "ColortypesDone1/summer/00003743.jpg\n",
            "ColortypesDone1/summer/00003780.jpg\n",
            "ColortypesDone1/summer/00003858.jpg\n",
            "ColortypesDone1/summer/00003879.jpg\n",
            "ColortypesDone1/summer/00004526.jpg\n",
            "ColortypesDone1/summer/00004995.jpg\n",
            "ColortypesDone1/summer/00005084.jpg\n",
            "ColortypesDone1/summer/00005710.jpg\n",
            "ColortypesDone1/summer/00005849.jpg\n",
            "ColortypesDone1/summer/th-2126298104-736x736.jpg\n",
            "ColortypesDone1/summer/th-2126398971-589x736.jpg\n",
            "ColortypesDone1/summer/th-2126401948-589x736.jpg\n",
            "ColortypesDone1/summer/th-2126453615-738x736.jpg\n",
            "ColortypesDone1/summer/th-2126455283-589x736.jpg\n",
            "ColortypesDone1/summer/th-2126456925-736x736.jpg\n",
            "ColortypesDone1/summer/th-2126523819-736x736.jpg\n",
            "ColortypesDone1/summer/th-2126531282-589x736.jpg\n",
            "ColortypesDone1/summer/th-2126540623-640x640.jpg\n",
            "ColortypesDone1/summer/th-2126548104-612x612.jpg\n",
            "ColortypesDone1/summer/00000540.jpg\n",
            "ColortypesDone1/summer/00000558.jpg\n",
            "ColortypesDone1/summer/00000609.jpg\n",
            "ColortypesDone1/summer/00000892.jpg\n",
            "ColortypesDone1/summer/00001178.jpg\n",
            "ColortypesDone1/summer/00001221.jpg\n",
            "ColortypesDone1/summer/00001255 (2).jpg\n",
            "ColortypesDone1/summer/00001480 (2).jpg\n",
            "ColortypesDone1/summer/00001735.jpg\n",
            "ColortypesDone1/summer/00001742.jpg\n",
            "ColortypesDone1/summer/00001844.jpg\n",
            "ColortypesDone1/summer/00002014.jpg\n",
            "ColortypesDone1/summer/00002283.jpg\n",
            "ColortypesDone1/summer/00000287.jpg\n",
            "ColortypesDone1/summer/00000288.jpg\n"
          ],
          "name": "stdout"
        }
      ]
    },
    {
      "cell_type": "code",
      "metadata": {
        "id": "uaECdDrONdL1"
      },
      "source": [
        "name_for_subdir = 'bad_contrast_2'\n",
        "list_of_name_to_search = save_third_trechold_change\n",
        "\n",
        "for element in list_of_name_to_search:\n",
        "  new_name = shutil.copy(element, name_for_subdir)\n"
      ],
      "execution_count": null,
      "outputs": []
    },
    {
      "cell_type": "markdown",
      "metadata": {
        "id": "4naPUTlIQg6j"
      },
      "source": [
        "Таааак, теперь в откинутые фотки, попали вполне нормальные. Значит иедальный параметр где-то между 0.2 и 0.4. Попробуем найти нужный параметр бинарной сортировокой"
      ]
    },
    {
      "cell_type": "code",
      "metadata": {
        "id": "vqf4pn7DNYoV"
      },
      "source": [
        "curr_treshhold_param = 0.3"
      ],
      "execution_count": null,
      "outputs": []
    },
    {
      "cell_type": "code",
      "metadata": {
        "id": "X_tMwDmZTla1"
      },
      "source": [
        "passed_images_names = []\n",
        "passed_images_brightness = []"
      ],
      "execution_count": null,
      "outputs": []
    },
    {
      "cell_type": "code",
      "metadata": {
        "id": "jA-lHnxfTla4"
      },
      "source": [
        "for image_name in list_of_all_imges:\n",
        "  if not is_low_contrast(imread(image_name), fraction_threshold=curr_treshhold_param):\n",
        "    passed_images_names.append(image_name)\n",
        "    passed_images_brightness.append(brightness(image_name))"
      ],
      "execution_count": null,
      "outputs": []
    },
    {
      "cell_type": "code",
      "metadata": {
        "colab": {
          "base_uri": "https://localhost:8080/"
        },
        "id": "Db1oRROVTla5",
        "outputId": "9c2d6907-0482-4b64-c204-ff83e384d8bb"
      },
      "source": [
        "print(len(passed_images_names))\n",
        "print(len(list_of_all_imges))"
      ],
      "execution_count": null,
      "outputs": [
        {
          "output_type": "stream",
          "text": [
            "6303\n",
            "6503\n"
          ],
          "name": "stdout"
        }
      ]
    },
    {
      "cell_type": "code",
      "metadata": {
        "id": "kvOQH6EATla8"
      },
      "source": [
        "save_fourth_trechold_change = []"
      ],
      "execution_count": null,
      "outputs": []
    },
    {
      "cell_type": "code",
      "metadata": {
        "id": "v8hpg7P_Tla-"
      },
      "source": [
        "for image in list_of_all_imges:\n",
        "  if image not in passed_images_names:\n",
        "    save_fourth_trechold_change.append(image)"
      ],
      "execution_count": null,
      "outputs": []
    },
    {
      "cell_type": "code",
      "metadata": {
        "id": "-zaGABvZTlbB"
      },
      "source": [
        "name_for_subdir = 'bad_contrast_3'\n",
        "list_of_name_to_search = save_fourth_trechold_change\n",
        "\n",
        "for element in list_of_name_to_search:\n",
        "  new_name = shutil.copy(element, name_for_subdir)\n"
      ],
      "execution_count": null,
      "outputs": []
    },
    {
      "cell_type": "markdown",
      "metadata": {
        "id": "FASHiVQ8WW-r"
      },
      "source": [
        "Большое количество фоток оказались нормальными. Уменьшим трешхолд"
      ]
    },
    {
      "cell_type": "code",
      "metadata": {
        "id": "u1VwBy_RXDFQ"
      },
      "source": [
        "curr_treshhold_param = 0.25"
      ],
      "execution_count": null,
      "outputs": []
    },
    {
      "cell_type": "code",
      "metadata": {
        "id": "hDv8TrQQXDFR"
      },
      "source": [
        "passed_images_names = []\n",
        "passed_images_brightness = []"
      ],
      "execution_count": null,
      "outputs": []
    },
    {
      "cell_type": "code",
      "metadata": {
        "id": "BHVTAaZgXDFS"
      },
      "source": [
        "for image_name in list_of_all_imges:\n",
        "  if not is_low_contrast(imread(image_name), fraction_threshold=curr_treshhold_param):\n",
        "    passed_images_names.append(image_name)\n",
        "    passed_images_brightness.append(brightness(image_name))"
      ],
      "execution_count": null,
      "outputs": []
    },
    {
      "cell_type": "code",
      "metadata": {
        "colab": {
          "base_uri": "https://localhost:8080/"
        },
        "id": "cmrkTcfxXDFT",
        "outputId": "2245fa28-59ac-4020-c3d8-40eb629615a0"
      },
      "source": [
        "print(len(passed_images_names))\n",
        "print(len(list_of_all_imges))"
      ],
      "execution_count": null,
      "outputs": [
        {
          "output_type": "stream",
          "text": [
            "6435\n",
            "6503\n"
          ],
          "name": "stdout"
        }
      ]
    },
    {
      "cell_type": "code",
      "metadata": {
        "id": "GjMDHW9XXDFT"
      },
      "source": [
        "save_fifth_trechold_change = []"
      ],
      "execution_count": null,
      "outputs": []
    },
    {
      "cell_type": "code",
      "metadata": {
        "id": "so-IuHc6XDFT"
      },
      "source": [
        "for image in list_of_all_imges:\n",
        "  if image not in passed_images_names:\n",
        "    save_fifth_trechold_change.append(image)"
      ],
      "execution_count": null,
      "outputs": []
    },
    {
      "cell_type": "code",
      "metadata": {
        "id": "KNbc6m47XDFU"
      },
      "source": [
        "name_for_subdir = 'bad_contrast_4'\n",
        "list_of_name_to_search = save_fifth_trechold_change\n",
        "\n",
        "for element in list_of_name_to_search:\n",
        "  new_name = shutil.copy(element, name_for_subdir)\n"
      ],
      "execution_count": null,
      "outputs": []
    },
    {
      "cell_type": "markdown",
      "metadata": {
        "id": "MjxFTY1yZkNa"
      },
      "source": [
        "Уже сильно лучше, попробуем еще сильнее уменьшить, чтобы попытаться улучшить результат"
      ]
    },
    {
      "cell_type": "code",
      "metadata": {
        "id": "Z4jZmLVpZsqE"
      },
      "source": [
        "curr_treshhold_param = 0.225"
      ],
      "execution_count": null,
      "outputs": []
    },
    {
      "cell_type": "code",
      "metadata": {
        "id": "TP_Mu_ZnZsqE"
      },
      "source": [
        "passed_images_names = []\n",
        "passed_images_brightness = []"
      ],
      "execution_count": null,
      "outputs": []
    },
    {
      "cell_type": "code",
      "metadata": {
        "id": "NWntjF8UZsqF"
      },
      "source": [
        "for image_name in list_of_all_imges:\n",
        "  if not is_low_contrast(imread(image_name), fraction_threshold=curr_treshhold_param):\n",
        "    passed_images_names.append(image_name)\n",
        "    passed_images_brightness.append(brightness(image_name))"
      ],
      "execution_count": null,
      "outputs": []
    },
    {
      "cell_type": "code",
      "metadata": {
        "colab": {
          "base_uri": "https://localhost:8080/"
        },
        "id": "DPGSksKUZsqF",
        "outputId": "fdb1ae47-b8b7-4aae-aa83-2e21327c0bab"
      },
      "source": [
        "print(len(passed_images_names))\n",
        "print(len(list_of_all_imges))"
      ],
      "execution_count": null,
      "outputs": [
        {
          "output_type": "stream",
          "text": [
            "6459\n",
            "6503\n"
          ],
          "name": "stdout"
        }
      ]
    },
    {
      "cell_type": "code",
      "metadata": {
        "id": "bdP_x8_cZsqG"
      },
      "source": [
        "ss = []"
      ],
      "execution_count": null,
      "outputs": []
    },
    {
      "cell_type": "code",
      "metadata": {
        "id": "k8lQco2tZsqG"
      },
      "source": [
        "for image in list_of_all_imges:\n",
        "  if image not in passed_images_names:\n",
        "    ss.append(image)"
      ],
      "execution_count": null,
      "outputs": []
    },
    {
      "cell_type": "code",
      "metadata": {
        "id": "1w-F0bYCZsqI"
      },
      "source": [
        "name_for_subdir = 'bad_contrast_5'\n",
        "list_of_name_to_search = ss\n",
        "\n",
        "for element in list_of_name_to_search:\n",
        "  new_name = shutil.copy(element, name_for_subdir)\n"
      ],
      "execution_count": null,
      "outputs": []
    },
    {
      "cell_type": "markdown",
      "metadata": {
        "id": "r3vLRdop0eZO"
      },
      "source": [
        "Прям идеальный параметр"
      ]
    },
    {
      "cell_type": "markdown",
      "metadata": {
        "id": "WYdM-52i7qL1"
      },
      "source": [
        "Заново построим диаграмму данных, отобранных is_low_contrast"
      ]
    },
    {
      "cell_type": "code",
      "metadata": {
        "colab": {
          "base_uri": "https://localhost:8080/"
        },
        "id": "HynCWSPj74_i",
        "outputId": "54525814-1a77-4195-f9ae-d96bcaa1329e"
      },
      "source": [
        "max(passed_images_brightness)"
      ],
      "execution_count": null,
      "outputs": [
        {
          "output_type": "execute_result",
          "data": {
            "text/plain": [
              "244.91566529492457"
            ]
          },
          "metadata": {
            "tags": []
          },
          "execution_count": 36
        }
      ]
    },
    {
      "cell_type": "code",
      "metadata": {
        "colab": {
          "base_uri": "https://localhost:8080/"
        },
        "id": "zy8vmGDN74_t",
        "outputId": "83e8eb3e-45cf-41d4-daf9-3fccfeea711b"
      },
      "source": [
        "min(passed_images_brightness)"
      ],
      "execution_count": null,
      "outputs": [
        {
          "output_type": "execute_result",
          "data": {
            "text/plain": [
              "3.8201941015089163"
            ]
          },
          "metadata": {
            "tags": []
          },
          "execution_count": 37
        }
      ]
    },
    {
      "cell_type": "code",
      "metadata": {
        "colab": {
          "base_uri": "https://localhost:8080/",
          "height": 756
        },
        "id": "JH8KNOOK74_w",
        "outputId": "fad44c4d-7bc0-4325-8aec-5272493f4f67"
      },
      "source": [
        "plt.figure(figsize=(36, 14))\n",
        "counts, edges, plot = plt.hist(np.sort(passed_images_brightness), bins=240)\n",
        "plt.xticks(rotation=30)"
      ],
      "execution_count": null,
      "outputs": [
        {
          "output_type": "execute_result",
          "data": {
            "text/plain": [
              "(array([-50.,   0.,  50., 100., 150., 200., 250., 300.]),\n",
              " <a list of 8 Text major ticklabel objects>)"
            ]
          },
          "metadata": {
            "tags": []
          },
          "execution_count": 40
        },
        {
          "output_type": "display_data",
          "data": {
            "image/png": "[encoded data removed]",
            "text/plain": [
              "<Figure size 2592x1008 with 1 Axes>"
            ]
          },
          "metadata": {
            "tags": [],
            "needs_background": "light"
          }
        }
      ]
    },
    {
      "cell_type": "markdown",
      "metadata": {
        "id": "iJMIlgkS74_y"
      },
      "source": [
        "# Проведем линию по 10% всех самых ярких и самых тусклых картинок #"
      ]
    },
    {
      "cell_type": "code",
      "metadata": {
        "colab": {
          "base_uri": "https://localhost:8080/"
        },
        "id": "Ua__nlaC74_0",
        "outputId": "483c4df6-d6d2-4924-b07a-c8fcaaa88125"
      },
      "source": [
        "stopping_value = 650\n",
        "current_count = 0\n",
        "i = 0\n",
        "\n",
        "while current_count < stopping_value:\n",
        "  current_count += counts[i]\n",
        "  i += 1\n",
        "\n",
        "print(i)\n",
        "print(edges[i])"
      ],
      "execution_count": null,
      "outputs": [
        {
          "output_type": "stream",
          "text": [
            "75\n",
            "79.1625288494513\n"
          ],
          "name": "stdout"
        }
      ]
    },
    {
      "cell_type": "code",
      "metadata": {
        "id": "kUjSLj3674_2"
      },
      "source": [
        "left_border = edges[i]"
      ],
      "execution_count": null,
      "outputs": []
    },
    {
      "cell_type": "code",
      "metadata": {
        "colab": {
          "base_uri": "https://localhost:8080/"
        },
        "id": "C-HHizfA74_4",
        "outputId": "7513d1af-6f2e-4cbf-e1c4-b9418c73e0f0"
      },
      "source": [
        "current_count = 0\n",
        "i = len(counts) - 1\n",
        "\n",
        "while current_count < stopping_value:\n",
        "  current_count += counts[i]\n",
        "  i -= 1\n",
        "\n",
        "print(i)\n",
        "print(edges[i])"
      ],
      "execution_count": null,
      "outputs": [
        {
          "output_type": "stream",
          "text": [
            "167\n",
            "171.58245947359399\n"
          ],
          "name": "stdout"
        }
      ]
    },
    {
      "cell_type": "code",
      "metadata": {
        "id": "US5JOWjH74_6"
      },
      "source": [
        "right_border = edges[i]"
      ],
      "execution_count": null,
      "outputs": []
    },
    {
      "cell_type": "code",
      "metadata": {
        "colab": {
          "base_uri": "https://localhost:8080/",
          "height": 754
        },
        "id": "iivTB5gq74_8",
        "outputId": "70d7afbc-109d-4d71-cf1c-f9ea1921d72a"
      },
      "source": [
        "plt.figure(figsize=(36, 14))\n",
        "counts, edges, plot = plt.hist(np.sort(passed_images_brightness), bins=240)\n",
        "plt.vlines(left_border, 0, 100, color='red', label='left_border')\n",
        "plt.vlines(right_border, 0, 100, color='red', label='right_border')\n",
        "plt.xticks(rotation=30)"
      ],
      "execution_count": null,
      "outputs": [
        {
          "output_type": "execute_result",
          "data": {
            "text/plain": [
              "(array([-50.,   0.,  50., 100., 150., 200., 250., 300.]),\n",
              " <a list of 8 Text major ticklabel objects>)"
            ]
          },
          "metadata": {
            "tags": []
          },
          "execution_count": 45
        },
        {
          "output_type": "display_data",
          "data": {
            "image/png": "[encoded data removed]",
            "text/plain": [
              "<Figure size 2592x1008 with 1 Axes>"
            ]
          },
          "metadata": {
            "tags": [],
            "needs_background": "light"
          }
        }
      ]
    },
    {
      "cell_type": "markdown",
      "metadata": {
        "id": "IrSc4FE274_-"
      },
      "source": [
        "Получились новые границы:\n",
        "граница слева равна 75, а граница справа равна 167"
      ]
    }
  ]
}